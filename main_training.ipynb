{
 "cells": [
  {
   "cell_type": "markdown",
   "metadata": {},
   "source": [
    "# Train Agents\n"
   ]
  },
  {
   "cell_type": "code",
   "execution_count": 1,
   "metadata": {},
   "outputs": [],
   "source": [
    "import os\n",
    "import torch\n",
    "from tqdm import tqdm\n",
    "import numpy as np\n",
    "from stable_baselines3 import DQN\n",
    "import warnings\n",
    "import pandas as pd\n",
    "import gc  # Import garbage collector module\n",
    "\n",
    "warnings.filterwarnings(\"ignore\")"
   ]
  },
  {
   "cell_type": "code",
   "execution_count": 2,
   "metadata": {},
   "outputs": [],
   "source": [
    "# ensure the module is re-imported after changes\n",
    "import importlib\n",
    "\n",
    "import datasets.dataset_utils\n",
    "importlib.reload(datasets.dataset_utils)\n",
    "\n",
    "from datasets.dataset_utils import set_all_seeds, create_environment, load_dataset, preprocess_and_split, create_dataloaders, load_and_prepare_dataset"
   ]
  },
  {
   "cell_type": "code",
   "execution_count": 3,
   "metadata": {},
   "outputs": [],
   "source": [
    "# ensure the module is re-imported after changes\n",
    "import importlib\n",
    "\n",
    "import offline_rl_models.behavioral_cloning_bc.bc_utils\n",
    "importlib.reload(offline_rl_models.behavioral_cloning_bc.bc_utils)\n",
    "\n",
    "from offline_rl_models.behavioral_cloning_bc.bc_utils import train_and_evaluate_BC\n",
    "\n",
    "import offline_rl_models.implicit_q_learning_iql.iql_utils\n",
    "importlib.reload(offline_rl_models.implicit_q_learning_iql.iql_utils)\n",
    "\n",
    "from offline_rl_models.implicit_q_learning_iql.iql_utils import train_and_evaluate_IQL\n",
    "\n",
    "import offline_rl_models.behavior_value_estimation_bve.bve_utils\n",
    "importlib.reload(offline_rl_models.behavior_value_estimation_bve.bve_utils)\n",
    "\n",
    "from offline_rl_models.behavior_value_estimation_bve.bve_utils import train_and_evaluate_BVE"
   ]
  },
  {
   "cell_type": "code",
   "execution_count": 4,
   "metadata": {},
   "outputs": [],
   "source": [
    "SEED = 12345\n",
    "ENV_ID = 'SeaquestNoFrameskip-v4'\n",
    "EPOCHS = 10\n",
    "SEEDS = 3\n",
    "BATCH_SIZE = 64"
   ]
  },
  {
   "cell_type": "code",
   "execution_count": 5,
   "metadata": {},
   "outputs": [
    {
     "name": "stdout",
     "output_type": "stream",
     "text": [
      "Device: cuda\n"
     ]
    }
   ],
   "source": [
    "# set seed for reproducability\n",
    "set_all_seeds(SEED)\n",
    "\n",
    "# force PyTorch to use CPU\n",
    "device = \"cuda\" if torch.cuda.is_available() else \"cpu\"\n",
    "print(f\"Device: {device}\")\n",
    "\n",
    "# initialize enviornment\n",
    "env = create_environment(env_id=ENV_ID, seed=SEED)"
   ]
  },
  {
   "cell_type": "markdown",
   "metadata": {},
   "source": [
    "# Training all agents on: Beginner Dataset"
   ]
  },
  {
   "cell_type": "markdown",
   "metadata": {},
   "source": [
    "### 0% Perturbation"
   ]
  },
  {
   "cell_type": "code",
   "execution_count": 6,
   "metadata": {},
   "outputs": [
    {
     "name": "stdout",
     "output_type": "stream",
     "text": [
      "=== Loading seaquest_beginner_perturb0 dataset ===\n",
      "Preprocessing and splitting seaquest_beginner_perturb0 dataset...\n",
      "Creating dataloaders for seaquest_beginner_perturb0...\n",
      "Dataloaders ready for: seaquest_beginner_perturb0\n"
     ]
    }
   ],
   "source": [
    "dataloaders = load_and_prepare_dataset(\n",
    "    dataset_path='datasets/beginner_logs/seaquest_beginner_perturb0.pkl',\n",
    "    batch_size=BATCH_SIZE,\n",
    "    seed=SEED\n",
    ")"
   ]
  },
  {
   "cell_type": "markdown",
   "metadata": {},
   "source": [
    "## BC"
   ]
  },
  {
   "cell_type": "code",
   "execution_count": null,
   "metadata": {},
   "outputs": [
    {
     "name": "stdout",
     "output_type": "stream",
     "text": [
      "Training BC on seaquest_beginner_perturb0\n",
      "-- Starting Seed 1/3 --\n"
     ]
    },
    {
     "name": "stderr",
     "output_type": "stream",
     "text": [
      "Epochs:   0%|          | 0/10 [00:00<?, ?it/s]"
     ]
    }
   ],
   "source": [
    "%%time\n",
    "\n",
    "# train and evaluate the BC model on the Beginner dataset with 0% perturbation\n",
    "train_and_evaluate_BC(\n",
    "    dataloaders=dataloaders,\n",
    "    device=device,\n",
    "    seeds=SEEDS,\n",
    "    epochs=EPOCHS,\n",
    "    dataset='seaquest_beginner_perturb0',\n",
    "    env_id=ENV_ID,\n",
    "    seed=SEED\n",
    ")\n",
    "\n",
    "# print execution time it took to train the model\n",
    "print(\"----- Execution time: BC - Beginner | Perturbation 0% -----\")"
   ]
  },
  {
   "cell_type": "markdown",
   "metadata": {},
   "source": [
    "## IQL"
   ]
  },
  {
   "cell_type": "code",
   "execution_count": 7,
   "metadata": {},
   "outputs": [
    {
     "name": "stdout",
     "output_type": "stream",
     "text": [
      "Training IQL on seaquest_beginner_perturb0\n",
      "-- Starting Seed 1/3 --\n"
     ]
    },
    {
     "name": "stderr",
     "output_type": "stream",
     "text": [
      "Epochs: 100%|██████████| 10/10 [1:04:33<00:00, 387.38s/it]\n"
     ]
    },
    {
     "name": "stdout",
     "output_type": "stream",
     "text": [
      "Finished Training on seaquest_beginner_perturb0\n",
      "    ➤ Avg Actor Loss: -0.83623\n",
      "    ➤ Avg Critic1 Loss: -2.64333\n",
      "    ➤ Avg Critic2 Loss: -2.65399\n",
      "    ➤ Avg Value Loss: -3.38895\n",
      "    ➤ Avg Test Loss: 0.04530\n",
      "    ➤ Avg Reward: 188.00\n",
      "Model saved to agent_methods/implicit_q_learning_iql/iql_logs/seaquest_beginner/perturb0/iql_model_perturb0.pth\n",
      "-- Starting Seed 2/3 --\n"
     ]
    },
    {
     "name": "stderr",
     "output_type": "stream",
     "text": [
      "Epochs: 100%|██████████| 10/10 [1:04:09<00:00, 384.91s/it]\n"
     ]
    },
    {
     "name": "stdout",
     "output_type": "stream",
     "text": [
      "Finished Training on seaquest_beginner_perturb0\n",
      "    ➤ Avg Actor Loss: -0.85013\n",
      "    ➤ Avg Critic1 Loss: -2.67549\n",
      "    ➤ Avg Critic2 Loss: -2.65668\n",
      "    ➤ Avg Value Loss: -3.38000\n",
      "    ➤ Avg Test Loss: 0.03654\n",
      "    ➤ Avg Reward: 148.00\n",
      "-- Starting Seed 3/3 --\n"
     ]
    },
    {
     "name": "stderr",
     "output_type": "stream",
     "text": [
      "Epochs: 100%|██████████| 10/10 [1:10:25<00:00, 422.57s/it]\n"
     ]
    },
    {
     "name": "stdout",
     "output_type": "stream",
     "text": [
      "Finished Training on seaquest_beginner_perturb0\n",
      "    ➤ Avg Actor Loss: -0.65777\n",
      "    ➤ Avg Critic1 Loss: -2.59554\n",
      "    ➤ Avg Critic2 Loss: -2.58297\n",
      "    ➤ Avg Value Loss: -3.36736\n",
      "    ➤ Avg Test Loss: 0.03317\n",
      "    ➤ Avg Reward: 156.00\n",
      "Return Stats saved to agent_methods/implicit_q_learning_iql/iql_logs/seaquest_beginner/perturb0/stats_perturb0.pkl\n",
      "----- Execution time: IQL - Beginner | Perturbation 0% -----\n",
      "CPU times: total: 3h 55min 8s\n",
      "Wall time: 3h 19min 21s\n"
     ]
    }
   ],
   "source": [
    "%%time\n",
    "\n",
    "# train and evaluate the IQL model on the Beginner dataset with 0% perturbation\n",
    "train_and_evaluate_IQL(\n",
    "    dataloaders=dataloaders,\n",
    "    device=device,\n",
    "    seeds=SEEDS,\n",
    "    epochs=EPOCHS,\n",
    "    dataset='seaquest_beginner_perturb0',\n",
    "    env_id=ENV_ID,\n",
    "    seed=SEED\n",
    ")\n",
    "\n",
    "# print execution time it took to train the model\n",
    "print(\"----- Execution time: IQL - Beginner | Perturbation 0% -----\") "
   ]
  },
  {
   "cell_type": "markdown",
   "metadata": {},
   "source": [
    "## BVE"
   ]
  },
  {
   "cell_type": "code",
   "execution_count": 7,
   "metadata": {},
   "outputs": [
    {
     "name": "stdout",
     "output_type": "stream",
     "text": [
      "Training BVE on seaquest_beginner_perturb0\n",
      "-- Starting Seed 1/3 --\n"
     ]
    },
    {
     "name": "stderr",
     "output_type": "stream",
     "text": [
      "Epochs: 100%|██████████| 10/10 [1:08:19<00:00, 409.99s/it]\n"
     ]
    },
    {
     "name": "stdout",
     "output_type": "stream",
     "text": [
      "Finished Training on seaquest_beginner_perturb0\n",
      "    ➤ Avg Train Loss: -2.47953\n",
      "    ➤ Avg Test Loss: -2.35064\n",
      "    ➤ Avg Reward: 80.00\n",
      "Saved model to agent_methods/behavior_value_estimation_bve/bve_logs/seaquest_beginner/perturb0/bve_model_perturb0.pth\n",
      "-- Starting Seed 2/3 --\n"
     ]
    },
    {
     "name": "stderr",
     "output_type": "stream",
     "text": [
      "Epochs: 100%|██████████| 10/10 [1:08:50<00:00, 413.05s/it]\n"
     ]
    },
    {
     "name": "stdout",
     "output_type": "stream",
     "text": [
      "Finished Training on seaquest_beginner_perturb0\n",
      "    ➤ Avg Train Loss: -2.47857\n",
      "    ➤ Avg Test Loss: -2.45743\n",
      "    ➤ Avg Reward: 118.40\n",
      "-- Starting Seed 3/3 --\n"
     ]
    },
    {
     "name": "stderr",
     "output_type": "stream",
     "text": [
      "Epochs: 100%|██████████| 10/10 [1:09:26<00:00, 416.69s/it]\n"
     ]
    },
    {
     "name": "stdout",
     "output_type": "stream",
     "text": [
      "Finished Training on seaquest_beginner_perturb0\n",
      "    ➤ Avg Train Loss: -2.44482\n",
      "    ➤ Avg Test Loss: -2.45266\n",
      "    ➤ Avg Reward: 90.00\n",
      "Saved stats to agent_methods/behavior_value_estimation_bve/bve_logs/seaquest_beginner/perturb0/stats_perturb0.pkl\n",
      "----- Execution time: BVE - Beginner | Perturbation 0% -----\n",
      "CPU times: total: 4h 1min 45s\n",
      "Wall time: 3h 26min 47s\n"
     ]
    }
   ],
   "source": [
    "%%time\n",
    "\n",
    "# train and evaluate the BVE model on the Beginner dataset with 0% perturbation\n",
    "train_and_evaluate_BVE(\n",
    "    dataloaders=dataloaders,\n",
    "    device=device,\n",
    "    seeds=SEEDS,\n",
    "    epochs=EPOCHS,\n",
    "    dataset='seaquest_beginner_perturb0',\n",
    "    env_id=ENV_ID,\n",
    "    seed=SEED\n",
    ")\n",
    "\n",
    "# print execution time it took to train the model\n",
    "print(\"----- Execution time: BVE - Beginner | Perturbation 0% -----\")"
   ]
  },
  {
   "cell_type": "markdown",
   "metadata": {},
   "source": [
    "-----------------------------"
   ]
  },
  {
   "cell_type": "markdown",
   "metadata": {},
   "source": [
    "### 5% Perturbation"
   ]
  },
  {
   "cell_type": "code",
   "execution_count": 6,
   "metadata": {},
   "outputs": [
    {
     "name": "stdout",
     "output_type": "stream",
     "text": [
      "=== Loading seaquest_beginner_perturb5 dataset ===\n",
      "Preprocessing and splitting seaquest_beginner_perturb5 dataset...\n",
      "Creating dataloaders for seaquest_beginner_perturb5...\n",
      "Dataloaders ready for: seaquest_beginner_perturb5\n",
      "dict_keys(['seaquest_beginner_perturb5'])\n"
     ]
    }
   ],
   "source": [
    "dataloaders = load_and_prepare_dataset(\n",
    "    dataset_path='datasets/beginner_logs/seaquest_beginner_perturb5.pkl',\n",
    "    batch_size=BATCH_SIZE,\n",
    "    seed=SEED\n",
    ")\n",
    "\n",
    "print(dataloaders.keys())"
   ]
  },
  {
   "cell_type": "markdown",
   "metadata": {},
   "source": [
    "## BC"
   ]
  },
  {
   "cell_type": "code",
   "execution_count": 7,
   "metadata": {},
   "outputs": [
    {
     "name": "stdout",
     "output_type": "stream",
     "text": [
      "Training BC on seaquest_beginner_perturb5\n",
      "-- Starting Seed 1/3 --\n"
     ]
    },
    {
     "name": "stderr",
     "output_type": "stream",
     "text": [
      "Epochs: 100%|██████████| 10/10 [52:22<00:00, 314.29s/it]\n"
     ]
    },
    {
     "name": "stdout",
     "output_type": "stream",
     "text": [
      "Finished Training on seaquest_beginner_perturb5\n",
      "    ➤ Avg Train Loss: -0.19064\n",
      "    ➤ Avg Test Loss: 0.08850\n",
      "    ➤ Avg Reward: 214.00\n",
      "Model saved to agent_methods/behavioral_cloning_bc/bc_logs/seaquest_beginner/perturb5/bc_model_perturb5.pth\n",
      "-- Starting Seed 2/3 --\n"
     ]
    },
    {
     "name": "stderr",
     "output_type": "stream",
     "text": [
      "Epochs: 100%|██████████| 10/10 [51:51<00:00, 311.17s/it]\n"
     ]
    },
    {
     "name": "stdout",
     "output_type": "stream",
     "text": [
      "Finished Training on seaquest_beginner_perturb5\n",
      "    ➤ Avg Train Loss: -0.15716\n",
      "    ➤ Avg Test Loss: 0.07163\n",
      "    ➤ Avg Reward: 218.00\n",
      "-- Starting Seed 3/3 --\n"
     ]
    },
    {
     "name": "stderr",
     "output_type": "stream",
     "text": [
      "Epochs: 100%|██████████| 10/10 [51:46<00:00, 310.68s/it]\n"
     ]
    },
    {
     "name": "stdout",
     "output_type": "stream",
     "text": [
      "Finished Training on seaquest_beginner_perturb5\n",
      "    ➤ Avg Train Loss: -0.17560\n",
      "    ➤ Avg Test Loss: 0.07710\n",
      "    ➤ Avg Reward: 220.00\n",
      "Return Stats saved to agent_methods/behavioral_cloning_bc/bc_logs/seaquest_beginner/perturb5/stats_perturb5.pkl\n",
      "----- Execution time: BC - Beginner | Perturbation 5% -----\n",
      "CPU times: total: 3h 14min 55s\n",
      "Wall time: 2h 36min 8s\n"
     ]
    }
   ],
   "source": [
    "%%time\n",
    "\n",
    "# train and evaluate the BC model on the Beginner dataset with 5% perturbation\n",
    "train_and_evaluate_BC(\n",
    "    dataloaders=dataloaders,\n",
    "    device=device,\n",
    "    seeds=SEEDS,\n",
    "    epochs=EPOCHS,\n",
    "    dataset='seaquest_beginner_perturb5',\n",
    "    env_id=ENV_ID,\n",
    "    seed=SEED\n",
    ")\n",
    "\n",
    "# print execution time it took to train the model\n",
    "print(\"----- Execution time: BC - Beginner | Perturbation 5% -----\")"
   ]
  },
  {
   "cell_type": "markdown",
   "metadata": {},
   "source": [
    "## IQL"
   ]
  },
  {
   "cell_type": "code",
   "execution_count": 7,
   "metadata": {},
   "outputs": [
    {
     "name": "stdout",
     "output_type": "stream",
     "text": [
      "Training IQL on seaquest_beginner_perturb5\n",
      "-- Starting Seed 1/3 --\n"
     ]
    },
    {
     "name": "stderr",
     "output_type": "stream",
     "text": [
      "Epochs: 100%|██████████| 10/10 [1:04:18<00:00, 385.87s/it]\n"
     ]
    },
    {
     "name": "stdout",
     "output_type": "stream",
     "text": [
      "Finished Training on seaquest_beginner_perturb5\n",
      "    ➤ Avg Actor Loss: -0.47796\n",
      "    ➤ Avg Critic1 Loss: -2.53296\n",
      "    ➤ Avg Critic2 Loss: -2.55300\n",
      "    ➤ Avg Value Loss: -3.32596\n",
      "    ➤ Avg Test Loss: 0.14116\n",
      "    ➤ Avg Reward: 194.00\n",
      "Model saved to agent_methods/implicit_q_learning_iql/iql_logs/seaquest_beginner/perturb5/iql_model_perturb5.pth\n",
      "-- Starting Seed 2/3 --\n"
     ]
    },
    {
     "name": "stderr",
     "output_type": "stream",
     "text": [
      "Epochs: 100%|██████████| 10/10 [1:03:53<00:00, 383.37s/it]\n"
     ]
    },
    {
     "name": "stdout",
     "output_type": "stream",
     "text": [
      "Finished Training on seaquest_beginner_perturb5\n",
      "    ➤ Avg Actor Loss: -0.67254\n",
      "    ➤ Avg Critic1 Loss: -2.64086\n",
      "    ➤ Avg Critic2 Loss: -2.62093\n",
      "    ➤ Avg Value Loss: -3.37172\n",
      "    ➤ Avg Test Loss: 0.14403\n",
      "    ➤ Avg Reward: 142.00\n",
      "-- Starting Seed 3/3 --\n"
     ]
    },
    {
     "name": "stderr",
     "output_type": "stream",
     "text": [
      "Epochs: 100%|██████████| 10/10 [1:06:43<00:00, 400.38s/it]\n"
     ]
    },
    {
     "name": "stdout",
     "output_type": "stream",
     "text": [
      "Finished Training on seaquest_beginner_perturb5\n",
      "    ➤ Avg Actor Loss: -0.56072\n",
      "    ➤ Avg Critic1 Loss: -2.58448\n",
      "    ➤ Avg Critic2 Loss: -2.57717\n",
      "    ➤ Avg Value Loss: -3.37373\n",
      "    ➤ Avg Test Loss: 0.13988\n",
      "    ➤ Avg Reward: 188.00\n",
      "Return Stats saved to agent_methods/implicit_q_learning_iql/iql_logs/seaquest_beginner/perturb5/stats_perturb5.pkl\n",
      "----- Execution time: IQL - Beginner | Perturbation 5% -----\n",
      "CPU times: total: 3h 51min 43s\n",
      "Wall time: 3h 15min 9s\n"
     ]
    }
   ],
   "source": [
    "%%time\n",
    "\n",
    "# train and evaluate the IQL model on the Beginner dataset with 5% perturbation\n",
    "train_and_evaluate_IQL(\n",
    "    dataloaders=dataloaders,\n",
    "    device=device,\n",
    "    seeds=SEEDS,\n",
    "    epochs=EPOCHS,\n",
    "    dataset='seaquest_beginner_perturb5',\n",
    "    env_id=ENV_ID,\n",
    "    seed=SEED\n",
    ")\n",
    "\n",
    "# print execution time it took to train the model\n",
    "print(\"----- Execution time: IQL - Beginner | Perturbation 5% -----\") "
   ]
  },
  {
   "cell_type": "markdown",
   "metadata": {},
   "source": [
    "## BVE"
   ]
  },
  {
   "cell_type": "code",
   "execution_count": 7,
   "metadata": {},
   "outputs": [
    {
     "name": "stdout",
     "output_type": "stream",
     "text": [
      "Training BVE on seaquest_beginner_perturb5\n",
      "-- Starting Seed 1/3 --\n"
     ]
    },
    {
     "name": "stderr",
     "output_type": "stream",
     "text": [
      "Epochs: 100%|██████████| 10/10 [1:06:12<00:00, 397.22s/it]\n"
     ]
    },
    {
     "name": "stdout",
     "output_type": "stream",
     "text": [
      "Finished Training on seaquest_beginner_perturb5\n",
      "    ➤ Avg Train Loss: -2.50455\n",
      "    ➤ Avg Test Loss: -2.37970\n",
      "    ➤ Avg Reward: 74.00\n",
      "Saved model to agent_methods/behavior_value_estimation_bve/bve_logs/seaquest_beginner/perturb5/bve_model_perturb5.pth\n",
      "-- Starting Seed 2/3 --\n"
     ]
    },
    {
     "name": "stderr",
     "output_type": "stream",
     "text": [
      "Epochs: 100%|██████████| 10/10 [1:07:57<00:00, 407.80s/it]\n"
     ]
    },
    {
     "name": "stdout",
     "output_type": "stream",
     "text": [
      "Finished Training on seaquest_beginner_perturb5\n",
      "    ➤ Avg Train Loss: -2.49340\n",
      "    ➤ Avg Test Loss: -2.44997\n",
      "    ➤ Avg Reward: 88.00\n",
      "-- Starting Seed 3/3 --\n"
     ]
    },
    {
     "name": "stderr",
     "output_type": "stream",
     "text": [
      "Epochs: 100%|██████████| 10/10 [1:08:08<00:00, 408.85s/it]\n"
     ]
    },
    {
     "name": "stdout",
     "output_type": "stream",
     "text": [
      "Finished Training on seaquest_beginner_perturb5\n",
      "    ➤ Avg Train Loss: -2.39372\n",
      "    ➤ Avg Test Loss: -2.32510\n",
      "    ➤ Avg Reward: 56.00\n",
      "Saved stats to agent_methods/behavior_value_estimation_bve/bve_logs/seaquest_beginner/perturb5/stats_perturb5.pkl\n",
      "----- Execution time: BVE - Beginner | Perturbation 5% -----\n",
      "CPU times: total: 3h 59min 49s\n",
      "Wall time: 3h 22min 27s\n"
     ]
    }
   ],
   "source": [
    "%%time\n",
    "\n",
    "# train and evaluate the BVE model on the Beginner dataset with 5% perturbation\n",
    "train_and_evaluate_BVE(\n",
    "    dataloaders=dataloaders,\n",
    "    device=device,\n",
    "    seeds=SEEDS,\n",
    "    epochs=EPOCHS,\n",
    "    dataset='seaquest_beginner_perturb5',\n",
    "    env_id=ENV_ID,\n",
    "    seed=SEED\n",
    ")\n",
    "\n",
    "# print execution time it took to train the model\n",
    "print(\"----- Execution time: BVE - Beginner | Perturbation 5% -----\")"
   ]
  },
  {
   "cell_type": "markdown",
   "metadata": {},
   "source": [
    "-----------------"
   ]
  },
  {
   "cell_type": "markdown",
   "metadata": {},
   "source": [
    "### 10% Perturbation"
   ]
  },
  {
   "cell_type": "code",
   "execution_count": 6,
   "metadata": {},
   "outputs": [
    {
     "name": "stdout",
     "output_type": "stream",
     "text": [
      "=== Loading seaquest_beginner_perturb10 dataset ===\n",
      "Preprocessing and splitting seaquest_beginner_perturb10 dataset...\n",
      "Creating dataloaders for seaquest_beginner_perturb10...\n",
      "Dataloaders ready for: seaquest_beginner_perturb10\n",
      "dict_keys(['seaquest_beginner_perturb10'])\n"
     ]
    }
   ],
   "source": [
    "dataloaders = load_and_prepare_dataset(\n",
    "    dataset_path='datasets/beginner_logs/seaquest_beginner_perturb10.pkl',\n",
    "    batch_size=BATCH_SIZE,\n",
    "    seed=SEED\n",
    ")\n",
    "\n",
    "print(dataloaders.keys())"
   ]
  },
  {
   "cell_type": "markdown",
   "metadata": {},
   "source": [
    "## BC"
   ]
  },
  {
   "cell_type": "code",
   "execution_count": 7,
   "metadata": {},
   "outputs": [
    {
     "name": "stdout",
     "output_type": "stream",
     "text": [
      "Training BC on seaquest_beginner_perturb10\n",
      "-- Starting Seed 1/3 --\n"
     ]
    },
    {
     "name": "stderr",
     "output_type": "stream",
     "text": [
      "Epochs: 100%|██████████| 10/10 [58:46<00:00, 352.65s/it]\n"
     ]
    },
    {
     "name": "stdout",
     "output_type": "stream",
     "text": [
      "Finished Training on seaquest_beginner_perturb10\n",
      "    ➤ Avg Train Loss: -0.08343\n",
      "    ➤ Avg Test Loss: 0.17054\n",
      "    ➤ Avg Reward: 204.00\n",
      "Model saved to agent_methods/behavioral_cloning_bc/bc_logs/seaquest_beginner/perturb10/bc_model_perturb10.pth\n",
      "-- Starting Seed 2/3 --\n"
     ]
    },
    {
     "name": "stderr",
     "output_type": "stream",
     "text": [
      "Epochs: 100%|██████████| 10/10 [59:23<00:00, 356.30s/it]\n"
     ]
    },
    {
     "name": "stdout",
     "output_type": "stream",
     "text": [
      "Finished Training on seaquest_beginner_perturb10\n",
      "    ➤ Avg Train Loss: -0.06545\n",
      "    ➤ Avg Test Loss: 0.15933\n",
      "    ➤ Avg Reward: 224.00\n",
      "-- Starting Seed 3/3 --\n"
     ]
    },
    {
     "name": "stderr",
     "output_type": "stream",
     "text": [
      "Epochs: 100%|██████████| 10/10 [1:00:02<00:00, 360.29s/it]\n"
     ]
    },
    {
     "name": "stdout",
     "output_type": "stream",
     "text": [
      "Finished Training on seaquest_beginner_perturb10\n",
      "    ➤ Avg Train Loss: -0.05826\n",
      "    ➤ Avg Test Loss: 0.16045\n",
      "    ➤ Avg Reward: 220.00\n",
      "Return Stats saved to agent_methods/behavioral_cloning_bc/bc_logs/seaquest_beginner/perturb10/stats_perturb10.pkl\n",
      "----- Execution time: BC - Beginner | Perturbation 10% -----\n",
      "CPU times: total: 3h 39min 37s\n",
      "Wall time: 2h 58min 20s\n"
     ]
    }
   ],
   "source": [
    "%%time\n",
    "\n",
    "# train and evaluate the BC model on the Beginner dataset with 10% perturbation\n",
    "train_and_evaluate_BC(\n",
    "    dataloaders=dataloaders,\n",
    "    device=device,\n",
    "    seeds=SEEDS,\n",
    "    epochs=EPOCHS,\n",
    "    dataset='seaquest_beginner_perturb10',\n",
    "    env_id=ENV_ID,\n",
    "    seed=SEED\n",
    ")\n",
    "\n",
    "# print execution time it took to train the model\n",
    "print(\"----- Execution time: BC - Beginner | Perturbation 10% -----\")"
   ]
  },
  {
   "cell_type": "markdown",
   "metadata": {},
   "source": [
    "## IQL"
   ]
  },
  {
   "cell_type": "code",
   "execution_count": 7,
   "metadata": {},
   "outputs": [
    {
     "name": "stdout",
     "output_type": "stream",
     "text": [
      "Training IQL on seaquest_beginner_perturb10\n",
      "-- Starting Seed 1/3 --\n"
     ]
    },
    {
     "name": "stderr",
     "output_type": "stream",
     "text": [
      "Epochs: 100%|██████████| 10/10 [1:06:14<00:00, 397.49s/it]\n"
     ]
    },
    {
     "name": "stdout",
     "output_type": "stream",
     "text": [
      "Finished Training on seaquest_beginner_perturb10\n",
      "    ➤ Avg Actor Loss: -0.43965\n",
      "    ➤ Avg Critic1 Loss: -2.51346\n",
      "    ➤ Avg Critic2 Loss: -2.53032\n",
      "    ➤ Avg Value Loss: -3.36091\n",
      "    ➤ Avg Test Loss: 0.19188\n",
      "    ➤ Avg Reward: 170.00\n",
      "Model saved to agent_methods/implicit_q_learning_iql/iql_logs/seaquest_beginner/perturb10/iql_model_perturb10.pth\n",
      "-- Starting Seed 2/3 --\n"
     ]
    },
    {
     "name": "stderr",
     "output_type": "stream",
     "text": [
      "Epochs: 100%|██████████| 10/10 [1:08:07<00:00, 408.71s/it]\n"
     ]
    },
    {
     "name": "stdout",
     "output_type": "stream",
     "text": [
      "Finished Training on seaquest_beginner_perturb10\n",
      "    ➤ Avg Actor Loss: -0.65075\n",
      "    ➤ Avg Critic1 Loss: -2.62577\n",
      "    ➤ Avg Critic2 Loss: -2.61171\n",
      "    ➤ Avg Value Loss: -3.39306\n",
      "    ➤ Avg Test Loss: 0.19203\n",
      "    ➤ Avg Reward: 174.00\n",
      "-- Starting Seed 3/3 --\n"
     ]
    },
    {
     "name": "stderr",
     "output_type": "stream",
     "text": [
      "Epochs: 100%|██████████| 10/10 [1:09:09<00:00, 414.97s/it]\n"
     ]
    },
    {
     "name": "stdout",
     "output_type": "stream",
     "text": [
      "Finished Training on seaquest_beginner_perturb10\n",
      "    ➤ Avg Actor Loss: -0.54737\n",
      "    ➤ Avg Critic1 Loss: -2.57961\n",
      "    ➤ Avg Critic2 Loss: -2.57128\n",
      "    ➤ Avg Value Loss: -3.39913\n",
      "    ➤ Avg Test Loss: 0.18910\n",
      "    ➤ Avg Reward: 166.00\n",
      "Return Stats saved to agent_methods/implicit_q_learning_iql/iql_logs/seaquest_beginner/perturb10/stats_perturb10.pkl\n",
      "----- Execution time: IQL - Beginner | Perturbation 10% -----\n",
      "CPU times: total: 4h 4min\n",
      "Wall time: 3h 23min 44s\n"
     ]
    }
   ],
   "source": [
    "%%time\n",
    "\n",
    "# train and evaluate the IQL model on the Beginner dataset with 10% perturbation\n",
    "train_and_evaluate_IQL(\n",
    "    dataloaders=dataloaders,\n",
    "    device=device,\n",
    "    seeds=SEEDS,\n",
    "    epochs=EPOCHS,\n",
    "    dataset='seaquest_beginner_perturb10',\n",
    "    env_id=ENV_ID,\n",
    "    seed=SEED\n",
    ")\n",
    "\n",
    "# print execution time it took to train the model\n",
    "print(\"----- Execution time: IQL - Beginner | Perturbation 10% -----\") "
   ]
  },
  {
   "cell_type": "markdown",
   "metadata": {},
   "source": [
    "## BVE"
   ]
  },
  {
   "cell_type": "code",
   "execution_count": 7,
   "metadata": {},
   "outputs": [
    {
     "name": "stdout",
     "output_type": "stream",
     "text": [
      "Training BVE on seaquest_beginner_perturb10\n",
      "-- Starting Seed 1/3 --\n"
     ]
    },
    {
     "name": "stderr",
     "output_type": "stream",
     "text": [
      "Epochs: 100%|██████████| 10/10 [1:07:51<00:00, 407.18s/it]\n"
     ]
    },
    {
     "name": "stdout",
     "output_type": "stream",
     "text": [
      "Finished Training on seaquest_beginner_perturb10\n",
      "    ➤ Avg Train Loss: -2.42478\n",
      "    ➤ Avg Test Loss: -2.48109\n",
      "    ➤ Avg Reward: 18.00\n",
      "Saved model to agent_methods/behavior_value_estimation_bve/bve_logs/seaquest_beginner/perturb10/bve_model_perturb10.pth\n",
      "-- Starting Seed 2/3 --\n"
     ]
    },
    {
     "name": "stderr",
     "output_type": "stream",
     "text": [
      "Epochs: 100%|██████████| 10/10 [1:08:28<00:00, 410.90s/it]\n"
     ]
    },
    {
     "name": "stdout",
     "output_type": "stream",
     "text": [
      "Finished Training on seaquest_beginner_perturb10\n",
      "    ➤ Avg Train Loss: -2.47520\n",
      "    ➤ Avg Test Loss: -2.48756\n",
      "    ➤ Avg Reward: 66.00\n",
      "-- Starting Seed 3/3 --\n"
     ]
    },
    {
     "name": "stderr",
     "output_type": "stream",
     "text": [
      "Epochs: 100%|██████████| 10/10 [1:08:41<00:00, 412.15s/it]\n"
     ]
    },
    {
     "name": "stdout",
     "output_type": "stream",
     "text": [
      "Finished Training on seaquest_beginner_perturb10\n",
      "    ➤ Avg Train Loss: -2.42990\n",
      "    ➤ Avg Test Loss: -2.45287\n",
      "    ➤ Avg Reward: 54.00\n",
      "Saved stats to agent_methods/behavior_value_estimation_bve/bve_logs/seaquest_beginner/perturb10/stats_perturb10.pkl\n",
      "----- Execution time: BVE - Beginner | Perturbation 10% -----\n",
      "CPU times: total: 4h 1min 14s\n",
      "Wall time: 3h 25min 12s\n"
     ]
    }
   ],
   "source": [
    "%%time\n",
    "\n",
    "# train and evaluate the BVE model on the Beginner dataset with 10% perturbation\n",
    "train_and_evaluate_BVE(\n",
    "    dataloaders=dataloaders,\n",
    "    device=device,\n",
    "    seeds=SEEDS,\n",
    "    epochs=EPOCHS,\n",
    "    dataset='seaquest_beginner_perturb10',\n",
    "    env_id=ENV_ID,\n",
    "    seed=SEED\n",
    ")\n",
    "\n",
    "# print execution time it took to train the model\n",
    "print(\"----- Execution time: BVE - Beginner | Perturbation 10% -----\")"
   ]
  },
  {
   "cell_type": "markdown",
   "metadata": {},
   "source": [
    "-----------------"
   ]
  },
  {
   "cell_type": "markdown",
   "metadata": {},
   "source": [
    "### 20% Perturbation"
   ]
  },
  {
   "cell_type": "code",
   "execution_count": 6,
   "metadata": {},
   "outputs": [
    {
     "name": "stdout",
     "output_type": "stream",
     "text": [
      "=== Loading seaquest_beginner_perturb20 dataset ===\n",
      "Preprocessing and splitting seaquest_beginner_perturb20 dataset...\n",
      "Creating dataloaders for seaquest_beginner_perturb20...\n",
      "Dataloaders ready for: seaquest_beginner_perturb20\n",
      "dict_keys(['seaquest_beginner_perturb20'])\n"
     ]
    }
   ],
   "source": [
    "dataloaders = load_and_prepare_dataset(\n",
    "    dataset_path='datasets/beginner_logs/seaquest_beginner_perturb20.pkl',\n",
    "    batch_size=BATCH_SIZE,\n",
    "    seed=SEED\n",
    ")\n",
    "\n",
    "print(dataloaders.keys())"
   ]
  },
  {
   "cell_type": "markdown",
   "metadata": {},
   "source": [
    "## BC"
   ]
  },
  {
   "cell_type": "code",
   "execution_count": 7,
   "metadata": {},
   "outputs": [
    {
     "name": "stdout",
     "output_type": "stream",
     "text": [
      "Training BC on seaquest_beginner_perturb20\n",
      "-- Starting Seed 1/3 --\n"
     ]
    },
    {
     "name": "stderr",
     "output_type": "stream",
     "text": [
      "Epochs: 100%|██████████| 10/10 [53:42<00:00, 322.24s/it]\n"
     ]
    },
    {
     "name": "stdout",
     "output_type": "stream",
     "text": [
      "Finished Training on seaquest_beginner_perturb20\n",
      "    ➤ Avg Train Loss: 0.06716\n",
      "    ➤ Avg Test Loss: 0.28116\n",
      "    ➤ Avg Reward: 194.00\n",
      "Model saved to agent_methods/behavioral_cloning_bc/bc_logs/seaquest_beginner/perturb20/bc_model_perturb20.pth\n",
      "-- Starting Seed 2/3 --\n"
     ]
    },
    {
     "name": "stderr",
     "output_type": "stream",
     "text": [
      "Epochs: 100%|██████████| 10/10 [53:48<00:00, 322.84s/it]\n"
     ]
    },
    {
     "name": "stdout",
     "output_type": "stream",
     "text": [
      "Finished Training on seaquest_beginner_perturb20\n",
      "    ➤ Avg Train Loss: 0.07951\n",
      "    ➤ Avg Test Loss: 0.26962\n",
      "    ➤ Avg Reward: 222.00\n",
      "-- Starting Seed 3/3 --\n"
     ]
    },
    {
     "name": "stderr",
     "output_type": "stream",
     "text": [
      "Epochs: 100%|██████████| 10/10 [53:16<00:00, 319.65s/it]\n"
     ]
    },
    {
     "name": "stdout",
     "output_type": "stream",
     "text": [
      "Finished Training on seaquest_beginner_perturb20\n",
      "    ➤ Avg Train Loss: 0.06541\n",
      "    ➤ Avg Test Loss: 0.28003\n",
      "    ➤ Avg Reward: 228.00\n",
      "Return Stats saved to agent_methods/behavioral_cloning_bc/bc_logs/seaquest_beginner/perturb20/stats_perturb20.pkl\n",
      "----- Execution time: BC - Beginner | Perturbation 20% -----\n",
      "CPU times: total: 3h 20min 56s\n",
      "Wall time: 2h 40min 54s\n"
     ]
    }
   ],
   "source": [
    "%%time\n",
    "\n",
    "# train and evaluate the BC model on the Beginner dataset with 20% perturbation\n",
    "train_and_evaluate_BC(\n",
    "    dataloaders=dataloaders,\n",
    "    device=device,\n",
    "    seeds=SEEDS,\n",
    "    epochs=EPOCHS,\n",
    "    dataset='seaquest_beginner_perturb20',\n",
    "    env_id=ENV_ID,\n",
    "    seed=SEED\n",
    ")\n",
    "\n",
    "# print execution time it took to train the model\n",
    "print(\"----- Execution time: BC - Beginner | Perturbation 20% -----\")"
   ]
  },
  {
   "cell_type": "markdown",
   "metadata": {},
   "source": [
    "## IQL"
   ]
  },
  {
   "cell_type": "code",
   "execution_count": 7,
   "metadata": {},
   "outputs": [
    {
     "name": "stdout",
     "output_type": "stream",
     "text": [
      "Training IQL on seaquest_beginner_perturb20\n",
      "-- Starting Seed 1/3 --\n"
     ]
    },
    {
     "name": "stderr",
     "output_type": "stream",
     "text": [
      "Epochs: 100%|██████████| 10/10 [1:07:58<00:00, 407.86s/it]\n"
     ]
    },
    {
     "name": "stdout",
     "output_type": "stream",
     "text": [
      "Finished Training on seaquest_beginner_perturb20\n",
      "    ➤ Avg Actor Loss: -0.67840\n",
      "    ➤ Avg Critic1 Loss: -2.67207\n",
      "    ➤ Avg Critic2 Loss: -2.68481\n",
      "    ➤ Avg Value Loss: -3.41514\n",
      "    ➤ Avg Test Loss: 0.27123\n",
      "    ➤ Avg Reward: 174.00\n",
      "Model saved to agent_methods/implicit_q_learning_iql/iql_logs/seaquest_beginner/perturb20/iql_model_perturb20.pth\n",
      "-- Starting Seed 2/3 --\n"
     ]
    },
    {
     "name": "stderr",
     "output_type": "stream",
     "text": [
      "Epochs: 100%|██████████| 10/10 [1:35:18<00:00, 571.85s/it]\n"
     ]
    },
    {
     "name": "stdout",
     "output_type": "stream",
     "text": [
      "Finished Training on seaquest_beginner_perturb20\n",
      "    ➤ Avg Actor Loss: -0.65608\n",
      "    ➤ Avg Critic1 Loss: -2.70958\n",
      "    ➤ Avg Critic2 Loss: -2.69465\n",
      "    ➤ Avg Value Loss: -3.43669\n",
      "    ➤ Avg Test Loss: 0.27219\n",
      "    ➤ Avg Reward: 142.00\n",
      "-- Starting Seed 3/3 --\n"
     ]
    },
    {
     "name": "stderr",
     "output_type": "stream",
     "text": [
      "Epochs: 100%|██████████| 10/10 [1:30:02<00:00, 540.30s/it]\n"
     ]
    },
    {
     "name": "stdout",
     "output_type": "stream",
     "text": [
      "Finished Training on seaquest_beginner_perturb20\n",
      "    ➤ Avg Actor Loss: -0.44251\n",
      "    ➤ Avg Critic1 Loss: -2.61685\n",
      "    ➤ Avg Critic2 Loss: -2.60457\n",
      "    ➤ Avg Value Loss: -3.40170\n",
      "    ➤ Avg Test Loss: 0.26973\n",
      "    ➤ Avg Reward: 172.00\n",
      "Return Stats saved to agent_methods/implicit_q_learning_iql/iql_logs/seaquest_beginner/perturb20/stats_perturb20.pkl\n",
      "----- Execution time: IQL - Beginner | Perturbation 20% -----\n",
      "CPU times: total: 4h 52min 14s\n",
      "Wall time: 4h 13min 39s\n"
     ]
    }
   ],
   "source": [
    "%%time\n",
    "\n",
    "# train and evaluate the IQL model on the Beginner dataset with 20% perturbation\n",
    "train_and_evaluate_IQL(\n",
    "    dataloaders=dataloaders,\n",
    "    device=device,\n",
    "    seeds=SEEDS,\n",
    "    epochs=EPOCHS,\n",
    "    dataset='seaquest_beginner_perturb20',\n",
    "    env_id=ENV_ID,\n",
    "    seed=SEED\n",
    ")\n",
    "\n",
    "# print execution time it took to train the model\n",
    "print(\"----- Execution time: IQL - Beginner | Perturbation 20% -----\") "
   ]
  },
  {
   "cell_type": "markdown",
   "metadata": {},
   "source": [
    "## BVE"
   ]
  },
  {
   "cell_type": "code",
   "execution_count": 7,
   "metadata": {},
   "outputs": [
    {
     "name": "stdout",
     "output_type": "stream",
     "text": [
      "Training BVE on seaquest_beginner_perturb20\n",
      "-- Starting Seed 1/3 --\n"
     ]
    },
    {
     "name": "stderr",
     "output_type": "stream",
     "text": [
      "Epochs: 100%|██████████| 10/10 [1:07:11<00:00, 403.15s/it]\n"
     ]
    },
    {
     "name": "stdout",
     "output_type": "stream",
     "text": [
      "Finished Training on seaquest_beginner_perturb20\n",
      "    ➤ Avg Train Loss: -2.53825\n",
      "    ➤ Avg Test Loss: -2.43279\n",
      "    ➤ Avg Reward: 104.00\n",
      "Saved model to agent_methods/behavior_value_estimation_bve/bve_logs/seaquest_beginner/perturb20/bve_model_perturb20.pth\n",
      "-- Starting Seed 2/3 --\n"
     ]
    },
    {
     "name": "stderr",
     "output_type": "stream",
     "text": [
      "Epochs: 100%|██████████| 10/10 [1:08:21<00:00, 410.12s/it]\n"
     ]
    },
    {
     "name": "stdout",
     "output_type": "stream",
     "text": [
      "Finished Training on seaquest_beginner_perturb20\n",
      "    ➤ Avg Train Loss: -2.52542\n",
      "    ➤ Avg Test Loss: -2.41370\n",
      "    ➤ Avg Reward: 118.00\n",
      "-- Starting Seed 3/3 --\n"
     ]
    },
    {
     "name": "stderr",
     "output_type": "stream",
     "text": [
      "Epochs: 100%|██████████| 10/10 [1:08:48<00:00, 412.85s/it]\n"
     ]
    },
    {
     "name": "stdout",
     "output_type": "stream",
     "text": [
      "Finished Training on seaquest_beginner_perturb20\n",
      "    ➤ Avg Train Loss: -2.49181\n",
      "    ➤ Avg Test Loss: -2.43264\n",
      "    ➤ Avg Reward: 112.00\n",
      "Saved stats to agent_methods/behavior_value_estimation_bve/bve_logs/seaquest_beginner/perturb20/stats_perturb20.pkl\n",
      "----- Execution time: BVE - Beginner | Perturbation 20% -----\n",
      "CPU times: total: 4h 16s\n",
      "Wall time: 3h 24min 31s\n"
     ]
    }
   ],
   "source": [
    "%%time\n",
    "\n",
    "# train and evaluate the BVE model on the Beginner dataset with 20% perturbation\n",
    "train_and_evaluate_BVE(\n",
    "    dataloaders=dataloaders,\n",
    "    device=device,\n",
    "    seeds=SEEDS,\n",
    "    epochs=EPOCHS,\n",
    "    dataset='seaquest_beginner_perturb20',\n",
    "    env_id=ENV_ID,\n",
    "    seed=SEED\n",
    ")\n",
    "\n",
    "# print execution time it took to train the model\n",
    "print(\"----- Execution time: BVE - Beginner | Perturbation 20% -----\")"
   ]
  },
  {
   "cell_type": "markdown",
   "metadata": {},
   "source": [
    "------------------"
   ]
  },
  {
   "cell_type": "markdown",
   "metadata": {},
   "source": [
    "# Training all agents on: Intermediate Dataset"
   ]
  },
  {
   "cell_type": "markdown",
   "metadata": {},
   "source": [
    "### 0% Perturbation"
   ]
  },
  {
   "cell_type": "code",
   "execution_count": 7,
   "metadata": {},
   "outputs": [
    {
     "name": "stdout",
     "output_type": "stream",
     "text": [
      "=== Loading seaquest_intermediate_perturb0 dataset ===\n",
      "Preprocessing and splitting seaquest_intermediate_perturb0 dataset...\n",
      "Creating dataloaders for seaquest_intermediate_perturb0...\n",
      "✅ Dataloaders ready for: seaquest_intermediate_perturb0\n",
      "dict_keys(['seaquest_intermediate_perturb0'])\n"
     ]
    }
   ],
   "source": [
    "dataloaders = load_and_prepare_dataset(\n",
    "    dataset_path='datasets/intermediate_logs/seaquest_intermediate_perturb0.pkl',\n",
    "    batch_size=BATCH_SIZE,\n",
    "    seed=SEED\n",
    ")\n",
    "\n",
    "print(dataloaders.keys())"
   ]
  },
  {
   "cell_type": "markdown",
   "metadata": {},
   "source": [
    "## BC"
   ]
  },
  {
   "cell_type": "code",
   "execution_count": 7,
   "metadata": {},
   "outputs": [
    {
     "name": "stdout",
     "output_type": "stream",
     "text": [
      "Training BC on seaquest_intermediate_perturb0\n",
      "-- Starting Seed 1/3 --\n"
     ]
    },
    {
     "name": "stderr",
     "output_type": "stream",
     "text": [
      "Epochs: 100%|██████████| 10/10 [56:16<00:00, 337.68s/it]\n"
     ]
    },
    {
     "name": "stdout",
     "output_type": "stream",
     "text": [
      "Finished Training on seaquest_intermediate_perturb0\n",
      "    ➤ Avg Train Loss: -3.03064\n",
      "    ➤ Avg Test Loss: -3.34562\n",
      "    ➤ Avg Reward: 358.00\n",
      "Model saved to agent_methods/behavioral_cloning_bc/bc_logs/seaquest_intermediate/perturb0/bc_model_perturb0.pth\n",
      "-- Starting Seed 2/3 --\n"
     ]
    },
    {
     "name": "stderr",
     "output_type": "stream",
     "text": [
      "Epochs: 100%|██████████| 10/10 [55:40<00:00, 334.09s/it]\n"
     ]
    },
    {
     "name": "stdout",
     "output_type": "stream",
     "text": [
      "Finished Training on seaquest_intermediate_perturb0\n",
      "    ➤ Avg Train Loss: -2.99913\n",
      "    ➤ Avg Test Loss: -3.30587\n",
      "    ➤ Avg Reward: 344.00\n",
      "-- Starting Seed 3/3 --\n"
     ]
    },
    {
     "name": "stderr",
     "output_type": "stream",
     "text": [
      "Epochs: 100%|██████████| 10/10 [55:52<00:00, 335.27s/it]\n"
     ]
    },
    {
     "name": "stdout",
     "output_type": "stream",
     "text": [
      "Finished Training on seaquest_intermediate_perturb0\n",
      "    ➤ Avg Train Loss: -2.84021\n",
      "    ➤ Avg Test Loss: -2.97219\n",
      "    ➤ Avg Reward: 310.00\n",
      "Return Stats saved to agent_methods/behavioral_cloning_bc/bc_logs/seaquest_intermediate/perturb0/stats_perturb0.pkl\n",
      "----- Execution time: BC - Intermediate | Perturbation 0% -----\n",
      "CPU times: total: 3h 27min 6s\n",
      "Wall time: 2h 47min 57s\n"
     ]
    }
   ],
   "source": [
    "%%time\n",
    "\n",
    "# train and evaluate the BC model on the Intermediate dataset with 0% perturbation\n",
    "train_and_evaluate_BC(\n",
    "    dataloaders=dataloaders,\n",
    "    device=device,\n",
    "    seeds=SEEDS,\n",
    "    epochs=EPOCHS,\n",
    "    dataset='seaquest_intermediate_perturb0',\n",
    "    env_id=ENV_ID,\n",
    "    seed=SEED\n",
    ")\n",
    "\n",
    "# print execution time it took to train the model\n",
    "print(\"----- Execution time: BC - Intermediate | Perturbation 0% -----\")"
   ]
  },
  {
   "cell_type": "markdown",
   "metadata": {},
   "source": [
    "## IQL"
   ]
  },
  {
   "cell_type": "code",
   "execution_count": 7,
   "metadata": {},
   "outputs": [
    {
     "name": "stdout",
     "output_type": "stream",
     "text": [
      "Training IQL on seaquest_intermediate_perturb0\n",
      "-- Starting Seed 1/3 --\n"
     ]
    },
    {
     "name": "stderr",
     "output_type": "stream",
     "text": [
      "Epochs: 100%|██████████| 10/10 [1:04:07<00:00, 384.78s/it]\n"
     ]
    },
    {
     "name": "stdout",
     "output_type": "stream",
     "text": [
      "Finished Training on seaquest_intermediate_perturb0\n",
      "    ➤ Avg Actor Loss: 0.38233\n",
      "    ➤ Avg Critic1 Loss: -1.10483\n",
      "    ➤ Avg Critic2 Loss: -1.10999\n",
      "    ➤ Avg Value Loss: -1.61832\n",
      "    ➤ Avg Test Loss: -0.57688\n",
      "    ➤ Avg Reward: 174.00\n",
      "Model saved to agent_methods/implicit_q_learning_iql/iql_logs/seaquest_intermediate/perturb0/iql_model_perturb0.pth\n",
      "-- Starting Seed 2/3 --\n"
     ]
    },
    {
     "name": "stderr",
     "output_type": "stream",
     "text": [
      "Epochs: 100%|██████████| 10/10 [1:03:51<00:00, 383.14s/it]\n"
     ]
    },
    {
     "name": "stdout",
     "output_type": "stream",
     "text": [
      "Finished Training on seaquest_intermediate_perturb0\n",
      "    ➤ Avg Actor Loss: 0.49039\n",
      "    ➤ Avg Critic1 Loss: -1.13186\n",
      "    ➤ Avg Critic2 Loss: -1.12787\n",
      "    ➤ Avg Value Loss: -1.58814\n",
      "    ➤ Avg Test Loss: -0.62337\n",
      "    ➤ Avg Reward: 156.00\n",
      "-- Starting Seed 3/3 --\n"
     ]
    },
    {
     "name": "stderr",
     "output_type": "stream",
     "text": [
      "Epochs: 100%|██████████| 10/10 [1:06:35<00:00, 399.59s/it]\n"
     ]
    },
    {
     "name": "stdout",
     "output_type": "stream",
     "text": [
      "Finished Training on seaquest_intermediate_perturb0\n",
      "    ➤ Avg Actor Loss: 0.27473\n",
      "    ➤ Avg Critic1 Loss: -1.20798\n",
      "    ➤ Avg Critic2 Loss: -1.13456\n",
      "    ➤ Avg Value Loss: -1.64877\n",
      "    ➤ Avg Test Loss: -0.60901\n",
      "    ➤ Avg Reward: 164.00\n",
      "Return Stats saved to agent_methods/implicit_q_learning_iql/iql_logs/seaquest_intermediate/perturb0/stats_perturb0.pkl\n",
      "----- Execution time: IQL - Intermediate | Perturbation 0% -----\n",
      "CPU times: total: 3h 52min\n",
      "Wall time: 3h 14min 47s\n"
     ]
    }
   ],
   "source": [
    "%%time\n",
    "\n",
    "# train and evaluate the IQL model on the Intermediate dataset with 0% perturbation\n",
    "train_and_evaluate_IQL(\n",
    "    dataloaders=dataloaders,\n",
    "    device=device,\n",
    "    seeds=SEEDS,\n",
    "    epochs=EPOCHS,\n",
    "    dataset='seaquest_intermediate_perturb0',\n",
    "    env_id=ENV_ID,\n",
    "    seed=SEED\n",
    ")\n",
    "\n",
    "# print execution time it took to train the model\n",
    "print(\"----- Execution time: IQL - Intermediate | Perturbation 0% -----\") "
   ]
  },
  {
   "cell_type": "markdown",
   "metadata": {},
   "source": [
    "## BVE"
   ]
  },
  {
   "cell_type": "code",
   "execution_count": 8,
   "metadata": {},
   "outputs": [
    {
     "name": "stdout",
     "output_type": "stream",
     "text": [
      "Training BVE on seaquest_intermediate_perturb0\n",
      "-- Starting Seed 1/3 --\n"
     ]
    },
    {
     "name": "stderr",
     "output_type": "stream",
     "text": [
      "Epochs: 100%|██████████| 10/10 [1:05:50<00:00, 395.01s/it]\n"
     ]
    },
    {
     "name": "stdout",
     "output_type": "stream",
     "text": [
      "Finished Training on seaquest_intermediate_perturb0\n",
      "    ➤ Avg Train Loss: -1.05895\n",
      "    ➤ Avg Test Loss: -0.98404\n",
      "    ➤ Avg Reward: 90.00\n",
      "Saved model to agent_methods/behavior_value_estimation_bve/bve_logs/seaquest_intermediate/perturb0/bve_model_perturb0.pth\n",
      "-- Starting Seed 2/3 --\n"
     ]
    },
    {
     "name": "stderr",
     "output_type": "stream",
     "text": [
      "Epochs: 100%|██████████| 10/10 [1:17:28<00:00, 464.88s/it]\n"
     ]
    },
    {
     "name": "stdout",
     "output_type": "stream",
     "text": [
      "Finished Training on seaquest_intermediate_perturb0\n",
      "    ➤ Avg Train Loss: -1.10359\n",
      "    ➤ Avg Test Loss: -1.05455\n",
      "    ➤ Avg Reward: 100.00\n",
      "-- Starting Seed 3/3 --\n"
     ]
    },
    {
     "name": "stderr",
     "output_type": "stream",
     "text": [
      "Epochs: 100%|██████████| 10/10 [1:19:31<00:00, 477.19s/it]\n"
     ]
    },
    {
     "name": "stdout",
     "output_type": "stream",
     "text": [
      "Finished Training on seaquest_intermediate_perturb0\n",
      "    ➤ Avg Train Loss: -1.12968\n",
      "    ➤ Avg Test Loss: -1.04024\n",
      "    ➤ Avg Reward: 100.00\n",
      "Saved stats to agent_methods/behavior_value_estimation_bve/bve_logs/seaquest_intermediate/perturb0/stats_perturb0.pkl\n",
      "----- Execution time: BVE - Intermediate | Perturbation 0% -----\n",
      "CPU times: total: 4h 22min 45s\n",
      "Wall time: 3h 43min\n"
     ]
    }
   ],
   "source": [
    "%%time\n",
    "\n",
    "# train and evaluate the BVE model on the Intermediate dataset with 0% perturbation\n",
    "train_and_evaluate_BVE(\n",
    "    dataloaders=dataloaders,\n",
    "    device=device,\n",
    "    seeds=SEEDS,\n",
    "    epochs=EPOCHS,\n",
    "    dataset='seaquest_intermediate_perturb0',\n",
    "    env_id=ENV_ID,\n",
    "    seed=SEED\n",
    ")\n",
    "\n",
    "# print execution time it took to train the model\n",
    "print(\"----- Execution time: BVE - Intermediate | Perturbation 0% -----\")"
   ]
  },
  {
   "cell_type": "markdown",
   "metadata": {},
   "source": [
    "-----------------------------"
   ]
  },
  {
   "cell_type": "markdown",
   "metadata": {},
   "source": [
    "### 5% Perturbation"
   ]
  },
  {
   "cell_type": "code",
   "execution_count": null,
   "metadata": {},
   "outputs": [],
   "source": []
  },
  {
   "cell_type": "markdown",
   "metadata": {},
   "source": [
    "## BC"
   ]
  },
  {
   "cell_type": "code",
   "execution_count": null,
   "metadata": {},
   "outputs": [],
   "source": []
  },
  {
   "cell_type": "markdown",
   "metadata": {},
   "source": [
    "## IQL"
   ]
  },
  {
   "cell_type": "code",
   "execution_count": null,
   "metadata": {},
   "outputs": [],
   "source": []
  },
  {
   "cell_type": "markdown",
   "metadata": {},
   "source": [
    "## BVE"
   ]
  },
  {
   "cell_type": "code",
   "execution_count": null,
   "metadata": {},
   "outputs": [],
   "source": []
  },
  {
   "cell_type": "markdown",
   "metadata": {},
   "source": [
    "-----------------"
   ]
  },
  {
   "cell_type": "markdown",
   "metadata": {},
   "source": [
    "### 10% Perturbation"
   ]
  },
  {
   "cell_type": "code",
   "execution_count": null,
   "metadata": {},
   "outputs": [],
   "source": []
  },
  {
   "cell_type": "markdown",
   "metadata": {},
   "source": [
    "----------------"
   ]
  },
  {
   "cell_type": "markdown",
   "metadata": {},
   "source": [
    "# Training all agents on: Expert Dataset"
   ]
  },
  {
   "cell_type": "markdown",
   "metadata": {},
   "source": [
    "### 0% Perturbation"
   ]
  },
  {
   "cell_type": "code",
   "execution_count": null,
   "metadata": {},
   "outputs": [],
   "source": []
  }
 ],
 "metadata": {
  "kernelspec": {
   "display_name": "master-thesis-ai",
   "language": "python",
   "name": "python3"
  },
  "language_info": {
   "codemirror_mode": {
    "name": "ipython",
    "version": 3
   },
   "file_extension": ".py",
   "mimetype": "text/x-python",
   "name": "python",
   "nbconvert_exporter": "python",
   "pygments_lexer": "ipython3",
   "version": "3.10.8"
  }
 },
 "nbformat": 4,
 "nbformat_minor": 2
}

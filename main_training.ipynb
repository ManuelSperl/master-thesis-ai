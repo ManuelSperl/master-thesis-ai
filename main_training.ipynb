{
 "cells": [
  {
   "cell_type": "markdown",
   "metadata": {},
   "source": [
    "<h1 style=\"color:rgb(0,120,170)\"><b>Master Thesis - Evaluating Offline Reinforcement Learning Under Suboptimal Data Quality: A Comparative Study of BC, BVE and IQL\n",
    "</b></h1>\n",
    "<h2 style=\"color:rgb(0,120,170)\"><u>Part 2: Training Offline RL Agents</u></h2>\n",
    "\n",
    "<b>Author:</b> Manuel Sperl<br>\n",
    "<b>Date:</b> 2025\n",
    "\n",
    "This notebook is part of my master’s thesis project. The goal is to generate diverse offline reinforcement learning (RL) datasets for evaluating three algorithms — Behavioral Cloning (BC), Behavior Value Estimation (BVE), and Implicit Q-Learning (IQL) — under varying data quality conditions.\n",
    "\n",
    "Offline RL methods rely entirely on pre-collected data and cannot interact with the environment during training. As such, the quality and nature of the dataset play a critical role in downstream performance. In the secound notebook, I train three offline RL Agents under varying dataset quality levels.\n",
    "\n",
    "The following offline RL methods are implemented in this notebook:\n",
    "\n",
    "<b>Behavioral Cloning (BC)</b>: A supervised learning approach that directly mimics the actions of an expert agent by minimizing the difference between predicted and expert actions.\n",
    "\n",
    "<b>Behavior Value Estimation (BVE)</b>: A method that estimates the value of actions taken by the agent, allowing it to learn from suboptimal actions while still leveraging expert data.\n",
    "\n",
    "<b>Implicit Q-Learning (IQL)</b>: A more advanced method that learns a policy by implicitly estimating the Q-values of actions, enabling it to generalize better from suboptimal data.\n",
    "\n",
    "For each of these methods, I train agents on datasets with varying levels of perturbation (0%, 5%, 10%, and 20%) to simulate different data quality conditions. The perturbation levels represent the degree of noise or suboptimality in the dataset, which is crucial for evaluating the robustness of each method.\n",
    "\n",
    "We train each agent for 10 epochs, for a total of 3 different seed values to ensure reproducibility and robustness of the results. The training process is designed to be efficient, with each agent trained for a fixed number of epochs to allow for quick iterations and evaluations. All resulting agents are saved to disk, allowing for later evaluation and comparison of their performance across different data quality levels.\n",
    "\n",
    "<h4><u>The notebook is structured in three main parts:</u></h4>\n",
    "\n",
    "<b><a href=\"#models_beginner\">1. Training all models on: Beginner Dataset</a></b>\n",
    "\n",
    "<b><a href=\"#models_intermediate\">2. Training all models on: Intermediate Dataset</a></b>\n",
    "\n",
    "<b><a href=\"#models_expert\">2. Training all models on: Expert Dataset</a></b>\n",
    "\n"
   ]
  },
  {
   "cell_type": "markdown",
   "metadata": {},
   "source": [
    "<div class=\"alert alert-info\">\n",
    "\n",
    "<h3 style=\"color:rgb(0,120,170)\">How to use this notebook</h3>\n",
    "\n",
    "This notebook is structured to be executed from start to finish. Before you begin, ensure that all necessary packages are installed.\n",
    "</div>"
   ]
  },
  {
   "cell_type": "markdown",
   "metadata": {},
   "source": [
    "<h3 style=\"color:rgb(0,120,170)\">Imports</h3>"
   ]
  },
  {
   "cell_type": "code",
   "execution_count": null,
   "metadata": {},
   "outputs": [],
   "source": [
    "import torch\n",
    "import warnings\n",
    "\n",
    "warnings.filterwarnings(\"ignore\")\n",
    "\n",
    "# ensure the module is re-imported after changes\n",
    "import importlib\n",
    "\n",
    "import datasets.dataset_utils\n",
    "importlib.reload(datasets.dataset_utils)\n",
    "\n",
    "from datasets.dataset_utils import set_all_seeds, create_environment, load_and_prepare_dataset\n",
    "\n",
    "import offline_rl_models.behavioral_cloning_bc.bc_utils\n",
    "importlib.reload(offline_rl_models.behavioral_cloning_bc.bc_utils)\n",
    "\n",
    "from offline_rl_models.behavioral_cloning_bc.bc_utils import train_and_evaluate_BC\n",
    "\n",
    "import offline_rl_models.implicit_q_learning_iql.iql_utils\n",
    "importlib.reload(offline_rl_models.implicit_q_learning_iql.iql_utils)\n",
    "\n",
    "from offline_rl_models.implicit_q_learning_iql.iql_utils import train_and_evaluate_IQL\n",
    "\n",
    "import offline_rl_models.behavior_value_estimation_bve.bve_utils\n",
    "importlib.reload(offline_rl_models.behavior_value_estimation_bve.bve_utils)\n",
    "\n",
    "from offline_rl_models.behavior_value_estimation_bve.bve_utils import train_and_evaluate_BVE"
   ]
  },
  {
   "cell_type": "markdown",
   "metadata": {},
   "source": [
    "<h3 style=\"color:rgb(0,120,170)\">Global Variables</h3>"
   ]
  },
  {
   "cell_type": "code",
   "execution_count": 4,
   "metadata": {},
   "outputs": [],
   "source": [
    "SEED = 12345\n",
    "ENV_ID = 'SeaquestNoFrameskip-v4'\n",
    "EPOCHS = 10\n",
    "SEEDS = 3\n",
    "BATCH_SIZE = 64"
   ]
  },
  {
   "cell_type": "markdown",
   "metadata": {},
   "source": [
    "<h3 style=\"color:rgb(0,120,170)\">Environment Setup</h3>"
   ]
  },
  {
   "cell_type": "code",
   "execution_count": 5,
   "metadata": {},
   "outputs": [
    {
     "name": "stdout",
     "output_type": "stream",
     "text": [
      "Device: cuda\n"
     ]
    }
   ],
   "source": [
    "# set seed for reproducability\n",
    "set_all_seeds(SEED)\n",
    "\n",
    "# force PyTorch to use CPU\n",
    "device = \"cuda\" if torch.cuda.is_available() else \"cpu\"\n",
    "print(f\"Device: {device}\")\n",
    "\n",
    "# initialize enviornment\n",
    "env = create_environment(env_id=ENV_ID, seed=SEED)"
   ]
  },
  {
   "cell_type": "markdown",
   "metadata": {},
   "source": [
    "<div id='models_beginner'>\n",
    "<h2 style=\"color:rgb(0,120,170)\">Training all models on: Beginner Dataset</h2>\n",
    "\n",
    "In this section, we will train all three offline RL methods (BC, BVE, and IQL) on the Beginner dataset, with varying levels of perturbation (0%, 5%, 10%, and 20%). Each method will be trained for 10 epochs, and the results will be saved to disk for later evaluation."
   ]
  },
  {
   "cell_type": "markdown",
   "metadata": {},
   "source": [
    "<h3><u>0% Perturbation:</u></h3>\n",
    "\n",
    "First, we will load and prepare the Beginner dataset with 0% perturbation."
   ]
  },
  {
   "cell_type": "code",
   "execution_count": 6,
   "metadata": {},
   "outputs": [
    {
     "name": "stdout",
     "output_type": "stream",
     "text": [
      "=== Loading seaquest_beginner_perturb0 dataset ===\n",
      "Preprocessing and splitting seaquest_beginner_perturb0 dataset...\n",
      "Creating dataloaders for seaquest_beginner_perturb0...\n",
      "Dataloaders ready for: seaquest_beginner_perturb0\n"
     ]
    }
   ],
   "source": [
    "dataloaders = load_and_prepare_dataset(\n",
    "    dataset_path='datasets/beginner_logs/seaquest_beginner_perturb0.pkl',\n",
    "    batch_size=BATCH_SIZE,\n",
    "    seed=SEED\n",
    ")"
   ]
  },
  {
   "cell_type": "markdown",
   "metadata": {},
   "source": [
    "<h4>Behavioral Cloning (BC)</h4>"
   ]
  },
  {
   "cell_type": "code",
   "execution_count": null,
   "metadata": {},
   "outputs": [
    {
     "name": "stdout",
     "output_type": "stream",
     "text": [
      "Training BC on seaquest_beginner_perturb0\n",
      "-- Starting Seed 1/3 --\n"
     ]
    },
    {
     "name": "stderr",
     "output_type": "stream",
     "text": [
      "Epochs: 100%|██████████| 10/10 [1:05:42<00:00, 394.22s/it]\n"
     ]
    },
    {
     "name": "stdout",
     "output_type": "stream",
     "text": [
      "Finished Training on seaquest_beginner_perturb0\n",
      "    ➤ Avg Train Loss: 0.24313\n",
      "    ➤ Avg Validation Loss: 0.49041\n",
      "    ➤ Avg Reward: 122.00\n",
      "Saving the model...\n",
      "Model saved to agent_methods/behavioral_cloning_bc/bc_logs/seaquest_beginner/perturb0/bc_model_perturb0_seed1.pth\n",
      "-- Starting Seed 2/3 --\n"
     ]
    },
    {
     "name": "stderr",
     "output_type": "stream",
     "text": [
      "Epochs: 100%|██████████| 10/10 [1:05:02<00:00, 390.22s/it]\n"
     ]
    },
    {
     "name": "stdout",
     "output_type": "stream",
     "text": [
      "Finished Training on seaquest_beginner_perturb0\n",
      "    ➤ Avg Train Loss: 0.23865\n",
      "    ➤ Avg Validation Loss: 0.51509\n",
      "    ➤ Avg Reward: 112.00\n",
      "Saving the model...\n",
      "Model saved to agent_methods/behavioral_cloning_bc/bc_logs/seaquest_beginner/perturb0/bc_model_perturb0_seed2.pth\n",
      "-- Starting Seed 3/3 --\n"
     ]
    },
    {
     "name": "stderr",
     "output_type": "stream",
     "text": [
      "Epochs: 100%|██████████| 10/10 [1:04:15<00:00, 385.59s/it]\n"
     ]
    },
    {
     "name": "stdout",
     "output_type": "stream",
     "text": [
      "Finished Training on seaquest_beginner_perturb0\n",
      "    ➤ Avg Train Loss: 0.24239\n",
      "    ➤ Avg Validation Loss: 0.50235\n",
      "    ➤ Avg Reward: 108.00\n",
      "Saving the model...\n",
      "Model saved to agent_methods/behavioral_cloning_bc/bc_logs/seaquest_beginner/perturb0/bc_model_perturb0_seed3.pth\n",
      "Return Stats saved to agent_methods/behavioral_cloning_bc/bc_logs/seaquest_beginner/perturb0/stats_perturb0.pkl\n",
      "----- Execution time: BC - Beginner | Perturbation 0% -----\n",
      "CPU times: total: 3h 58min 13s\n",
      "Wall time: 3h 15min 8s\n"
     ]
    }
   ],
   "source": [
    "%%time\n",
    "\n",
    "# BC model -> Beginner dataset, 0% perturbation\n",
    "train_and_evaluate_BC(\n",
    "    dataloaders=dataloaders,\n",
    "    device=device,\n",
    "    seeds=SEEDS,\n",
    "    epochs=EPOCHS,\n",
    "    dataset='seaquest_beginner_perturb0',\n",
    "    env_id=ENV_ID,\n",
    "    seed=SEED\n",
    ")\n",
    "\n",
    "print(\"----- Execution time: BC - Beginner | Perturbation 0% -----\")"
   ]
  },
  {
   "cell_type": "markdown",
   "metadata": {},
   "source": [
    "<h4>Behavior Value Estimation (BVE)</h4>"
   ]
  },
  {
   "cell_type": "code",
   "execution_count": 7,
   "metadata": {},
   "outputs": [
    {
     "name": "stdout",
     "output_type": "stream",
     "text": [
      "Training BVE on seaquest_beginner_perturb0\n",
      "-- Starting Seed 1/3 --\n"
     ]
    },
    {
     "name": "stderr",
     "output_type": "stream",
     "text": [
      "Epochs: 100%|██████████| 10/10 [1:01:08<00:00, 366.83s/it]\n"
     ]
    },
    {
     "name": "stdout",
     "output_type": "stream",
     "text": [
      "Finished Training on seaquest_beginner_perturb0\n",
      "    ➤ Avg Train Loss: 0.04047\n",
      "    ➤ Avg Val Loss: 0.04236\n",
      "    ➤ Avg Reward: 68.00\n",
      "Saving the model...\n",
      "Saved model to offline_rl_models/behavior_value_estimation_bve/bve_logs/seaquest_beginner/perturb0/bve_model_perturb0_seed1.pth\n",
      "-- Starting Seed 2/3 --\n"
     ]
    },
    {
     "name": "stderr",
     "output_type": "stream",
     "text": [
      "Epochs: 100%|██████████| 10/10 [1:02:02<00:00, 372.21s/it]\n"
     ]
    },
    {
     "name": "stdout",
     "output_type": "stream",
     "text": [
      "Finished Training on seaquest_beginner_perturb0\n",
      "    ➤ Avg Train Loss: 0.04019\n",
      "    ➤ Avg Val Loss: 0.04214\n",
      "    ➤ Avg Reward: 82.00\n",
      "Saving the model...\n",
      "Saved model to offline_rl_models/behavior_value_estimation_bve/bve_logs/seaquest_beginner/perturb0/bve_model_perturb0_seed2.pth\n",
      "-- Starting Seed 3/3 --\n"
     ]
    },
    {
     "name": "stderr",
     "output_type": "stream",
     "text": [
      "Epochs: 100%|██████████| 10/10 [1:04:20<00:00, 386.01s/it]\n"
     ]
    },
    {
     "name": "stdout",
     "output_type": "stream",
     "text": [
      "Finished Training on seaquest_beginner_perturb0\n",
      "    ➤ Avg Train Loss: 0.04046\n",
      "    ➤ Avg Val Loss: 0.04241\n",
      "    ➤ Avg Reward: 100.00\n",
      "Saving the model...\n",
      "Saved model to offline_rl_models/behavior_value_estimation_bve/bve_logs/seaquest_beginner/perturb0/bve_model_perturb0_seed3.pth\n",
      "Saved stats to offline_rl_models/behavior_value_estimation_bve/bve_logs/seaquest_beginner/perturb0/stats_perturb0.pkl\n",
      "----- Execution time: BVE - Beginner | Perturbation 0% -----\n",
      "CPU times: total: 3h 49min 39s\n",
      "Wall time: 3h 7min 38s\n"
     ]
    }
   ],
   "source": [
    "%%time\n",
    "\n",
    "# BVE model -> Beginner dataset, 0% perturbation\n",
    "train_and_evaluate_BVE(\n",
    "    dataloaders=dataloaders,\n",
    "    device=device,\n",
    "    seeds=SEEDS,\n",
    "    epochs=EPOCHS,\n",
    "    dataset='seaquest_beginner_perturb0',\n",
    "    env_id=ENV_ID,\n",
    "    seed=SEED\n",
    ")\n",
    "\n",
    "print(\"----- Execution time: BVE - Beginner | Perturbation 0% -----\")"
   ]
  },
  {
   "cell_type": "markdown",
   "metadata": {},
   "source": [
    "<h4>Implicit Q-Learning (IQL)</h4>"
   ]
  },
  {
   "cell_type": "code",
   "execution_count": 7,
   "metadata": {},
   "outputs": [
    {
     "name": "stdout",
     "output_type": "stream",
     "text": [
      "Training IQL on seaquest_beginner_perturb0\n",
      "-- Starting Seed 1/3 --\n"
     ]
    },
    {
     "name": "stderr",
     "output_type": "stream",
     "text": [
      "Epochs: 100%|██████████| 10/10 [1:11:16<00:00, 427.65s/it]\n"
     ]
    },
    {
     "name": "stdout",
     "output_type": "stream",
     "text": [
      "Finished Training on seaquest_beginner_perturb0\n",
      "    ➤ Avg Actor Loss: 0.24376\n",
      "    ➤ Avg Critic1 Loss: 0.04095\n",
      "    ➤ Avg Critic2 Loss: 0.04088\n",
      "    ➤ Avg Value Loss: 0.00059\n",
      "    ➤ Avg Validation Loss: 0.52930\n",
      "    ➤ Avg Reward: 66.00\n",
      "Saving the model...\n",
      "Model saved to offline_rl_models/implicit_q_learning_iql/iql_logs/seaquest_beginner/perturb0/iql_model_perturb0_seed1.pth\n",
      "-- Starting Seed 2/3 --\n"
     ]
    },
    {
     "name": "stderr",
     "output_type": "stream",
     "text": [
      "Epochs: 100%|██████████| 10/10 [1:12:34<00:00, 435.48s/it]\n"
     ]
    },
    {
     "name": "stdout",
     "output_type": "stream",
     "text": [
      "Finished Training on seaquest_beginner_perturb0\n",
      "    ➤ Avg Actor Loss: 0.22850\n",
      "    ➤ Avg Critic1 Loss: 0.04078\n",
      "    ➤ Avg Critic2 Loss: 0.04073\n",
      "    ➤ Avg Value Loss: 0.00061\n",
      "    ➤ Avg Validation Loss: 0.53246\n",
      "    ➤ Avg Reward: 58.00\n",
      "Saving the model...\n",
      "Model saved to offline_rl_models/implicit_q_learning_iql/iql_logs/seaquest_beginner/perturb0/iql_model_perturb0_seed2.pth\n",
      "-- Starting Seed 3/3 --\n"
     ]
    },
    {
     "name": "stderr",
     "output_type": "stream",
     "text": [
      "Epochs: 100%|██████████| 10/10 [1:13:57<00:00, 443.74s/it]\n"
     ]
    },
    {
     "name": "stdout",
     "output_type": "stream",
     "text": [
      "Finished Training on seaquest_beginner_perturb0\n",
      "    ➤ Avg Actor Loss: 0.22105\n",
      "    ➤ Avg Critic1 Loss: 0.04037\n",
      "    ➤ Avg Critic2 Loss: 0.04057\n",
      "    ➤ Avg Value Loss: 0.00073\n",
      "    ➤ Avg Validation Loss: 0.52086\n",
      "    ➤ Avg Reward: 82.00\n",
      "Saving the model...\n",
      "Model saved to offline_rl_models/implicit_q_learning_iql/iql_logs/seaquest_beginner/perturb0/iql_model_perturb0_seed3.pth\n",
      "Return Stats saved to offline_rl_models/implicit_q_learning_iql/iql_logs/seaquest_beginner/perturb0/stats_perturb0.pkl\n",
      "----- Execution time: IQL - Beginner | Perturbation 0% -----\n",
      "CPU times: total: 4h 20min 8s\n",
      "Wall time: 3h 38min 1s\n"
     ]
    }
   ],
   "source": [
    "%%time\n",
    "\n",
    "# IQL model -> Beginner dataset, 0% perturbation\n",
    "train_and_evaluate_IQL(\n",
    "    dataloaders=dataloaders,\n",
    "    device=device,\n",
    "    seeds=SEEDS,\n",
    "    epochs=EPOCHS,\n",
    "    dataset='seaquest_beginner_perturb0',\n",
    "    env_id=ENV_ID,\n",
    "    seed=SEED\n",
    ")\n",
    "\n",
    "print(\"----- Execution time: IQL - Beginner | Perturbation 0% -----\") "
   ]
  },
  {
   "cell_type": "markdown",
   "metadata": {},
   "source": [
    "-----------------------------"
   ]
  },
  {
   "cell_type": "markdown",
   "metadata": {},
   "source": [
    "<h3><u>5% Perturbation:</u></h3>\n",
    "\n",
    "First, we will load and prepare the Beginner dataset with 5% perturbation."
   ]
  },
  {
   "cell_type": "code",
   "execution_count": 6,
   "metadata": {},
   "outputs": [
    {
     "name": "stdout",
     "output_type": "stream",
     "text": [
      "=== Loading seaquest_beginner_perturb5 dataset ===\n",
      "Preprocessing and splitting seaquest_beginner_perturb5 dataset...\n",
      "Creating dataloaders for seaquest_beginner_perturb5...\n",
      "Dataloaders ready for: seaquest_beginner_perturb5\n"
     ]
    }
   ],
   "source": [
    "dataloaders = load_and_prepare_dataset(\n",
    "    dataset_path='datasets/beginner_logs/seaquest_beginner_perturb5.pkl',\n",
    "    batch_size=BATCH_SIZE,\n",
    "    seed=SEED\n",
    ")"
   ]
  },
  {
   "cell_type": "markdown",
   "metadata": {},
   "source": [
    "<h4>Behavioral Cloning (BC)</h4>"
   ]
  },
  {
   "cell_type": "code",
   "execution_count": null,
   "metadata": {},
   "outputs": [
    {
     "name": "stdout",
     "output_type": "stream",
     "text": [
      "Training BC on seaquest_beginner_perturb5\n",
      "-- Starting Seed 1/3 --\n"
     ]
    },
    {
     "name": "stderr",
     "output_type": "stream",
     "text": [
      "Epochs: 100%|██████████| 10/10 [1:06:03<00:00, 396.32s/it]\n"
     ]
    },
    {
     "name": "stdout",
     "output_type": "stream",
     "text": [
      "Finished Training on seaquest_beginner_perturb5\n",
      "    ➤ Avg Train Loss: 0.54945\n",
      "    ➤ Avg Validation Loss: 0.80399\n",
      "    ➤ Avg Reward: 120.00\n",
      "Saving the model...\n",
      "Model saved to offline_rl_models/behavioral_cloning_bc/bc_logs/seaquest_beginner/perturb5/bc_model_perturb5_seed1.pth\n",
      "-- Starting Seed 2/3 --\n"
     ]
    },
    {
     "name": "stderr",
     "output_type": "stream",
     "text": [
      "Epochs: 100%|██████████| 10/10 [1:05:04<00:00, 390.43s/it]\n"
     ]
    },
    {
     "name": "stdout",
     "output_type": "stream",
     "text": [
      "Finished Training on seaquest_beginner_perturb5\n",
      "    ➤ Avg Train Loss: 0.53910\n",
      "    ➤ Avg Validation Loss: 0.81655\n",
      "    ➤ Avg Reward: 122.00\n",
      "Saving the model...\n",
      "Model saved to offline_rl_models/behavioral_cloning_bc/bc_logs/seaquest_beginner/perturb5/bc_model_perturb5_seed2.pth\n",
      "-- Starting Seed 3/3 --\n"
     ]
    },
    {
     "name": "stderr",
     "output_type": "stream",
     "text": [
      "Epochs: 100%|██████████| 10/10 [1:05:43<00:00, 394.30s/it]\n"
     ]
    },
    {
     "name": "stdout",
     "output_type": "stream",
     "text": [
      "Finished Training on seaquest_beginner_perturb5\n",
      "    ➤ Avg Train Loss: 0.53908\n",
      "    ➤ Avg Validation Loss: 0.81277\n",
      "    ➤ Avg Reward: 96.00\n",
      "Saving the model...\n",
      "Model saved to offline_rl_models/behavioral_cloning_bc/bc_logs/seaquest_beginner/perturb5/bc_model_perturb5_seed3.pth\n",
      "Return Stats saved to offline_rl_models/behavioral_cloning_bc/bc_logs/seaquest_beginner/perturb5/stats_perturb5.pkl\n",
      "----- Execution time: BC - Beginner | Perturbation 5% -----\n",
      "CPU times: total: 3h 58min 54s\n",
      "Wall time: 3h 16min 58s\n"
     ]
    }
   ],
   "source": [
    "%%time\n",
    "\n",
    "# BC model -> Beginner dataset, 5% perturbation\n",
    "train_and_evaluate_BC(\n",
    "    dataloaders=dataloaders,\n",
    "    device=device,\n",
    "    seeds=SEEDS,\n",
    "    epochs=EPOCHS,\n",
    "    dataset='seaquest_beginner_perturb5',\n",
    "    env_id=ENV_ID,\n",
    "    seed=SEED\n",
    ")\n",
    "\n",
    "print(\"----- Execution time: BC - Beginner | Perturbation 5% -----\")"
   ]
  },
  {
   "cell_type": "markdown",
   "metadata": {},
   "source": [
    "<h4>Behavior Value Estimation (BVE)</h4>"
   ]
  },
  {
   "cell_type": "code",
   "execution_count": 7,
   "metadata": {},
   "outputs": [
    {
     "name": "stdout",
     "output_type": "stream",
     "text": [
      "Training BVE on seaquest_beginner_perturb5\n",
      "-- Starting Seed 1/3 --\n"
     ]
    },
    {
     "name": "stderr",
     "output_type": "stream",
     "text": [
      "Epochs: 100%|██████████| 10/10 [1:04:04<00:00, 384.43s/it]\n"
     ]
    },
    {
     "name": "stdout",
     "output_type": "stream",
     "text": [
      "Finished Training on seaquest_beginner_perturb5\n",
      "    ➤ Avg Train Loss: 0.03992\n",
      "    ➤ Avg Val Loss: 0.04436\n",
      "    ➤ Avg Reward: 98.00\n",
      "Saving the model...\n",
      "Saved model to offline_rl_models/behavior_value_estimation_bve/bve_logs/seaquest_beginner/perturb5/bve_model_perturb5_seed1.pth\n",
      "-- Starting Seed 2/3 --\n"
     ]
    },
    {
     "name": "stderr",
     "output_type": "stream",
     "text": [
      "Epochs: 100%|██████████| 10/10 [1:03:41<00:00, 382.14s/it]\n"
     ]
    },
    {
     "name": "stdout",
     "output_type": "stream",
     "text": [
      "Finished Training on seaquest_beginner_perturb5\n",
      "    ➤ Avg Train Loss: 0.03994\n",
      "    ➤ Avg Val Loss: 0.04446\n",
      "    ➤ Avg Reward: 104.00\n",
      "Saving the model...\n",
      "Saved model to offline_rl_models/behavior_value_estimation_bve/bve_logs/seaquest_beginner/perturb5/bve_model_perturb5_seed2.pth\n",
      "-- Starting Seed 3/3 --\n"
     ]
    },
    {
     "name": "stderr",
     "output_type": "stream",
     "text": [
      "Epochs: 100%|██████████| 10/10 [1:05:46<00:00, 394.64s/it]\n"
     ]
    },
    {
     "name": "stdout",
     "output_type": "stream",
     "text": [
      "Finished Training on seaquest_beginner_perturb5\n",
      "    ➤ Avg Train Loss: 0.03984\n",
      "    ➤ Avg Val Loss: 0.04444\n",
      "    ➤ Avg Reward: 134.00\n",
      "Saving the model...\n",
      "Saved model to offline_rl_models/behavior_value_estimation_bve/bve_logs/seaquest_beginner/perturb5/bve_model_perturb5_seed3.pth\n",
      "Saved stats to offline_rl_models/behavior_value_estimation_bve/bve_logs/seaquest_beginner/perturb5/stats_perturb5.pkl\n",
      "----- Execution time: BVE - Beginner | Perturbation 5% -----\n",
      "CPU times: total: 3h 55min 8s\n",
      "Wall time: 3h 13min 42s\n"
     ]
    }
   ],
   "source": [
    "%%time\n",
    "\n",
    "# BVE model -> Beginner dataset, 5% perturbation\n",
    "train_and_evaluate_BVE(\n",
    "    dataloaders=dataloaders,\n",
    "    device=device,\n",
    "    seeds=SEEDS,\n",
    "    epochs=EPOCHS,\n",
    "    dataset='seaquest_beginner_perturb5',\n",
    "    env_id=ENV_ID,\n",
    "    seed=SEED\n",
    ")\n",
    "\n",
    "print(\"----- Execution time: BVE - Beginner | Perturbation 5% -----\")"
   ]
  },
  {
   "cell_type": "markdown",
   "metadata": {},
   "source": [
    "<h4>Implicit Q-Learning (IQL)</h4>"
   ]
  },
  {
   "cell_type": "code",
   "execution_count": 7,
   "metadata": {},
   "outputs": [
    {
     "name": "stdout",
     "output_type": "stream",
     "text": [
      "Training IQL on seaquest_beginner_perturb5\n",
      "-- Starting Seed 1/3 --\n"
     ]
    },
    {
     "name": "stderr",
     "output_type": "stream",
     "text": [
      "Epochs: 100%|██████████| 10/10 [1:10:51<00:00, 425.15s/it]\n"
     ]
    },
    {
     "name": "stdout",
     "output_type": "stream",
     "text": [
      "Finished Training on seaquest_beginner_perturb5\n",
      "    ➤ Avg Actor Loss: 0.38308\n",
      "    ➤ Avg Critic1 Loss: 0.04042\n",
      "    ➤ Avg Critic2 Loss: 0.04041\n",
      "    ➤ Avg Value Loss: 0.00023\n",
      "    ➤ Avg Validation Loss: 0.82830\n",
      "    ➤ Avg Reward: 82.00\n",
      "Saving the model...\n",
      "Model saved to offline_rl_models/implicit_q_learning_iql/iql_logs/seaquest_beginner/perturb5/iql_model_perturb5_seed1.pth\n",
      "-- Starting Seed 2/3 --\n"
     ]
    },
    {
     "name": "stderr",
     "output_type": "stream",
     "text": [
      "Epochs: 100%|██████████| 10/10 [1:12:45<00:00, 436.51s/it]\n"
     ]
    },
    {
     "name": "stdout",
     "output_type": "stream",
     "text": [
      "Finished Training on seaquest_beginner_perturb5\n",
      "    ➤ Avg Actor Loss: 0.35953\n",
      "    ➤ Avg Critic1 Loss: 0.04033\n",
      "    ➤ Avg Critic2 Loss: 0.04034\n",
      "    ➤ Avg Value Loss: 0.00022\n",
      "    ➤ Avg Validation Loss: 0.82422\n",
      "    ➤ Avg Reward: 54.00\n",
      "Saving the model...\n",
      "Model saved to offline_rl_models/implicit_q_learning_iql/iql_logs/seaquest_beginner/perturb5/iql_model_perturb5_seed2.pth\n",
      "-- Starting Seed 3/3 --\n"
     ]
    },
    {
     "name": "stderr",
     "output_type": "stream",
     "text": [
      "Epochs: 100%|██████████| 10/10 [1:14:18<00:00, 445.82s/it]\n"
     ]
    },
    {
     "name": "stdout",
     "output_type": "stream",
     "text": [
      "Finished Training on seaquest_beginner_perturb5\n",
      "    ➤ Avg Actor Loss: 0.34982\n",
      "    ➤ Avg Critic1 Loss: 0.04011\n",
      "    ➤ Avg Critic2 Loss: 0.04018\n",
      "    ➤ Avg Value Loss: 0.00021\n",
      "    ➤ Avg Validation Loss: 0.82678\n",
      "    ➤ Avg Reward: 78.00\n",
      "Saving the model...\n",
      "Model saved to offline_rl_models/implicit_q_learning_iql/iql_logs/seaquest_beginner/perturb5/iql_model_perturb5_seed3.pth\n",
      "Return Stats saved to offline_rl_models/implicit_q_learning_iql/iql_logs/seaquest_beginner/perturb5/stats_perturb5.pkl\n",
      "----- Execution time: IQL - Beginner | Perturbation 5% -----\n",
      "CPU times: total: 4h 19min 30s\n",
      "Wall time: 3h 38min 8s\n"
     ]
    }
   ],
   "source": [
    "%%time\n",
    "\n",
    "# IQL model -> Beginner dataset, 5% perturbation\n",
    "train_and_evaluate_IQL(\n",
    "    dataloaders=dataloaders,\n",
    "    device=device,\n",
    "    seeds=SEEDS,\n",
    "    epochs=EPOCHS,\n",
    "    dataset='seaquest_beginner_perturb5',\n",
    "    env_id=ENV_ID,\n",
    "    seed=SEED\n",
    ")\n",
    "\n",
    "print(\"----- Execution time: IQL - Beginner | Perturbation 5% -----\") "
   ]
  },
  {
   "cell_type": "markdown",
   "metadata": {},
   "source": [
    "-----------------"
   ]
  },
  {
   "cell_type": "markdown",
   "metadata": {},
   "source": [
    "<h3><u>10% Perturbation:</u></h3>\n",
    "\n",
    "First, we will load and prepare the Beginner dataset with 10% perturbation."
   ]
  },
  {
   "cell_type": "code",
   "execution_count": 6,
   "metadata": {},
   "outputs": [
    {
     "name": "stdout",
     "output_type": "stream",
     "text": [
      "=== Loading seaquest_beginner_perturb10 dataset ===\n",
      "Preprocessing and splitting seaquest_beginner_perturb10 dataset...\n",
      "Creating dataloaders for seaquest_beginner_perturb10...\n",
      "Dataloaders ready for: seaquest_beginner_perturb10\n"
     ]
    }
   ],
   "source": [
    "dataloaders = load_and_prepare_dataset(\n",
    "    dataset_path='datasets/beginner_logs/seaquest_beginner_perturb10.pkl',\n",
    "    batch_size=BATCH_SIZE,\n",
    "    seed=SEED\n",
    ")"
   ]
  },
  {
   "cell_type": "markdown",
   "metadata": {},
   "source": [
    "<h4>Behavioral Cloning (BC)</h4>"
   ]
  },
  {
   "cell_type": "code",
   "execution_count": 7,
   "metadata": {},
   "outputs": [
    {
     "name": "stdout",
     "output_type": "stream",
     "text": [
      "Training BC on seaquest_beginner_perturb10\n",
      "-- Starting Seed 1/3 --\n"
     ]
    },
    {
     "name": "stderr",
     "output_type": "stream",
     "text": [
      "Epochs: 100%|██████████| 10/10 [1:03:17<00:00, 379.80s/it]\n"
     ]
    },
    {
     "name": "stdout",
     "output_type": "stream",
     "text": [
      "Finished Training on seaquest_beginner_perturb10\n",
      "    ➤ Avg Train Loss: 0.78067\n",
      "    ➤ Avg Validation Loss: 1.13129\n",
      "    ➤ Avg Reward: 112.00\n",
      "Saving the model...\n",
      "Model saved to offline_rl_models/behavioral_cloning_bc/bc_logs/seaquest_beginner/perturb10/bc_model_perturb10_seed1.pth\n",
      "-- Starting Seed 2/3 --\n"
     ]
    },
    {
     "name": "stderr",
     "output_type": "stream",
     "text": [
      "Epochs: 100%|██████████| 10/10 [1:03:17<00:00, 379.74s/it]\n"
     ]
    },
    {
     "name": "stdout",
     "output_type": "stream",
     "text": [
      "Finished Training on seaquest_beginner_perturb10\n",
      "    ➤ Avg Train Loss: 0.78177\n",
      "    ➤ Avg Validation Loss: 1.14384\n",
      "    ➤ Avg Reward: 128.00\n",
      "Saving the model...\n",
      "Model saved to offline_rl_models/behavioral_cloning_bc/bc_logs/seaquest_beginner/perturb10/bc_model_perturb10_seed2.pth\n",
      "-- Starting Seed 3/3 --\n"
     ]
    },
    {
     "name": "stderr",
     "output_type": "stream",
     "text": [
      "Epochs: 100%|██████████| 10/10 [1:02:54<00:00, 377.49s/it]\n"
     ]
    },
    {
     "name": "stdout",
     "output_type": "stream",
     "text": [
      "Finished Training on seaquest_beginner_perturb10\n",
      "    ➤ Avg Train Loss: 0.79521\n",
      "    ➤ Avg Validation Loss: 1.11932\n",
      "    ➤ Avg Reward: 102.00\n",
      "Saving the model...\n",
      "Model saved to offline_rl_models/behavioral_cloning_bc/bc_logs/seaquest_beginner/perturb10/bc_model_perturb10_seed3.pth\n",
      "Return Stats saved to offline_rl_models/behavioral_cloning_bc/bc_logs/seaquest_beginner/perturb10/stats_perturb10.pkl\n",
      "----- Execution time: BC - Beginner | Perturbation 10% -----\n",
      "CPU times: total: 3h 49min 58s\n",
      "Wall time: 3h 9min 38s\n"
     ]
    }
   ],
   "source": [
    "%%time\n",
    "\n",
    "# BC model -> Beginner dataset, 10% perturbation\n",
    "train_and_evaluate_BC(\n",
    "    dataloaders=dataloaders,\n",
    "    device=device,\n",
    "    seeds=SEEDS,\n",
    "    epochs=EPOCHS,\n",
    "    dataset='seaquest_beginner_perturb10',\n",
    "    env_id=ENV_ID,\n",
    "    seed=SEED\n",
    ")\n",
    "\n",
    "print(\"----- Execution time: BC - Beginner | Perturbation 10% -----\")"
   ]
  },
  {
   "cell_type": "markdown",
   "metadata": {},
   "source": [
    "<h4>Behavior Value Estimation (BVE)</h4>"
   ]
  },
  {
   "cell_type": "code",
   "execution_count": 7,
   "metadata": {},
   "outputs": [
    {
     "name": "stdout",
     "output_type": "stream",
     "text": [
      "Training BVE on seaquest_beginner_perturb10\n",
      "-- Starting Seed 1/3 --\n"
     ]
    },
    {
     "name": "stderr",
     "output_type": "stream",
     "text": [
      "Epochs: 100%|██████████| 10/10 [1:02:21<00:00, 374.14s/it]\n"
     ]
    },
    {
     "name": "stdout",
     "output_type": "stream",
     "text": [
      "Finished Training on seaquest_beginner_perturb10\n",
      "    ➤ Avg Train Loss: 0.04170\n",
      "    ➤ Avg Val Loss: 0.03870\n",
      "    ➤ Avg Reward: 130.00\n",
      "Saving the model...\n",
      "Saved model to offline_rl_models/behavior_value_estimation_bve/bve_logs/seaquest_beginner/perturb10/bve_model_perturb10_seed1.pth\n",
      "-- Starting Seed 2/3 --\n"
     ]
    },
    {
     "name": "stderr",
     "output_type": "stream",
     "text": [
      "Epochs: 100%|██████████| 10/10 [1:03:05<00:00, 378.59s/it]\n"
     ]
    },
    {
     "name": "stdout",
     "output_type": "stream",
     "text": [
      "Finished Training on seaquest_beginner_perturb10\n",
      "    ➤ Avg Train Loss: 0.04174\n",
      "    ➤ Avg Val Loss: 0.03865\n",
      "    ➤ Avg Reward: 118.00\n",
      "Saving the model...\n",
      "Saved model to offline_rl_models/behavior_value_estimation_bve/bve_logs/seaquest_beginner/perturb10/bve_model_perturb10_seed2.pth\n",
      "-- Starting Seed 3/3 --\n"
     ]
    },
    {
     "name": "stderr",
     "output_type": "stream",
     "text": [
      "Epochs: 100%|██████████| 10/10 [1:04:24<00:00, 386.48s/it]\n"
     ]
    },
    {
     "name": "stdout",
     "output_type": "stream",
     "text": [
      "Finished Training on seaquest_beginner_perturb10\n",
      "    ➤ Avg Train Loss: 0.04160\n",
      "    ➤ Avg Val Loss: 0.03860\n",
      "    ➤ Avg Reward: 100.00\n",
      "Saving the model...\n",
      "Saved model to offline_rl_models/behavior_value_estimation_bve/bve_logs/seaquest_beginner/perturb10/bve_model_perturb10_seed3.pth\n",
      "Saved stats to offline_rl_models/behavior_value_estimation_bve/bve_logs/seaquest_beginner/perturb10/stats_perturb10.pkl\n",
      "----- Execution time: BVE - Beginner | Perturbation 10% -----\n",
      "CPU times: total: 3h 51min 34s\n",
      "Wall time: 3h 10min 1s\n"
     ]
    }
   ],
   "source": [
    "%%time\n",
    "\n",
    "# BVE model -> Beginner dataset, 10% perturbation\n",
    "train_and_evaluate_BVE(\n",
    "    dataloaders=dataloaders,\n",
    "    device=device,\n",
    "    seeds=SEEDS,\n",
    "    epochs=EPOCHS,\n",
    "    dataset='seaquest_beginner_perturb10',\n",
    "    env_id=ENV_ID,\n",
    "    seed=SEED\n",
    ")\n",
    "\n",
    "print(\"----- Execution time: BVE - Beginner | Perturbation 10% -----\")"
   ]
  },
  {
   "cell_type": "markdown",
   "metadata": {},
   "source": [
    "<h4>Implicit Q-Learning (IQL)</h4>"
   ]
  },
  {
   "cell_type": "code",
   "execution_count": 7,
   "metadata": {},
   "outputs": [
    {
     "name": "stdout",
     "output_type": "stream",
     "text": [
      "Training IQL on seaquest_beginner_perturb10\n",
      "-- Starting Seed 1/3 --\n"
     ]
    },
    {
     "name": "stderr",
     "output_type": "stream",
     "text": [
      "Epochs: 100%|██████████| 10/10 [1:09:12<00:00, 415.20s/it]\n"
     ]
    },
    {
     "name": "stdout",
     "output_type": "stream",
     "text": [
      "Finished Training on seaquest_beginner_perturb10\n",
      "    ➤ Avg Actor Loss: 0.48676\n",
      "    ➤ Avg Critic1 Loss: 0.04186\n",
      "    ➤ Avg Critic2 Loss: 0.04184\n",
      "    ➤ Avg Value Loss: 0.00026\n",
      "    ➤ Avg Validation Loss: 1.14102\n",
      "    ➤ Avg Reward: 44.00\n",
      "Saving the model...\n",
      "Model saved to offline_rl_models/implicit_q_learning_iql/iql_logs/seaquest_beginner/perturb10/iql_model_perturb10_seed1.pth\n",
      "-- Starting Seed 2/3 --\n"
     ]
    },
    {
     "name": "stderr",
     "output_type": "stream",
     "text": [
      "Epochs: 100%|██████████| 10/10 [1:10:46<00:00, 424.69s/it]\n"
     ]
    },
    {
     "name": "stdout",
     "output_type": "stream",
     "text": [
      "Finished Training on seaquest_beginner_perturb10\n",
      "    ➤ Avg Actor Loss: 0.49054\n",
      "    ➤ Avg Critic1 Loss: 0.04202\n",
      "    ➤ Avg Critic2 Loss: 0.04205\n",
      "    ➤ Avg Value Loss: 0.00026\n",
      "    ➤ Avg Validation Loss: 1.12868\n",
      "    ➤ Avg Reward: 36.00\n",
      "Saving the model...\n",
      "Model saved to offline_rl_models/implicit_q_learning_iql/iql_logs/seaquest_beginner/perturb10/iql_model_perturb10_seed2.pth\n",
      "-- Starting Seed 3/3 --\n"
     ]
    },
    {
     "name": "stderr",
     "output_type": "stream",
     "text": [
      "Epochs: 100%|██████████| 10/10 [1:12:38<00:00, 435.81s/it]\n"
     ]
    },
    {
     "name": "stdout",
     "output_type": "stream",
     "text": [
      "Finished Training on seaquest_beginner_perturb10\n",
      "    ➤ Avg Actor Loss: 0.47351\n",
      "    ➤ Avg Critic1 Loss: 0.04179\n",
      "    ➤ Avg Critic2 Loss: 0.04187\n",
      "    ➤ Avg Value Loss: 0.00025\n",
      "    ➤ Avg Validation Loss: 1.12495\n",
      "    ➤ Avg Reward: 70.00\n",
      "Saving the model...\n",
      "Model saved to offline_rl_models/implicit_q_learning_iql/iql_logs/seaquest_beginner/perturb10/iql_model_perturb10_seed3.pth\n",
      "Return Stats saved to offline_rl_models/implicit_q_learning_iql/iql_logs/seaquest_beginner/perturb10/stats_perturb10.pkl\n",
      "----- Execution time: IQL - Beginner | Perturbation 10% -----\n",
      "CPU times: total: 4h 15min 15s\n",
      "Wall time: 3h 32min 50s\n"
     ]
    }
   ],
   "source": [
    "%%time\n",
    "\n",
    "# IQL model -> Beginner dataset, 10% perturbation\n",
    "train_and_evaluate_IQL(\n",
    "    dataloaders=dataloaders,\n",
    "    device=device,\n",
    "    seeds=SEEDS,\n",
    "    epochs=EPOCHS,\n",
    "    dataset='seaquest_beginner_perturb10',\n",
    "    env_id=ENV_ID,\n",
    "    seed=SEED\n",
    ")\n",
    "\n",
    "print(\"----- Execution time: IQL - Beginner | Perturbation 10% -----\") "
   ]
  },
  {
   "cell_type": "markdown",
   "metadata": {},
   "source": [
    "-----------------"
   ]
  },
  {
   "cell_type": "markdown",
   "metadata": {},
   "source": [
    "<h3><u>20% Perturbation:</u></h3>\n",
    "\n",
    "First, we will load and prepare the Beginner dataset with 20% perturbation."
   ]
  },
  {
   "cell_type": "code",
   "execution_count": 6,
   "metadata": {},
   "outputs": [
    {
     "name": "stdout",
     "output_type": "stream",
     "text": [
      "=== Loading seaquest_beginner_perturb20 dataset ===\n",
      "Preprocessing and splitting seaquest_beginner_perturb20 dataset...\n",
      "Creating dataloaders for seaquest_beginner_perturb20...\n",
      "Dataloaders ready for: seaquest_beginner_perturb20\n"
     ]
    }
   ],
   "source": [
    "dataloaders = load_and_prepare_dataset(\n",
    "    dataset_path='datasets/beginner_logs/seaquest_beginner_perturb20.pkl',\n",
    "    batch_size=BATCH_SIZE,\n",
    "    seed=SEED\n",
    ")"
   ]
  },
  {
   "cell_type": "markdown",
   "metadata": {},
   "source": [
    "<h4>Behavioral Cloning (BC)</h4>"
   ]
  },
  {
   "cell_type": "code",
   "execution_count": 7,
   "metadata": {},
   "outputs": [
    {
     "name": "stdout",
     "output_type": "stream",
     "text": [
      "Training BC on seaquest_beginner_perturb20\n",
      "-- Starting Seed 1/3 --\n"
     ]
    },
    {
     "name": "stderr",
     "output_type": "stream",
     "text": [
      "Epochs: 100%|██████████| 10/10 [1:05:59<00:00, 395.94s/it]\n"
     ]
    },
    {
     "name": "stdout",
     "output_type": "stream",
     "text": [
      "Finished Training on seaquest_beginner_perturb20\n",
      "    ➤ Avg Train Loss: 1.16269\n",
      "    ➤ Avg Validation Loss: 1.64394\n",
      "    ➤ Avg Reward: 90.00\n",
      "Saving the model...\n",
      "Model saved to offline_rl_models/behavioral_cloning_bc/bc_logs/seaquest_beginner/perturb20/bc_model_perturb20_seed1.pth\n",
      "-- Starting Seed 2/3 --\n"
     ]
    },
    {
     "name": "stderr",
     "output_type": "stream",
     "text": [
      "Epochs: 100%|██████████| 10/10 [1:14:19<00:00, 445.99s/it]\n"
     ]
    },
    {
     "name": "stdout",
     "output_type": "stream",
     "text": [
      "Finished Training on seaquest_beginner_perturb20\n",
      "    ➤ Avg Train Loss: 1.17402\n",
      "    ➤ Avg Validation Loss: 1.64498\n",
      "    ➤ Avg Reward: 108.00\n",
      "Saving the model...\n",
      "Model saved to offline_rl_models/behavioral_cloning_bc/bc_logs/seaquest_beginner/perturb20/bc_model_perturb20_seed2.pth\n",
      "-- Starting Seed 3/3 --\n"
     ]
    },
    {
     "name": "stderr",
     "output_type": "stream",
     "text": [
      "Epochs: 100%|██████████| 10/10 [1:03:44<00:00, 382.40s/it]\n"
     ]
    },
    {
     "name": "stdout",
     "output_type": "stream",
     "text": [
      "Finished Training on seaquest_beginner_perturb20\n",
      "    ➤ Avg Train Loss: 1.17974\n",
      "    ➤ Avg Validation Loss: 1.63410\n",
      "    ➤ Avg Reward: 96.00\n",
      "Saving the model...\n",
      "Model saved to offline_rl_models/behavioral_cloning_bc/bc_logs/seaquest_beginner/perturb20/bc_model_perturb20_seed3.pth\n",
      "Return Stats saved to offline_rl_models/behavioral_cloning_bc/bc_logs/seaquest_beginner/perturb20/stats_perturb20.pkl\n",
      "----- Execution time: BC - Beginner | Perturbation 20% -----\n",
      "CPU times: total: 4h 5min 9s\n",
      "Wall time: 3h 24min 11s\n"
     ]
    }
   ],
   "source": [
    "%%time\n",
    "\n",
    "# BC model -> Beginner dataset, 20% perturbation\n",
    "train_and_evaluate_BC(\n",
    "    dataloaders=dataloaders,\n",
    "    device=device,\n",
    "    seeds=SEEDS,\n",
    "    epochs=EPOCHS,\n",
    "    dataset='seaquest_beginner_perturb20',\n",
    "    env_id=ENV_ID,\n",
    "    seed=SEED\n",
    ")\n",
    "\n",
    "print(\"----- Execution time: BC - Beginner | Perturbation 20% -----\")"
   ]
  },
  {
   "cell_type": "markdown",
   "metadata": {},
   "source": [
    "<h4>Behavior Value Estimation (BVE)</h4>"
   ]
  },
  {
   "cell_type": "code",
   "execution_count": 14,
   "metadata": {},
   "outputs": [
    {
     "name": "stdout",
     "output_type": "stream",
     "text": [
      "Training BVE on seaquest_beginner_perturb20\n",
      "-- Starting Seed 1/3 --\n"
     ]
    },
    {
     "name": "stderr",
     "output_type": "stream",
     "text": [
      "Epochs: 100%|██████████| 10/10 [1:03:25<00:00, 380.56s/it]\n"
     ]
    },
    {
     "name": "stdout",
     "output_type": "stream",
     "text": [
      "Finished Training on seaquest_beginner_perturb20\n",
      "    ➤ Avg Train Loss: 0.04720\n",
      "    ➤ Avg Val Loss: 0.04362\n",
      "    ➤ Avg Reward: 120.00\n",
      "Saving the model...\n",
      "Saved model to offline_rl_models/behavior_value_estimation_bve/bve_logs/seaquest_beginner/perturb20/bve_model_perturb20_seed1.pth\n",
      "-- Starting Seed 2/3 --\n"
     ]
    },
    {
     "name": "stderr",
     "output_type": "stream",
     "text": [
      "Epochs: 100%|██████████| 10/10 [1:04:26<00:00, 386.68s/it]\n"
     ]
    },
    {
     "name": "stdout",
     "output_type": "stream",
     "text": [
      "Finished Training on seaquest_beginner_perturb20\n",
      "    ➤ Avg Train Loss: 0.04734\n",
      "    ➤ Avg Val Loss: 0.04358\n",
      "    ➤ Avg Reward: 150.00\n",
      "Saving the model...\n",
      "Saved model to offline_rl_models/behavior_value_estimation_bve/bve_logs/seaquest_beginner/perturb20/bve_model_perturb20_seed2.pth\n",
      "-- Starting Seed 3/3 --\n"
     ]
    },
    {
     "name": "stderr",
     "output_type": "stream",
     "text": [
      "Epochs: 100%|██████████| 10/10 [1:04:10<00:00, 385.04s/it]\n"
     ]
    },
    {
     "name": "stdout",
     "output_type": "stream",
     "text": [
      "Finished Training on seaquest_beginner_perturb20\n",
      "    ➤ Avg Train Loss: 0.04708\n",
      "    ➤ Avg Val Loss: 0.04358\n",
      "    ➤ Avg Reward: 154.00\n",
      "Saving the model...\n",
      "Saved model to offline_rl_models/behavior_value_estimation_bve/bve_logs/seaquest_beginner/perturb20/bve_model_perturb20_seed3.pth\n",
      "Saved stats to offline_rl_models/behavior_value_estimation_bve/bve_logs/seaquest_beginner/perturb20/stats_perturb20.pkl\n",
      "----- Execution time: BVE - Beginner | Perturbation 20% -----\n",
      "CPU times: total: 3h 53min 24s\n",
      "Wall time: 3h 12min 13s\n"
     ]
    }
   ],
   "source": [
    "%%time\n",
    "\n",
    "# BVE model -> Beginner dataset, 20% perturbation\n",
    "train_and_evaluate_BVE(\n",
    "    dataloaders=dataloaders,\n",
    "    device=device,\n",
    "    seeds=SEEDS,\n",
    "    epochs=EPOCHS,\n",
    "    dataset='seaquest_beginner_perturb20',\n",
    "    env_id=ENV_ID,\n",
    "    seed=SEED\n",
    ")\n",
    "\n",
    "print(\"----- Execution time: BVE - Beginner | Perturbation 20% -----\")"
   ]
  },
  {
   "cell_type": "markdown",
   "metadata": {},
   "source": [
    "<h4>Implicit Q-Learning (IQL)</h4>"
   ]
  },
  {
   "cell_type": "code",
   "execution_count": 7,
   "metadata": {},
   "outputs": [
    {
     "name": "stdout",
     "output_type": "stream",
     "text": [
      "Training IQL on seaquest_beginner_perturb20\n",
      "-- Starting Seed 1/3 --\n"
     ]
    },
    {
     "name": "stderr",
     "output_type": "stream",
     "text": [
      "Epochs: 100%|██████████| 10/10 [1:11:09<00:00, 426.94s/it]\n"
     ]
    },
    {
     "name": "stdout",
     "output_type": "stream",
     "text": [
      "Finished Training on seaquest_beginner_perturb20\n",
      "    ➤ Avg Actor Loss: 0.68427\n",
      "    ➤ Avg Critic1 Loss: 0.04792\n",
      "    ➤ Avg Critic2 Loss: 0.04792\n",
      "    ➤ Avg Value Loss: 0.00028\n",
      "    ➤ Avg Validation Loss: 1.54215\n",
      "    ➤ Avg Reward: 26.00\n",
      "Saving the model...\n",
      "Model saved to offline_rl_models/implicit_q_learning_iql/iql_logs/seaquest_beginner/perturb20/iql_model_perturb20_seed1.pth\n",
      "-- Starting Seed 2/3 --\n"
     ]
    },
    {
     "name": "stderr",
     "output_type": "stream",
     "text": [
      "Epochs: 100%|██████████| 10/10 [1:13:14<00:00, 439.41s/it]\n"
     ]
    },
    {
     "name": "stdout",
     "output_type": "stream",
     "text": [
      "Finished Training on seaquest_beginner_perturb20\n",
      "    ➤ Avg Actor Loss: 0.66933\n",
      "    ➤ Avg Critic1 Loss: 0.04791\n",
      "    ➤ Avg Critic2 Loss: 0.04793\n",
      "    ➤ Avg Value Loss: 0.00026\n",
      "    ➤ Avg Validation Loss: 1.55796\n",
      "    ➤ Avg Reward: 10.00\n",
      "Saving the model...\n",
      "Model saved to offline_rl_models/implicit_q_learning_iql/iql_logs/seaquest_beginner/perturb20/iql_model_perturb20_seed2.pth\n",
      "-- Starting Seed 3/3 --\n"
     ]
    },
    {
     "name": "stderr",
     "output_type": "stream",
     "text": [
      "Epochs: 100%|██████████| 10/10 [1:13:04<00:00, 438.41s/it]\n"
     ]
    },
    {
     "name": "stdout",
     "output_type": "stream",
     "text": [
      "Finished Training on seaquest_beginner_perturb20\n",
      "    ➤ Avg Actor Loss: 0.66543\n",
      "    ➤ Avg Critic1 Loss: 0.04751\n",
      "    ➤ Avg Critic2 Loss: 0.04758\n",
      "    ➤ Avg Value Loss: 0.00031\n",
      "    ➤ Avg Validation Loss: 1.54557\n",
      "    ➤ Avg Reward: 48.00\n",
      "Saving the model...\n",
      "Model saved to offline_rl_models/implicit_q_learning_iql/iql_logs/seaquest_beginner/perturb20/iql_model_perturb20_seed3.pth\n",
      "Return Stats saved to offline_rl_models/implicit_q_learning_iql/iql_logs/seaquest_beginner/perturb20/stats_perturb20.pkl\n",
      "----- Execution time: IQL - Beginner | Perturbation 20% -----\n",
      "CPU times: total: 4h 24min 26s\n",
      "Wall time: 3h 37min 40s\n"
     ]
    }
   ],
   "source": [
    "%%time\n",
    "\n",
    "# IQL model -> Beginner dataset, 20% perturbation\n",
    "train_and_evaluate_IQL(\n",
    "    dataloaders=dataloaders,\n",
    "    device=device,\n",
    "    seeds=SEEDS,\n",
    "    epochs=EPOCHS,\n",
    "    dataset='seaquest_beginner_perturb20',\n",
    "    env_id=ENV_ID,\n",
    "    seed=SEED\n",
    ")\n",
    "\n",
    "print(\"----- Execution time: IQL - Beginner | Perturbation 20% -----\") "
   ]
  },
  {
   "cell_type": "markdown",
   "metadata": {},
   "source": [
    "------------------"
   ]
  },
  {
   "cell_type": "markdown",
   "metadata": {},
   "source": [
    "<div id='models_intermediate'>\n",
    "<h2 style=\"color:rgb(0,120,170)\">Training all models on: Intermediate Dataset</h2>\n",
    "\n",
    "In this section, we will train all three offline RL methods (BC, BVE, and IQL) on the Intermediate dataset, with varying levels of perturbation (0%, 5%, 10%, and 20%). Each method will be trained for 10 epochs, and the results will be saved to disk for later evaluation."
   ]
  },
  {
   "cell_type": "markdown",
   "metadata": {},
   "source": [
    "<h3><u>0% Perturbation:</u></h3>\n",
    "\n",
    "First, we will load and prepare the Intermediate dataset with 0% perturbation."
   ]
  },
  {
   "cell_type": "code",
   "execution_count": 6,
   "metadata": {},
   "outputs": [
    {
     "name": "stdout",
     "output_type": "stream",
     "text": [
      "=== Loading seaquest_intermediate_perturb0 dataset ===\n",
      "Preprocessing and splitting seaquest_intermediate_perturb0 dataset...\n",
      "Creating dataloaders for seaquest_intermediate_perturb0...\n",
      "Dataloaders ready for: seaquest_intermediate_perturb0\n"
     ]
    }
   ],
   "source": [
    "dataloaders = load_and_prepare_dataset(\n",
    "    dataset_path='datasets/intermediate_logs/seaquest_intermediate_perturb0.pkl',\n",
    "    batch_size=BATCH_SIZE,\n",
    "    seed=SEED\n",
    ")"
   ]
  },
  {
   "cell_type": "markdown",
   "metadata": {},
   "source": [
    "<h4>Behavioral Cloning (BC)</h4>"
   ]
  },
  {
   "cell_type": "code",
   "execution_count": 7,
   "metadata": {},
   "outputs": [
    {
     "name": "stdout",
     "output_type": "stream",
     "text": [
      "Training BC on seaquest_intermediate_perturb0\n",
      "-- Starting Seed 1/3 --\n"
     ]
    },
    {
     "name": "stderr",
     "output_type": "stream",
     "text": [
      "Epochs: 100%|██████████| 10/10 [1:05:51<00:00, 395.15s/it]\n"
     ]
    },
    {
     "name": "stdout",
     "output_type": "stream",
     "text": [
      "Finished Training on seaquest_intermediate_perturb0\n",
      "    ➤ Avg Train Loss: 0.28432\n",
      "    ➤ Avg Validation Loss: 0.41366\n",
      "    ➤ Avg Reward: 234.00\n",
      "Saving the model...\n",
      "Model saved to offline_rl_models/behavioral_cloning_bc/bc_logs/seaquest_intermediate/perturb0/bc_model_perturb0_seed1.pth\n",
      "-- Starting Seed 2/3 --\n"
     ]
    },
    {
     "name": "stderr",
     "output_type": "stream",
     "text": [
      "Epochs: 100%|██████████| 10/10 [1:06:51<00:00, 401.14s/it]\n"
     ]
    },
    {
     "name": "stdout",
     "output_type": "stream",
     "text": [
      "Finished Training on seaquest_intermediate_perturb0\n",
      "    ➤ Avg Train Loss: 0.27632\n",
      "    ➤ Avg Validation Loss: 0.40081\n",
      "    ➤ Avg Reward: 246.00\n",
      "Saving the model...\n",
      "Model saved to offline_rl_models/behavioral_cloning_bc/bc_logs/seaquest_intermediate/perturb0/bc_model_perturb0_seed2.pth\n",
      "-- Starting Seed 3/3 --\n"
     ]
    },
    {
     "name": "stderr",
     "output_type": "stream",
     "text": [
      "Epochs: 100%|██████████| 10/10 [1:06:50<00:00, 401.03s/it]\n"
     ]
    },
    {
     "name": "stdout",
     "output_type": "stream",
     "text": [
      "Finished Training on seaquest_intermediate_perturb0\n",
      "    ➤ Avg Train Loss: 0.28067\n",
      "    ➤ Avg Validation Loss: 0.41067\n",
      "    ➤ Avg Reward: 228.00\n",
      "Saving the model...\n",
      "Model saved to offline_rl_models/behavioral_cloning_bc/bc_logs/seaquest_intermediate/perturb0/bc_model_perturb0_seed3.pth\n",
      "Return Stats saved to offline_rl_models/behavioral_cloning_bc/bc_logs/seaquest_intermediate/perturb0/stats_perturb0.pkl\n",
      "----- Execution time: BC - Intermediate | Perturbation 0% -----\n",
      "CPU times: total: 4h 3min 37s\n",
      "Wall time: 3h 19min 41s\n"
     ]
    }
   ],
   "source": [
    "%%time\n",
    "\n",
    "# BC model -> Intermediate dataset, 0% perturbation\n",
    "train_and_evaluate_BC(\n",
    "    dataloaders=dataloaders,\n",
    "    device=device,\n",
    "    seeds=SEEDS,\n",
    "    epochs=EPOCHS,\n",
    "    dataset='seaquest_intermediate_perturb0',\n",
    "    env_id=ENV_ID,\n",
    "    seed=SEED\n",
    ")\n",
    "\n",
    "print(\"----- Execution time: BC - Intermediate | Perturbation 0% -----\")"
   ]
  },
  {
   "cell_type": "markdown",
   "metadata": {},
   "source": [
    "<h4>Behavior Value Estimation (BVE)</h4>"
   ]
  },
  {
   "cell_type": "code",
   "execution_count": 7,
   "metadata": {},
   "outputs": [
    {
     "name": "stdout",
     "output_type": "stream",
     "text": [
      "Training BVE on seaquest_intermediate_perturb0\n",
      "-- Starting Seed 1/3 --\n"
     ]
    },
    {
     "name": "stderr",
     "output_type": "stream",
     "text": [
      "Epochs: 100%|██████████| 10/10 [1:04:33<00:00, 387.35s/it]\n"
     ]
    },
    {
     "name": "stdout",
     "output_type": "stream",
     "text": [
      "Finished Training on seaquest_intermediate_perturb0\n",
      "    ➤ Avg Train Loss: 0.08025\n",
      "    ➤ Avg Val Loss: 0.07806\n",
      "    ➤ Avg Reward: 38.00\n",
      "Saving the model...\n",
      "Saved model to offline_rl_models/behavior_value_estimation_bve/bve_logs/seaquest_intermediate/perturb0/bve_model_perturb0_seed1.pth\n",
      "-- Starting Seed 2/3 --\n"
     ]
    },
    {
     "name": "stderr",
     "output_type": "stream",
     "text": [
      "Epochs: 100%|██████████| 10/10 [1:07:23<00:00, 404.31s/it]\n"
     ]
    },
    {
     "name": "stdout",
     "output_type": "stream",
     "text": [
      "Finished Training on seaquest_intermediate_perturb0\n",
      "    ➤ Avg Train Loss: 0.08030\n",
      "    ➤ Avg Val Loss: 0.07794\n",
      "    ➤ Avg Reward: 6.00\n",
      "Saving the model...\n",
      "Saved model to offline_rl_models/behavior_value_estimation_bve/bve_logs/seaquest_intermediate/perturb0/bve_model_perturb0_seed2.pth\n",
      "-- Starting Seed 3/3 --\n"
     ]
    },
    {
     "name": "stderr",
     "output_type": "stream",
     "text": [
      "Epochs: 100%|██████████| 10/10 [1:08:24<00:00, 410.45s/it]\n"
     ]
    },
    {
     "name": "stdout",
     "output_type": "stream",
     "text": [
      "Finished Training on seaquest_intermediate_perturb0\n",
      "    ➤ Avg Train Loss: 0.08300\n",
      "    ➤ Avg Val Loss: 0.08294\n",
      "    ➤ Avg Reward: 0.00\n",
      "Saving the model...\n",
      "Saved model to offline_rl_models/behavior_value_estimation_bve/bve_logs/seaquest_intermediate/perturb0/bve_model_perturb0_seed3.pth\n",
      "Saved stats to offline_rl_models/behavior_value_estimation_bve/bve_logs/seaquest_intermediate/perturb0/stats_perturb0.pkl\n",
      "----- Execution time: BVE - Intermediate | Perturbation 0% -----\n",
      "CPU times: total: 4h 1min 52s\n",
      "Wall time: 3h 20min 31s\n"
     ]
    }
   ],
   "source": [
    "%%time\n",
    "\n",
    "# BVE model -> Intermediate dataset, 0% perturbation\n",
    "train_and_evaluate_BVE(\n",
    "    dataloaders=dataloaders,\n",
    "    device=device,\n",
    "    seeds=SEEDS,\n",
    "    epochs=EPOCHS,\n",
    "    dataset='seaquest_intermediate_perturb0',\n",
    "    env_id=ENV_ID,\n",
    "    seed=SEED\n",
    ")\n",
    "\n",
    "print(\"----- Execution time: BVE - Intermediate | Perturbation 0% -----\")"
   ]
  },
  {
   "cell_type": "markdown",
   "metadata": {},
   "source": [
    "<h4>Implicit Q-Learning (IQL)</h4>"
   ]
  },
  {
   "cell_type": "code",
   "execution_count": 7,
   "metadata": {},
   "outputs": [
    {
     "name": "stdout",
     "output_type": "stream",
     "text": [
      "Training IQL on seaquest_intermediate_perturb0\n",
      "-- Starting Seed 1/3 --\n"
     ]
    },
    {
     "name": "stderr",
     "output_type": "stream",
     "text": [
      "Epochs: 100%|██████████| 10/10 [1:11:54<00:00, 431.41s/it]\n"
     ]
    },
    {
     "name": "stdout",
     "output_type": "stream",
     "text": [
      "Finished Training on seaquest_intermediate_perturb0\n",
      "    ➤ Avg Actor Loss: 0.35819\n",
      "    ➤ Avg Critic1 Loss: 0.07922\n",
      "    ➤ Avg Critic2 Loss: 0.07914\n",
      "    ➤ Avg Value Loss: 0.00277\n",
      "    ➤ Avg Validation Loss: 0.52132\n",
      "    ➤ Avg Reward: 204.00\n",
      "Saving the model...\n",
      "Model saved to offline_rl_models/implicit_q_learning_iql/iql_logs/seaquest_intermediate/perturb0/iql_model_perturb0_seed1.pth\n",
      "-- Starting Seed 2/3 --\n"
     ]
    },
    {
     "name": "stderr",
     "output_type": "stream",
     "text": [
      "Epochs: 100%|██████████| 10/10 [1:13:47<00:00, 442.74s/it]\n"
     ]
    },
    {
     "name": "stdout",
     "output_type": "stream",
     "text": [
      "Finished Training on seaquest_intermediate_perturb0\n",
      "    ➤ Avg Actor Loss: 0.35734\n",
      "    ➤ Avg Critic1 Loss: 0.07983\n",
      "    ➤ Avg Critic2 Loss: 0.07973\n",
      "    ➤ Avg Value Loss: 0.00322\n",
      "    ➤ Avg Validation Loss: 0.52078\n",
      "    ➤ Avg Reward: 212.00\n",
      "Saving the model...\n",
      "Model saved to offline_rl_models/implicit_q_learning_iql/iql_logs/seaquest_intermediate/perturb0/iql_model_perturb0_seed2.pth\n",
      "-- Starting Seed 3/3 --\n"
     ]
    },
    {
     "name": "stderr",
     "output_type": "stream",
     "text": [
      "Epochs: 100%|██████████| 10/10 [1:15:48<00:00, 454.80s/it]\n"
     ]
    },
    {
     "name": "stdout",
     "output_type": "stream",
     "text": [
      "Finished Training on seaquest_intermediate_perturb0\n",
      "    ➤ Avg Actor Loss: 0.36840\n",
      "    ➤ Avg Critic1 Loss: 0.07873\n",
      "    ➤ Avg Critic2 Loss: 0.07978\n",
      "    ➤ Avg Value Loss: 0.00379\n",
      "    ➤ Avg Validation Loss: 0.53048\n",
      "    ➤ Avg Reward: 228.00\n",
      "Saving the model...\n",
      "Model saved to offline_rl_models/implicit_q_learning_iql/iql_logs/seaquest_intermediate/perturb0/iql_model_perturb0_seed3.pth\n",
      "Return Stats saved to offline_rl_models/implicit_q_learning_iql/iql_logs/seaquest_intermediate/perturb0/stats_perturb0.pkl\n",
      "----- Execution time: IQL - Intermediate | Perturbation 0% -----\n",
      "CPU times: total: 4h 22min 50s\n",
      "Wall time: 3h 41min 42s\n"
     ]
    }
   ],
   "source": [
    "%%time\n",
    "\n",
    "# IQL model -> Intermediate dataset, 0% perturbation\n",
    "train_and_evaluate_IQL(\n",
    "    dataloaders=dataloaders,\n",
    "    device=device,\n",
    "    seeds=SEEDS,\n",
    "    epochs=EPOCHS,\n",
    "    dataset='seaquest_intermediate_perturb0',\n",
    "    env_id=ENV_ID,\n",
    "    seed=SEED\n",
    ")\n",
    "\n",
    "print(\"----- Execution time: IQL - Intermediate | Perturbation 0% -----\") "
   ]
  },
  {
   "cell_type": "markdown",
   "metadata": {},
   "source": [
    "-----------------------------"
   ]
  },
  {
   "cell_type": "markdown",
   "metadata": {},
   "source": [
    "<h3><u>5% Perturbation:</u></h3>\n",
    "\n",
    "First, we will load and prepare the Intermediate dataset with 5% perturbation."
   ]
  },
  {
   "cell_type": "code",
   "execution_count": 6,
   "metadata": {},
   "outputs": [
    {
     "name": "stdout",
     "output_type": "stream",
     "text": [
      "=== Loading seaquest_intermediate_perturb5 dataset ===\n",
      "Preprocessing and splitting seaquest_intermediate_perturb5 dataset...\n",
      "Creating dataloaders for seaquest_intermediate_perturb5...\n",
      "Dataloaders ready for: seaquest_intermediate_perturb5\n"
     ]
    }
   ],
   "source": [
    "dataloaders = load_and_prepare_dataset(\n",
    "    dataset_path='datasets/intermediate_logs/seaquest_intermediate_perturb5.pkl',\n",
    "    batch_size=BATCH_SIZE,\n",
    "    seed=SEED\n",
    ")"
   ]
  },
  {
   "cell_type": "markdown",
   "metadata": {},
   "source": [
    "<h4>Behavioral Cloning (BC)</h4>"
   ]
  },
  {
   "cell_type": "code",
   "execution_count": 7,
   "metadata": {},
   "outputs": [
    {
     "name": "stdout",
     "output_type": "stream",
     "text": [
      "Training BC on seaquest_intermediate_perturb5\n",
      "-- Starting Seed 1/3 --\n"
     ]
    },
    {
     "name": "stderr",
     "output_type": "stream",
     "text": [
      "Epochs: 100%|██████████| 10/10 [1:05:16<00:00, 391.69s/it]\n"
     ]
    },
    {
     "name": "stdout",
     "output_type": "stream",
     "text": [
      "Finished Training on seaquest_intermediate_perturb5\n",
      "    ➤ Avg Train Loss: 0.56711\n",
      "    ➤ Avg Validation Loss: 0.73694\n",
      "    ➤ Avg Reward: 230.00\n",
      "Saving the model...\n",
      "Model saved to offline_rl_models/behavioral_cloning_bc/bc_logs/seaquest_intermediate/perturb5/bc_model_perturb5_seed1.pth\n",
      "-- Starting Seed 2/3 --\n"
     ]
    },
    {
     "name": "stderr",
     "output_type": "stream",
     "text": [
      "Epochs: 100%|██████████| 10/10 [1:04:58<00:00, 389.83s/it]\n"
     ]
    },
    {
     "name": "stdout",
     "output_type": "stream",
     "text": [
      "Finished Training on seaquest_intermediate_perturb5\n",
      "    ➤ Avg Train Loss: 0.57056\n",
      "    ➤ Avg Validation Loss: 0.72916\n",
      "    ➤ Avg Reward: 246.00\n",
      "Saving the model...\n",
      "Model saved to offline_rl_models/behavioral_cloning_bc/bc_logs/seaquest_intermediate/perturb5/bc_model_perturb5_seed2.pth\n",
      "-- Starting Seed 3/3 --\n"
     ]
    },
    {
     "name": "stderr",
     "output_type": "stream",
     "text": [
      "Epochs: 100%|██████████| 10/10 [1:05:09<00:00, 390.94s/it]\n"
     ]
    },
    {
     "name": "stdout",
     "output_type": "stream",
     "text": [
      "Finished Training on seaquest_intermediate_perturb5\n",
      "    ➤ Avg Train Loss: 0.56762\n",
      "    ➤ Avg Validation Loss: 0.73089\n",
      "    ➤ Avg Reward: 236.00\n",
      "Saving the model...\n",
      "Model saved to offline_rl_models/behavioral_cloning_bc/bc_logs/seaquest_intermediate/perturb5/bc_model_perturb5_seed3.pth\n",
      "Return Stats saved to offline_rl_models/behavioral_cloning_bc/bc_logs/seaquest_intermediate/perturb5/stats_perturb5.pkl\n",
      "----- Execution time: BC - Intermediate | Perturbation 5% -----\n",
      "CPU times: total: 3h 58min\n",
      "Wall time: 3h 15min 32s\n"
     ]
    }
   ],
   "source": [
    "%%time\n",
    "\n",
    "# BC model -> Intermediate dataset, 5% perturbation\n",
    "train_and_evaluate_BC(\n",
    "    dataloaders=dataloaders,\n",
    "    device=device,\n",
    "    seeds=SEEDS,\n",
    "    epochs=EPOCHS,\n",
    "    dataset='seaquest_intermediate_perturb5',\n",
    "    env_id=ENV_ID,\n",
    "    seed=SEED\n",
    ")\n",
    "\n",
    "print(\"----- Execution time: BC - Intermediate | Perturbation 5% -----\")"
   ]
  },
  {
   "cell_type": "markdown",
   "metadata": {},
   "source": [
    "<h4>Behavior Value Estimation (BVE)</h4>"
   ]
  },
  {
   "cell_type": "code",
   "execution_count": 7,
   "metadata": {},
   "outputs": [
    {
     "name": "stdout",
     "output_type": "stream",
     "text": [
      "Training BVE on seaquest_intermediate_perturb5\n",
      "-- Starting Seed 1/3 --\n"
     ]
    },
    {
     "name": "stderr",
     "output_type": "stream",
     "text": [
      "Epochs: 100%|██████████| 10/10 [1:04:15<00:00, 385.56s/it]\n"
     ]
    },
    {
     "name": "stdout",
     "output_type": "stream",
     "text": [
      "Finished Training on seaquest_intermediate_perturb5\n",
      "    ➤ Avg Train Loss: 0.08246\n",
      "    ➤ Avg Val Loss: 0.08396\n",
      "    ➤ Avg Reward: 78.00\n",
      "Saving the model...\n",
      "Saved model to offline_rl_models/behavior_value_estimation_bve/bve_logs/seaquest_intermediate/perturb5/bve_model_perturb5_seed1.pth\n",
      "-- Starting Seed 2/3 --\n"
     ]
    },
    {
     "name": "stderr",
     "output_type": "stream",
     "text": [
      "Epochs: 100%|██████████| 10/10 [1:03:59<00:00, 383.91s/it]\n"
     ]
    },
    {
     "name": "stdout",
     "output_type": "stream",
     "text": [
      "Finished Training on seaquest_intermediate_perturb5\n",
      "    ➤ Avg Train Loss: 0.08158\n",
      "    ➤ Avg Val Loss: 0.08267\n",
      "    ➤ Avg Reward: 68.00\n",
      "Saving the model...\n",
      "Saved model to offline_rl_models/behavior_value_estimation_bve/bve_logs/seaquest_intermediate/perturb5/bve_model_perturb5_seed2.pth\n",
      "-- Starting Seed 3/3 --\n"
     ]
    },
    {
     "name": "stderr",
     "output_type": "stream",
     "text": [
      "Epochs: 100%|██████████| 10/10 [1:07:03<00:00, 402.35s/it]\n"
     ]
    },
    {
     "name": "stdout",
     "output_type": "stream",
     "text": [
      "Finished Training on seaquest_intermediate_perturb5\n",
      "    ➤ Avg Train Loss: 0.08595\n",
      "    ➤ Avg Val Loss: 0.08895\n",
      "    ➤ Avg Reward: 36.00\n",
      "Saving the model...\n",
      "Saved model to offline_rl_models/behavior_value_estimation_bve/bve_logs/seaquest_intermediate/perturb5/bve_model_perturb5_seed3.pth\n",
      "Saved stats to offline_rl_models/behavior_value_estimation_bve/bve_logs/seaquest_intermediate/perturb5/stats_perturb5.pkl\n",
      "----- Execution time: BVE - Intermediate | Perturbation 5% -----\n",
      "CPU times: total: 3h 57min\n",
      "Wall time: 3h 15min 28s\n"
     ]
    }
   ],
   "source": [
    "%%time\n",
    "\n",
    "# BVE model -> Intermediate dataset, 5% perturbation\n",
    "train_and_evaluate_BVE(\n",
    "    dataloaders=dataloaders,\n",
    "    device=device,\n",
    "    seeds=SEEDS,\n",
    "    epochs=EPOCHS,\n",
    "    dataset='seaquest_intermediate_perturb5',\n",
    "    env_id=ENV_ID,\n",
    "    seed=SEED\n",
    ")\n",
    "\n",
    "print(\"----- Execution time: BVE - Intermediate | Perturbation 5% -----\")"
   ]
  },
  {
   "cell_type": "markdown",
   "metadata": {},
   "source": [
    "<h4>Implicit Q-Learning (IQL)</h4>"
   ]
  },
  {
   "cell_type": "code",
   "execution_count": 7,
   "metadata": {},
   "outputs": [
    {
     "name": "stdout",
     "output_type": "stream",
     "text": [
      "Training IQL on seaquest_intermediate_perturb5\n",
      "-- Starting Seed 1/3 --\n"
     ]
    },
    {
     "name": "stderr",
     "output_type": "stream",
     "text": [
      "Epochs: 100%|██████████| 10/10 [1:12:13<00:00, 433.36s/it]\n"
     ]
    },
    {
     "name": "stdout",
     "output_type": "stream",
     "text": [
      "Finished Training on seaquest_intermediate_perturb5\n",
      "    ➤ Avg Actor Loss: 0.58017\n",
      "    ➤ Avg Critic1 Loss: 0.08222\n",
      "    ➤ Avg Critic2 Loss: 0.08203\n",
      "    ➤ Avg Value Loss: 0.00279\n",
      "    ➤ Avg Validation Loss: 0.82237\n",
      "    ➤ Avg Reward: 206.00\n",
      "Saving the model...\n",
      "Model saved to offline_rl_models/implicit_q_learning_iql/iql_logs/seaquest_intermediate/perturb5/iql_model_perturb5_seed1.pth\n",
      "-- Starting Seed 2/3 --\n"
     ]
    },
    {
     "name": "stderr",
     "output_type": "stream",
     "text": [
      "Epochs: 100%|██████████| 10/10 [1:13:20<00:00, 440.04s/it]\n"
     ]
    },
    {
     "name": "stdout",
     "output_type": "stream",
     "text": [
      "Finished Training on seaquest_intermediate_perturb5\n",
      "    ➤ Avg Actor Loss: 0.56678\n",
      "    ➤ Avg Critic1 Loss: 0.08202\n",
      "    ➤ Avg Critic2 Loss: 0.08189\n",
      "    ➤ Avg Value Loss: 0.00281\n",
      "    ➤ Avg Validation Loss: 0.83321\n",
      "    ➤ Avg Reward: 220.00\n",
      "Saving the model...\n",
      "Model saved to offline_rl_models/implicit_q_learning_iql/iql_logs/seaquest_intermediate/perturb5/iql_model_perturb5_seed2.pth\n",
      "-- Starting Seed 3/3 --\n"
     ]
    },
    {
     "name": "stderr",
     "output_type": "stream",
     "text": [
      "Epochs: 100%|██████████| 10/10 [1:14:58<00:00, 449.82s/it]\n"
     ]
    },
    {
     "name": "stdout",
     "output_type": "stream",
     "text": [
      "Finished Training on seaquest_intermediate_perturb5\n",
      "    ➤ Avg Actor Loss: 0.61793\n",
      "    ➤ Avg Critic1 Loss: 0.08116\n",
      "    ➤ Avg Critic2 Loss: 0.08287\n",
      "    ➤ Avg Value Loss: 0.00358\n",
      "    ➤ Avg Validation Loss: 0.81915\n",
      "    ➤ Avg Reward: 224.00\n",
      "Saving the model...\n",
      "Model saved to offline_rl_models/implicit_q_learning_iql/iql_logs/seaquest_intermediate/perturb5/iql_model_perturb5_seed3.pth\n",
      "Return Stats saved to offline_rl_models/implicit_q_learning_iql/iql_logs/seaquest_intermediate/perturb5/stats_perturb5.pkl\n",
      "----- Execution time: IQL - Intermediate | Perturbation 5% -----\n",
      "CPU times: total: 4h 22min 50s\n",
      "Wall time: 3h 40min 45s\n"
     ]
    }
   ],
   "source": [
    "%%time\n",
    "\n",
    "# IQL model -> Intermediate dataset, 5% perturbation\n",
    "train_and_evaluate_IQL(\n",
    "    dataloaders=dataloaders,\n",
    "    device=device,\n",
    "    seeds=SEEDS,\n",
    "    epochs=EPOCHS,\n",
    "    dataset='seaquest_intermediate_perturb5',\n",
    "    env_id=ENV_ID,\n",
    "    seed=SEED\n",
    ")\n",
    "\n",
    "print(\"----- Execution time: IQL - Intermediate | Perturbation 5% -----\") "
   ]
  },
  {
   "cell_type": "markdown",
   "metadata": {},
   "source": [
    "-----------------"
   ]
  },
  {
   "cell_type": "markdown",
   "metadata": {},
   "source": [
    "<h3><u>10% Perturbation:</u></h3>\n",
    "\n",
    "First, we will load and prepare the Intermediate dataset with 10% perturbation."
   ]
  },
  {
   "cell_type": "code",
   "execution_count": 6,
   "metadata": {},
   "outputs": [
    {
     "name": "stdout",
     "output_type": "stream",
     "text": [
      "=== Loading seaquest_intermediate_perturb10 dataset ===\n",
      "Preprocessing and splitting seaquest_intermediate_perturb10 dataset...\n",
      "Creating dataloaders for seaquest_intermediate_perturb10...\n",
      "Dataloaders ready for: seaquest_intermediate_perturb10\n"
     ]
    }
   ],
   "source": [
    "dataloaders = load_and_prepare_dataset(\n",
    "    dataset_path='datasets/intermediate_logs/seaquest_intermediate_perturb10.pkl',\n",
    "    batch_size=BATCH_SIZE,\n",
    "    seed=SEED\n",
    ")"
   ]
  },
  {
   "cell_type": "markdown",
   "metadata": {},
   "source": [
    "<h4>Behavioral Cloning (BC)</h4>"
   ]
  },
  {
   "cell_type": "code",
   "execution_count": 7,
   "metadata": {},
   "outputs": [
    {
     "name": "stdout",
     "output_type": "stream",
     "text": [
      "Training BC on seaquest_intermediate_perturb10\n",
      "-- Starting Seed 1/3 --\n"
     ]
    },
    {
     "name": "stderr",
     "output_type": "stream",
     "text": [
      "Epochs: 100%|██████████| 10/10 [1:05:24<00:00, 392.40s/it]\n"
     ]
    },
    {
     "name": "stdout",
     "output_type": "stream",
     "text": [
      "Finished Training on seaquest_intermediate_perturb10\n",
      "    ➤ Avg Train Loss: 0.80976\n",
      "    ➤ Avg Validation Loss: 1.01118\n",
      "    ➤ Avg Reward: 246.00\n",
      "Saving the model...\n",
      "Model saved to offline_rl_models/behavioral_cloning_bc/bc_logs/seaquest_intermediate/perturb10/bc_model_perturb10_seed1.pth\n",
      "-- Starting Seed 2/3 --\n"
     ]
    },
    {
     "name": "stderr",
     "output_type": "stream",
     "text": [
      "Epochs: 100%|██████████| 10/10 [1:05:02<00:00, 390.26s/it]\n"
     ]
    },
    {
     "name": "stdout",
     "output_type": "stream",
     "text": [
      "Finished Training on seaquest_intermediate_perturb10\n",
      "    ➤ Avg Train Loss: 0.81260\n",
      "    ➤ Avg Validation Loss: 1.01867\n",
      "    ➤ Avg Reward: 228.00\n",
      "Saving the model...\n",
      "Model saved to offline_rl_models/behavioral_cloning_bc/bc_logs/seaquest_intermediate/perturb10/bc_model_perturb10_seed2.pth\n",
      "-- Starting Seed 3/3 --\n"
     ]
    },
    {
     "name": "stderr",
     "output_type": "stream",
     "text": [
      "Epochs: 100%|██████████| 10/10 [1:04:39<00:00, 387.99s/it]\n"
     ]
    },
    {
     "name": "stdout",
     "output_type": "stream",
     "text": [
      "Finished Training on seaquest_intermediate_perturb10\n",
      "    ➤ Avg Train Loss: 0.81154\n",
      "    ➤ Avg Validation Loss: 1.01699\n",
      "    ➤ Avg Reward: 232.00\n",
      "Saving the model...\n",
      "Model saved to offline_rl_models/behavioral_cloning_bc/bc_logs/seaquest_intermediate/perturb10/bc_model_perturb10_seed3.pth\n",
      "Return Stats saved to offline_rl_models/behavioral_cloning_bc/bc_logs/seaquest_intermediate/perturb10/stats_perturb10.pkl\n",
      "----- Execution time: BC - Intermediate | Perturbation 10% -----\n",
      "CPU times: total: 3h 57min 6s\n",
      "Wall time: 3h 15min 14s\n"
     ]
    }
   ],
   "source": [
    "%%time\n",
    "\n",
    "# BC model -> Intermediate dataset, 10% perturbation\n",
    "train_and_evaluate_BC(\n",
    "    dataloaders=dataloaders,\n",
    "    device=device,\n",
    "    seeds=SEEDS,\n",
    "    epochs=EPOCHS,\n",
    "    dataset='seaquest_intermediate_perturb10',\n",
    "    env_id=ENV_ID,\n",
    "    seed=SEED\n",
    ")\n",
    "\n",
    "print(\"----- Execution time: BC - Intermediate | Perturbation 10% -----\")"
   ]
  },
  {
   "cell_type": "markdown",
   "metadata": {},
   "source": [
    "<h4>Behavior Value Estimation (BVE)</h4>"
   ]
  },
  {
   "cell_type": "code",
   "execution_count": 7,
   "metadata": {},
   "outputs": [
    {
     "name": "stdout",
     "output_type": "stream",
     "text": [
      "Training BVE on seaquest_intermediate_perturb10\n",
      "-- Starting Seed 1/3 --\n"
     ]
    },
    {
     "name": "stderr",
     "output_type": "stream",
     "text": [
      "Epochs: 100%|██████████| 10/10 [1:05:17<00:00, 391.71s/it]\n"
     ]
    },
    {
     "name": "stdout",
     "output_type": "stream",
     "text": [
      "Finished Training on seaquest_intermediate_perturb10\n",
      "    ➤ Avg Train Loss: 0.08220\n",
      "    ➤ Avg Val Loss: 0.08228\n",
      "    ➤ Avg Reward: 58.00\n",
      "Saving the model...\n",
      "Saved model to offline_rl_models/behavior_value_estimation_bve/bve_logs/seaquest_intermediate/perturb10/bve_model_perturb10_seed1.pth\n",
      "-- Starting Seed 2/3 --\n"
     ]
    },
    {
     "name": "stderr",
     "output_type": "stream",
     "text": [
      "Epochs: 100%|██████████| 10/10 [1:06:10<00:00, 397.02s/it]\n"
     ]
    },
    {
     "name": "stdout",
     "output_type": "stream",
     "text": [
      "Finished Training on seaquest_intermediate_perturb10\n",
      "    ➤ Avg Train Loss: 0.08187\n",
      "    ➤ Avg Val Loss: 0.08247\n",
      "    ➤ Avg Reward: 12.00\n",
      "Saving the model...\n",
      "Saved model to offline_rl_models/behavior_value_estimation_bve/bve_logs/seaquest_intermediate/perturb10/bve_model_perturb10_seed2.pth\n",
      "-- Starting Seed 3/3 --\n"
     ]
    },
    {
     "name": "stderr",
     "output_type": "stream",
     "text": [
      "Epochs: 100%|██████████| 10/10 [1:04:22<00:00, 386.23s/it]\n"
     ]
    },
    {
     "name": "stdout",
     "output_type": "stream",
     "text": [
      "Finished Training on seaquest_intermediate_perturb10\n",
      "    ➤ Avg Train Loss: 0.08419\n",
      "    ➤ Avg Val Loss: 0.08647\n",
      "    ➤ Avg Reward: 40.00\n",
      "Saving the model...\n",
      "Saved model to offline_rl_models/behavior_value_estimation_bve/bve_logs/seaquest_intermediate/perturb10/bve_model_perturb10_seed3.pth\n",
      "Saved stats to offline_rl_models/behavior_value_estimation_bve/bve_logs/seaquest_intermediate/perturb10/stats_perturb10.pkl\n",
      "----- Execution time: BVE - Intermediate | Perturbation 10% -----\n",
      "CPU times: total: 3h 57min 38s\n",
      "Wall time: 3h 16min\n"
     ]
    }
   ],
   "source": [
    "%%time\n",
    "\n",
    "# BVE model -> Intermediate dataset, 10% perturbation\n",
    "train_and_evaluate_BVE(\n",
    "    dataloaders=dataloaders,\n",
    "    device=device,\n",
    "    seeds=SEEDS,\n",
    "    epochs=EPOCHS,\n",
    "    dataset='seaquest_intermediate_perturb10',\n",
    "    env_id=ENV_ID,\n",
    "    seed=SEED\n",
    ")\n",
    "\n",
    "print(\"----- Execution time: BVE - Intermediate | Perturbation 10% -----\")"
   ]
  },
  {
   "cell_type": "markdown",
   "metadata": {},
   "source": [
    "<h4>Implicit Q-Learning (IQL)</h4>"
   ]
  },
  {
   "cell_type": "code",
   "execution_count": 7,
   "metadata": {},
   "outputs": [
    {
     "name": "stdout",
     "output_type": "stream",
     "text": [
      "Training IQL on seaquest_intermediate_perturb10\n",
      "-- Starting Seed 1/3 --\n"
     ]
    },
    {
     "name": "stderr",
     "output_type": "stream",
     "text": [
      "Epochs: 100%|██████████| 10/10 [1:12:11<00:00, 433.19s/it]\n"
     ]
    },
    {
     "name": "stdout",
     "output_type": "stream",
     "text": [
      "Finished Training on seaquest_intermediate_perturb10\n",
      "    ➤ Avg Actor Loss: 0.78640\n",
      "    ➤ Avg Critic1 Loss: 0.08167\n",
      "    ➤ Avg Critic2 Loss: 0.08145\n",
      "    ➤ Avg Value Loss: 0.00310\n",
      "    ➤ Avg Validation Loss: 1.06722\n",
      "    ➤ Avg Reward: 192.00\n",
      "Saving the model...\n",
      "Model saved to offline_rl_models/implicit_q_learning_iql/iql_logs/seaquest_intermediate/perturb10/iql_model_perturb10_seed1.pth\n",
      "-- Starting Seed 2/3 --\n"
     ]
    },
    {
     "name": "stderr",
     "output_type": "stream",
     "text": [
      "Epochs: 100%|██████████| 10/10 [1:13:53<00:00, 443.33s/it]\n"
     ]
    },
    {
     "name": "stdout",
     "output_type": "stream",
     "text": [
      "Finished Training on seaquest_intermediate_perturb10\n",
      "    ➤ Avg Actor Loss: 0.75196\n",
      "    ➤ Avg Critic1 Loss: 0.08132\n",
      "    ➤ Avg Critic2 Loss: 0.08113\n",
      "    ➤ Avg Value Loss: 0.00294\n",
      "    ➤ Avg Validation Loss: 1.08212\n",
      "    ➤ Avg Reward: 212.00\n",
      "Saving the model...\n",
      "Model saved to offline_rl_models/implicit_q_learning_iql/iql_logs/seaquest_intermediate/perturb10/iql_model_perturb10_seed2.pth\n",
      "-- Starting Seed 3/3 --\n"
     ]
    },
    {
     "name": "stderr",
     "output_type": "stream",
     "text": [
      "Epochs: 100%|██████████| 10/10 [1:15:48<00:00, 454.89s/it]\n"
     ]
    },
    {
     "name": "stdout",
     "output_type": "stream",
     "text": [
      "Finished Training on seaquest_intermediate_perturb10\n",
      "    ➤ Avg Actor Loss: 0.84405\n",
      "    ➤ Avg Critic1 Loss: 0.08033\n",
      "    ➤ Avg Critic2 Loss: 0.08224\n",
      "    ➤ Avg Value Loss: 0.00388\n",
      "    ➤ Avg Validation Loss: 1.05568\n",
      "    ➤ Avg Reward: 212.00\n",
      "Saving the model...\n",
      "Model saved to offline_rl_models/implicit_q_learning_iql/iql_logs/seaquest_intermediate/perturb10/iql_model_perturb10_seed3.pth\n",
      "Return Stats saved to offline_rl_models/implicit_q_learning_iql/iql_logs/seaquest_intermediate/perturb10/stats_perturb10.pkl\n",
      "----- Execution time: IQL - Intermediate | Perturbation 10% -----\n",
      "CPU times: total: 4h 24min 51s\n",
      "Wall time: 3h 42min 7s\n"
     ]
    }
   ],
   "source": [
    "%%time\n",
    "\n",
    "# IQL model -> Intermediate dataset, 10% perturbation\n",
    "train_and_evaluate_IQL(\n",
    "    dataloaders=dataloaders,\n",
    "    device=device,\n",
    "    seeds=SEEDS,\n",
    "    epochs=EPOCHS,\n",
    "    dataset='seaquest_intermediate_perturb10',\n",
    "    env_id=ENV_ID,\n",
    "    seed=SEED\n",
    ")\n",
    "\n",
    "print(\"----- Execution time: IQL - Intermediate | Perturbation 10% -----\")"
   ]
  },
  {
   "cell_type": "markdown",
   "metadata": {},
   "source": [
    "-------------------"
   ]
  },
  {
   "cell_type": "markdown",
   "metadata": {},
   "source": [
    "<h3><u>20% Perturbation:</u></h3>\n",
    "\n",
    "First, we will load and prepare the Intermediate dataset with 20% perturbation."
   ]
  },
  {
   "cell_type": "code",
   "execution_count": 7,
   "metadata": {},
   "outputs": [
    {
     "name": "stdout",
     "output_type": "stream",
     "text": [
      "=== Loading seaquest_intermediate_perturb20 dataset ===\n",
      "Preprocessing and splitting seaquest_intermediate_perturb20 dataset...\n",
      "Creating dataloaders for seaquest_intermediate_perturb20...\n",
      "Dataloaders ready for: seaquest_intermediate_perturb20\n"
     ]
    }
   ],
   "source": [
    "dataloaders = load_and_prepare_dataset(\n",
    "    dataset_path='datasets/intermediate_logs/seaquest_intermediate_perturb20.pkl',\n",
    "    batch_size=BATCH_SIZE,\n",
    "    seed=SEED\n",
    ")"
   ]
  },
  {
   "cell_type": "markdown",
   "metadata": {},
   "source": [
    "<h4>Behavioral Cloning (BC)</h4>"
   ]
  },
  {
   "cell_type": "code",
   "execution_count": 7,
   "metadata": {},
   "outputs": [
    {
     "name": "stdout",
     "output_type": "stream",
     "text": [
      "Training BC on seaquest_intermediate_perturb20\n",
      "-- Starting Seed 1/3 --\n"
     ]
    },
    {
     "name": "stderr",
     "output_type": "stream",
     "text": [
      "Epochs: 100%|██████████| 10/10 [1:01:12<00:00, 367.25s/it]\n"
     ]
    },
    {
     "name": "stdout",
     "output_type": "stream",
     "text": [
      "Finished Training on seaquest_intermediate_perturb20\n",
      "    ➤ Avg Train Loss: 1.22012\n",
      "    ➤ Avg Validation Loss: 1.44635\n",
      "    ➤ Avg Reward: 236.00\n",
      "Saving the model...\n",
      "Model saved to offline_rl_models/behavioral_cloning_bc/bc_logs/seaquest_intermediate/perturb20/bc_model_perturb20_seed1.pth\n",
      "-- Starting Seed 2/3 --\n"
     ]
    },
    {
     "name": "stderr",
     "output_type": "stream",
     "text": [
      "Epochs: 100%|██████████| 10/10 [1:00:26<00:00, 362.65s/it]\n"
     ]
    },
    {
     "name": "stdout",
     "output_type": "stream",
     "text": [
      "Finished Training on seaquest_intermediate_perturb20\n",
      "    ➤ Avg Train Loss: 1.20236\n",
      "    ➤ Avg Validation Loss: 1.46492\n",
      "    ➤ Avg Reward: 226.67\n",
      "Saving the model...\n",
      "Model saved to offline_rl_models/behavioral_cloning_bc/bc_logs/seaquest_intermediate/perturb20/bc_model_perturb20_seed2.pth\n",
      "-- Starting Seed 3/3 --\n"
     ]
    },
    {
     "name": "stderr",
     "output_type": "stream",
     "text": [
      "Epochs: 100%|██████████| 10/10 [1:00:17<00:00, 361.72s/it]\n"
     ]
    },
    {
     "name": "stdout",
     "output_type": "stream",
     "text": [
      "Finished Training on seaquest_intermediate_perturb20\n",
      "    ➤ Avg Train Loss: 1.21812\n",
      "    ➤ Avg Validation Loss: 1.45246\n",
      "    ➤ Avg Reward: 230.00\n",
      "Saving the model...\n",
      "Model saved to offline_rl_models/behavioral_cloning_bc/bc_logs/seaquest_intermediate/perturb20/bc_model_perturb20_seed3.pth\n",
      "Return Stats saved to offline_rl_models/behavioral_cloning_bc/bc_logs/seaquest_intermediate/perturb20/stats_perturb20.pkl\n",
      "----- Execution time: BC - Intermediate | Perturbation 20% -----\n",
      "CPU times: total: 3h 48min 14s\n",
      "Wall time: 3h 2min 4s\n"
     ]
    }
   ],
   "source": [
    "%%time\n",
    "\n",
    "# BC model -> Intermediate dataset, 20% perturbation\n",
    "train_and_evaluate_BC(\n",
    "    dataloaders=dataloaders,\n",
    "    device=device,\n",
    "    seeds=SEEDS,\n",
    "    epochs=EPOCHS,\n",
    "    dataset='seaquest_intermediate_perturb20',\n",
    "    env_id=ENV_ID,\n",
    "    seed=SEED\n",
    ")\n",
    "\n",
    "print(\"----- Execution time: BC - Intermediate | Perturbation 20% -----\")"
   ]
  },
  {
   "cell_type": "markdown",
   "metadata": {},
   "source": [
    "<h4>Behavior Value Estimation (BVE)</h4>"
   ]
  },
  {
   "cell_type": "code",
   "execution_count": 7,
   "metadata": {},
   "outputs": [
    {
     "name": "stdout",
     "output_type": "stream",
     "text": [
      "Training BVE on seaquest_intermediate_perturb20\n",
      "-- Starting Seed 1/3 --\n"
     ]
    },
    {
     "name": "stderr",
     "output_type": "stream",
     "text": [
      "Epochs: 100%|██████████| 10/10 [1:00:51<00:00, 365.14s/it]\n"
     ]
    },
    {
     "name": "stdout",
     "output_type": "stream",
     "text": [
      "Finished Training on seaquest_intermediate_perturb20\n",
      "    ➤ Avg Train Loss: 0.08359\n",
      "    ➤ Avg Val Loss: 0.08713\n",
      "    ➤ Avg Reward: 86.00\n",
      "Saving the model...\n",
      "Saved model to offline_rl_models/behavior_value_estimation_bve/bve_logs/seaquest_intermediate/perturb20/bve_model_perturb20_seed1.pth\n",
      "-- Starting Seed 2/3 --\n"
     ]
    },
    {
     "name": "stderr",
     "output_type": "stream",
     "text": [
      "Epochs: 100%|██████████| 10/10 [1:01:05<00:00, 366.57s/it]\n"
     ]
    },
    {
     "name": "stdout",
     "output_type": "stream",
     "text": [
      "Finished Training on seaquest_intermediate_perturb20\n",
      "    ➤ Avg Train Loss: 0.08216\n",
      "    ➤ Avg Val Loss: 0.08302\n",
      "    ➤ Avg Reward: 48.00\n",
      "Saving the model...\n",
      "Saved model to offline_rl_models/behavior_value_estimation_bve/bve_logs/seaquest_intermediate/perturb20/bve_model_perturb20_seed2.pth\n",
      "-- Starting Seed 3/3 --\n"
     ]
    },
    {
     "name": "stderr",
     "output_type": "stream",
     "text": [
      "Epochs: 100%|██████████| 10/10 [1:02:48<00:00, 376.81s/it]\n"
     ]
    },
    {
     "name": "stdout",
     "output_type": "stream",
     "text": [
      "Finished Training on seaquest_intermediate_perturb20\n",
      "    ➤ Avg Train Loss: 0.08416\n",
      "    ➤ Avg Val Loss: 0.08657\n",
      "    ➤ Avg Reward: 28.00\n",
      "Saving the model...\n",
      "Saved model to offline_rl_models/behavior_value_estimation_bve/bve_logs/seaquest_intermediate/perturb20/bve_model_perturb20_seed3.pth\n",
      "Saved stats to offline_rl_models/behavior_value_estimation_bve/bve_logs/seaquest_intermediate/perturb20/stats_perturb20.pkl\n",
      "----- Execution time: BVE - Intermediate | Perturbation 20% -----\n",
      "CPU times: total: 3h 48min 32s\n",
      "Wall time: 3h 4min 56s\n"
     ]
    }
   ],
   "source": [
    "%%time\n",
    "\n",
    "# BVE model -> Intermediate dataset, 20% perturbation\n",
    "train_and_evaluate_BVE(\n",
    "    dataloaders=dataloaders,\n",
    "    device=device,\n",
    "    seeds=SEEDS,\n",
    "    epochs=EPOCHS,\n",
    "    dataset='seaquest_intermediate_perturb20',\n",
    "    env_id=ENV_ID,\n",
    "    seed=SEED\n",
    ")\n",
    "\n",
    "print(\"----- Execution time: BVE - Intermediate | Perturbation 20% -----\")"
   ]
  },
  {
   "cell_type": "markdown",
   "metadata": {},
   "source": [
    "<h4>Implicit Q-Learning (IQL)</h4>"
   ]
  },
  {
   "cell_type": "code",
   "execution_count": 8,
   "metadata": {},
   "outputs": [
    {
     "name": "stdout",
     "output_type": "stream",
     "text": [
      "Training IQL on seaquest_intermediate_perturb20\n",
      "-- Starting Seed 1/3 --\n"
     ]
    },
    {
     "name": "stderr",
     "output_type": "stream",
     "text": [
      "Epochs: 100%|██████████| 10/10 [1:12:23<00:00, 434.31s/it]\n"
     ]
    },
    {
     "name": "stdout",
     "output_type": "stream",
     "text": [
      "Finished Training on seaquest_intermediate_perturb20\n",
      "    ➤ Avg Actor Loss: 1.01801\n",
      "    ➤ Avg Critic1 Loss: 0.08178\n",
      "    ➤ Avg Critic2 Loss: 0.08171\n",
      "    ➤ Avg Value Loss: 0.00259\n",
      "    ➤ Avg Validation Loss: 1.45974\n",
      "    ➤ Avg Reward: 218.00\n",
      "Saving the model...\n",
      "Model saved to offline_rl_models/implicit_q_learning_iql/iql_logs/seaquest_intermediate/perturb20/iql_model_perturb20_seed1.pth\n",
      "-- Starting Seed 2/3 --\n"
     ]
    },
    {
     "name": "stderr",
     "output_type": "stream",
     "text": [
      "Epochs: 100%|██████████| 10/10 [1:13:58<00:00, 443.81s/it]\n"
     ]
    },
    {
     "name": "stdout",
     "output_type": "stream",
     "text": [
      "Finished Training on seaquest_intermediate_perturb20\n",
      "    ➤ Avg Actor Loss: 0.98326\n",
      "    ➤ Avg Critic1 Loss: 0.08133\n",
      "    ➤ Avg Critic2 Loss: 0.08122\n",
      "    ➤ Avg Value Loss: 0.00248\n",
      "    ➤ Avg Validation Loss: 1.46601\n",
      "    ➤ Avg Reward: 206.00\n",
      "Saving the model...\n",
      "Model saved to offline_rl_models/implicit_q_learning_iql/iql_logs/seaquest_intermediate/perturb20/iql_model_perturb20_seed2.pth\n",
      "-- Starting Seed 3/3 --\n"
     ]
    },
    {
     "name": "stderr",
     "output_type": "stream",
     "text": [
      "Epochs: 100%|██████████| 10/10 [1:16:04<00:00, 456.40s/it]\n"
     ]
    },
    {
     "name": "stdout",
     "output_type": "stream",
     "text": [
      "Finished Training on seaquest_intermediate_perturb20\n",
      "    ➤ Avg Actor Loss: 1.15043\n",
      "    ➤ Avg Critic1 Loss: 0.08068\n",
      "    ➤ Avg Critic2 Loss: 0.08215\n",
      "    ➤ Avg Value Loss: 0.00354\n",
      "    ➤ Avg Validation Loss: 1.45665\n",
      "    ➤ Avg Reward: 218.00\n",
      "Saving the model...\n",
      "Model saved to offline_rl_models/implicit_q_learning_iql/iql_logs/seaquest_intermediate/perturb20/iql_model_perturb20_seed3.pth\n",
      "Return Stats saved to offline_rl_models/implicit_q_learning_iql/iql_logs/seaquest_intermediate/perturb20/stats_perturb20.pkl\n",
      "----- Execution time: IQL - Intermediate | Perturbation 20% -----\n",
      "CPU times: total: 4h 25min 25s\n",
      "Wall time: 3h 42min 38s\n"
     ]
    }
   ],
   "source": [
    "%%time\n",
    "\n",
    "# IQL model -> Intermediate dataset, 20% perturbation\n",
    "train_and_evaluate_IQL(\n",
    "    dataloaders=dataloaders,\n",
    "    device=device,\n",
    "    seeds=SEEDS,\n",
    "    epochs=EPOCHS,\n",
    "    dataset='seaquest_intermediate_perturb20',\n",
    "    env_id=ENV_ID,\n",
    "    seed=SEED\n",
    ")\n",
    "\n",
    "print(\"----- Execution time: IQL - Intermediate | Perturbation 20% -----\")"
   ]
  },
  {
   "cell_type": "markdown",
   "metadata": {},
   "source": [
    "----------------"
   ]
  },
  {
   "cell_type": "markdown",
   "metadata": {},
   "source": [
    "<div id='models_expert'>\n",
    "<h2 style=\"color:rgb(0,120,170)\">Training all models on: Expert Dataset</h2>\n",
    "\n",
    "In this section, we will train all three offline RL methods (BC, BVE, and IQL) on the Expert dataset, with varying levels of perturbation (0%, 5%, 10%, and 20%). Each method will be trained for 10 epochs, and the results will be saved to disk for later evaluation."
   ]
  },
  {
   "cell_type": "markdown",
   "metadata": {},
   "source": [
    "<h3><u>0% Perturbation:</u></h3>\n",
    "\n",
    "First, we will load and prepare the Expert dataset with 0% perturbation."
   ]
  },
  {
   "cell_type": "code",
   "execution_count": 6,
   "metadata": {},
   "outputs": [
    {
     "name": "stdout",
     "output_type": "stream",
     "text": [
      "=== Loading seaquest_expert_perturb0 dataset ===\n",
      "Preprocessing and splitting seaquest_expert_perturb0 dataset...\n",
      "Creating dataloaders for seaquest_expert_perturb0...\n",
      "Dataloaders ready for: seaquest_expert_perturb0\n"
     ]
    }
   ],
   "source": [
    "dataloaders = load_and_prepare_dataset(\n",
    "    dataset_path='datasets/expert_logs/seaquest_expert_perturb0.pkl',\n",
    "    batch_size=BATCH_SIZE,\n",
    "    seed=SEED\n",
    ")"
   ]
  },
  {
   "cell_type": "markdown",
   "metadata": {},
   "source": [
    "<h4>Behavioral Cloning (BC)</h4>"
   ]
  },
  {
   "cell_type": "code",
   "execution_count": 7,
   "metadata": {},
   "outputs": [
    {
     "name": "stdout",
     "output_type": "stream",
     "text": [
      "Training BC on seaquest_expert_perturb0\n",
      "-- Starting Seed 1/3 --\n"
     ]
    },
    {
     "name": "stderr",
     "output_type": "stream",
     "text": [
      "Epochs: 100%|██████████| 10/10 [58:28<00:00, 350.88s/it]\n"
     ]
    },
    {
     "name": "stdout",
     "output_type": "stream",
     "text": [
      "Finished Training on seaquest_expert_perturb0\n",
      "    ➤ Avg Train Loss: 0.61396\n",
      "    ➤ Avg Validation Loss: 2.50880\n",
      "    ➤ Avg Reward: 310.00\n",
      "Saving the model...\n",
      "Model saved to offline_rl_models/behavioral_cloning_bc/bc_logs/seaquest_expert/perturb0/bc_model_perturb0_seed1.pth\n",
      "-- Starting Seed 2/3 --\n"
     ]
    },
    {
     "name": "stderr",
     "output_type": "stream",
     "text": [
      "Epochs: 100%|██████████| 10/10 [57:47<00:00, 346.72s/it]\n"
     ]
    },
    {
     "name": "stdout",
     "output_type": "stream",
     "text": [
      "Finished Training on seaquest_expert_perturb0\n",
      "    ➤ Avg Train Loss: 0.62624\n",
      "    ➤ Avg Validation Loss: 2.41913\n",
      "    ➤ Avg Reward: 262.00\n",
      "Saving the model...\n",
      "Model saved to offline_rl_models/behavioral_cloning_bc/bc_logs/seaquest_expert/perturb0/bc_model_perturb0_seed2.pth\n",
      "-- Starting Seed 3/3 --\n"
     ]
    },
    {
     "name": "stderr",
     "output_type": "stream",
     "text": [
      "Epochs: 100%|██████████| 10/10 [58:15<00:00, 349.50s/it]\n"
     ]
    },
    {
     "name": "stdout",
     "output_type": "stream",
     "text": [
      "Finished Training on seaquest_expert_perturb0\n",
      "    ➤ Avg Train Loss: 0.61294\n",
      "    ➤ Avg Validation Loss: 2.47897\n",
      "    ➤ Avg Reward: 300.00\n",
      "Saving the model...\n",
      "Model saved to offline_rl_models/behavioral_cloning_bc/bc_logs/seaquest_expert/perturb0/bc_model_perturb0_seed3.pth\n",
      "Return Stats saved to offline_rl_models/behavioral_cloning_bc/bc_logs/seaquest_expert/perturb0/stats_perturb0.pkl\n",
      "----- Execution time: BC - Expert | Perturbation 0% -----\n",
      "CPU times: total: 3h 37min 28s\n",
      "Wall time: 2h 54min 38s\n"
     ]
    }
   ],
   "source": [
    "%%time\n",
    "\n",
    "# BC model -> Expert dataset, 0% perturbation\n",
    "train_and_evaluate_BC(\n",
    "    dataloaders=dataloaders,\n",
    "    device=device,\n",
    "    seeds=SEEDS,\n",
    "    epochs=EPOCHS,\n",
    "    dataset='seaquest_expert_perturb0',\n",
    "    env_id=ENV_ID,\n",
    "    seed=SEED\n",
    ")\n",
    "\n",
    "print(\"----- Execution time: BC - Expert | Perturbation 0% -----\")"
   ]
  },
  {
   "cell_type": "markdown",
   "metadata": {},
   "source": [
    "<h4>Behavior Value Estimation (BVE)</h4>"
   ]
  },
  {
   "cell_type": "code",
   "execution_count": 7,
   "metadata": {},
   "outputs": [
    {
     "name": "stdout",
     "output_type": "stream",
     "text": [
      "Training BVE on seaquest_expert_perturb0\n",
      "-- Starting Seed 1/3 --\n"
     ]
    },
    {
     "name": "stderr",
     "output_type": "stream",
     "text": [
      "Epochs: 100%|██████████| 10/10 [57:34<00:00, 345.44s/it]\n"
     ]
    },
    {
     "name": "stdout",
     "output_type": "stream",
     "text": [
      "Finished Training on seaquest_expert_perturb0\n",
      "    ➤ Avg Train Loss: 0.14414\n",
      "    ➤ Avg Val Loss: 0.14347\n",
      "    ➤ Avg Reward: 102.00\n",
      "Saving the model...\n",
      "Saved model to offline_rl_models/behavior_value_estimation_bve/bve_logs/seaquest_expert/perturb0/bve_model_perturb0_seed1.pth\n",
      "-- Starting Seed 2/3 --\n"
     ]
    },
    {
     "name": "stderr",
     "output_type": "stream",
     "text": [
      "Epochs: 100%|██████████| 10/10 [59:12<00:00, 355.23s/it]\n"
     ]
    },
    {
     "name": "stdout",
     "output_type": "stream",
     "text": [
      "Finished Training on seaquest_expert_perturb0\n",
      "    ➤ Avg Train Loss: 0.14477\n",
      "    ➤ Avg Val Loss: 0.14326\n",
      "    ➤ Avg Reward: 58.00\n",
      "Saving the model...\n",
      "Saved model to offline_rl_models/behavior_value_estimation_bve/bve_logs/seaquest_expert/perturb0/bve_model_perturb0_seed2.pth\n",
      "-- Starting Seed 3/3 --\n"
     ]
    },
    {
     "name": "stderr",
     "output_type": "stream",
     "text": [
      "Epochs: 100%|██████████| 10/10 [1:00:08<00:00, 360.85s/it]\n"
     ]
    },
    {
     "name": "stdout",
     "output_type": "stream",
     "text": [
      "Finished Training on seaquest_expert_perturb0\n",
      "    ➤ Avg Train Loss: 0.14418\n",
      "    ➤ Avg Val Loss: 0.14427\n",
      "    ➤ Avg Reward: 70.00\n",
      "Saving the model...\n",
      "Saved model to offline_rl_models/behavior_value_estimation_bve/bve_logs/seaquest_expert/perturb0/bve_model_perturb0_seed3.pth\n",
      "Saved stats to offline_rl_models/behavior_value_estimation_bve/bve_logs/seaquest_expert/perturb0/stats_perturb0.pkl\n",
      "----- Execution time: BVE - Expert | Perturbation 0% -----\n",
      "CPU times: total: 3h 38min 41s\n",
      "Wall time: 2h 57min 6s\n"
     ]
    }
   ],
   "source": [
    "%%time\n",
    "\n",
    "# BVE model -> Expert dataset, 0% perturbation\n",
    "train_and_evaluate_BVE(\n",
    "    dataloaders=dataloaders,\n",
    "    device=device,\n",
    "    seeds=SEEDS,\n",
    "    epochs=EPOCHS,\n",
    "    dataset='seaquest_expert_perturb0',\n",
    "    env_id=ENV_ID,\n",
    "    seed=SEED\n",
    ")\n",
    "\n",
    "print(\"----- Execution time: BVE - Expert | Perturbation 0% -----\")"
   ]
  },
  {
   "cell_type": "markdown",
   "metadata": {},
   "source": [
    "<h4>Implicit Q-Learning (IQL)</h4>"
   ]
  },
  {
   "cell_type": "code",
   "execution_count": 7,
   "metadata": {},
   "outputs": [
    {
     "name": "stdout",
     "output_type": "stream",
     "text": [
      "Training IQL on seaquest_expert_perturb0\n",
      "-- Starting Seed 1/3 --\n"
     ]
    },
    {
     "name": "stderr",
     "output_type": "stream",
     "text": [
      "Epochs: 100%|██████████| 10/10 [1:09:50<00:00, 419.07s/it]\n"
     ]
    },
    {
     "name": "stdout",
     "output_type": "stream",
     "text": [
      "Finished Training on seaquest_expert_perturb0\n",
      "    ➤ Avg Actor Loss: 0.90878\n",
      "    ➤ Avg Critic1 Loss: 0.14487\n",
      "    ➤ Avg Critic2 Loss: 0.14479\n",
      "    ➤ Avg Value Loss: 0.00165\n",
      "    ➤ Avg Validation Loss: 2.06453\n",
      "    ➤ Avg Reward: 154.00\n",
      "Saving the model...\n",
      "Model saved to offline_rl_models/implicit_q_learning_iql/iql_logs/seaquest_expert/perturb0/iql_model_perturb0_seed1.pth\n",
      "-- Starting Seed 2/3 --\n"
     ]
    },
    {
     "name": "stderr",
     "output_type": "stream",
     "text": [
      "Epochs: 100%|██████████| 10/10 [1:12:07<00:00, 432.74s/it]\n"
     ]
    },
    {
     "name": "stdout",
     "output_type": "stream",
     "text": [
      "Finished Training on seaquest_expert_perturb0\n",
      "    ➤ Avg Actor Loss: 0.85197\n",
      "    ➤ Avg Critic1 Loss: 0.14568\n",
      "    ➤ Avg Critic2 Loss: 0.14552\n",
      "    ➤ Avg Value Loss: 0.00143\n",
      "    ➤ Avg Validation Loss: 2.06200\n",
      "    ➤ Avg Reward: 178.00\n",
      "Saving the model...\n",
      "Model saved to offline_rl_models/implicit_q_learning_iql/iql_logs/seaquest_expert/perturb0/iql_model_perturb0_seed2.pth\n",
      "-- Starting Seed 3/3 --\n"
     ]
    },
    {
     "name": "stderr",
     "output_type": "stream",
     "text": [
      "Epochs: 100%|██████████| 10/10 [1:13:52<00:00, 443.27s/it]\n"
     ]
    },
    {
     "name": "stdout",
     "output_type": "stream",
     "text": [
      "Finished Training on seaquest_expert_perturb0\n",
      "    ➤ Avg Actor Loss: 0.88189\n",
      "    ➤ Avg Critic1 Loss: 0.14435\n",
      "    ➤ Avg Critic2 Loss: 0.14482\n",
      "    ➤ Avg Value Loss: 0.00178\n",
      "    ➤ Avg Validation Loss: 2.06715\n",
      "    ➤ Avg Reward: 200.00\n",
      "Saving the model...\n",
      "Model saved to offline_rl_models/implicit_q_learning_iql/iql_logs/seaquest_expert/perturb0/iql_model_perturb0_seed3.pth\n",
      "Return Stats saved to offline_rl_models/implicit_q_learning_iql/iql_logs/seaquest_expert/perturb0/stats_perturb0.pkl\n",
      "----- Execution time: IQL - Expert | Perturbation 0% -----\n",
      "CPU times: total: 4h 17min 30s\n",
      "Wall time: 3h 36min 3s\n"
     ]
    }
   ],
   "source": [
    "%%time\n",
    "\n",
    "# IQL model -> Expert dataset, 0% perturbation\n",
    "train_and_evaluate_IQL(\n",
    "    dataloaders=dataloaders,\n",
    "    device=device,\n",
    "    seeds=SEEDS,\n",
    "    epochs=EPOCHS,\n",
    "    dataset='seaquest_expert_perturb0',\n",
    "    env_id=ENV_ID,\n",
    "    seed=SEED\n",
    ")\n",
    "\n",
    "print(\"----- Execution time: IQL - Expert | Perturbation 0% -----\")"
   ]
  },
  {
   "cell_type": "markdown",
   "metadata": {},
   "source": [
    "----------------"
   ]
  },
  {
   "cell_type": "markdown",
   "metadata": {},
   "source": [
    "<h3><u>5% Perturbation:</u></h3>\n",
    "\n",
    "First, we will load and prepare the Expert dataset with 5% perturbation."
   ]
  },
  {
   "cell_type": "code",
   "execution_count": 6,
   "metadata": {},
   "outputs": [
    {
     "name": "stdout",
     "output_type": "stream",
     "text": [
      "=== Loading seaquest_expert_perturb5 dataset ===\n",
      "Preprocessing and splitting seaquest_expert_perturb5 dataset...\n",
      "Creating dataloaders for seaquest_expert_perturb5...\n",
      "Dataloaders ready for: seaquest_expert_perturb5\n"
     ]
    }
   ],
   "source": [
    "dataloaders = load_and_prepare_dataset(\n",
    "    dataset_path='datasets/expert_logs/seaquest_expert_perturb5.pkl',\n",
    "    batch_size=BATCH_SIZE,\n",
    "    seed=SEED\n",
    ")"
   ]
  },
  {
   "cell_type": "markdown",
   "metadata": {},
   "source": [
    "<h4>Behavioral Cloning (BC)</h4>"
   ]
  },
  {
   "cell_type": "code",
   "execution_count": 7,
   "metadata": {},
   "outputs": [
    {
     "name": "stdout",
     "output_type": "stream",
     "text": [
      "Training BC on seaquest_expert_perturb5\n",
      "-- Starting Seed 1/3 --\n"
     ]
    },
    {
     "name": "stderr",
     "output_type": "stream",
     "text": [
      "Epochs: 100%|██████████| 10/10 [57:33<00:00, 345.35s/it]\n"
     ]
    },
    {
     "name": "stdout",
     "output_type": "stream",
     "text": [
      "Finished Training on seaquest_expert_perturb5\n",
      "    ➤ Avg Train Loss: 0.81537\n",
      "    ➤ Avg Validation Loss: 2.67363\n",
      "    ➤ Avg Reward: 278.00\n",
      "Saving the model...\n",
      "Model saved to offline_rl_models/behavioral_cloning_bc/bc_logs/seaquest_expert/perturb5/bc_model_perturb5_seed1.pth\n",
      "-- Starting Seed 2/3 --\n"
     ]
    },
    {
     "name": "stderr",
     "output_type": "stream",
     "text": [
      "Epochs: 100%|██████████| 10/10 [57:11<00:00, 343.15s/it]\n"
     ]
    },
    {
     "name": "stdout",
     "output_type": "stream",
     "text": [
      "Finished Training on seaquest_expert_perturb5\n",
      "    ➤ Avg Train Loss: 0.79753\n",
      "    ➤ Avg Validation Loss: 2.76204\n",
      "    ➤ Avg Reward: 278.00\n",
      "Saving the model...\n",
      "Model saved to offline_rl_models/behavioral_cloning_bc/bc_logs/seaquest_expert/perturb5/bc_model_perturb5_seed2.pth\n",
      "-- Starting Seed 3/3 --\n"
     ]
    },
    {
     "name": "stderr",
     "output_type": "stream",
     "text": [
      "Epochs: 100%|██████████| 10/10 [57:20<00:00, 344.01s/it]\n"
     ]
    },
    {
     "name": "stdout",
     "output_type": "stream",
     "text": [
      "Finished Training on seaquest_expert_perturb5\n",
      "    ➤ Avg Train Loss: 0.81591\n",
      "    ➤ Avg Validation Loss: 2.69931\n",
      "    ➤ Avg Reward: 296.00\n",
      "Saving the model...\n",
      "Model saved to offline_rl_models/behavioral_cloning_bc/bc_logs/seaquest_expert/perturb5/bc_model_perturb5_seed3.pth\n",
      "Return Stats saved to offline_rl_models/behavioral_cloning_bc/bc_logs/seaquest_expert/perturb5/stats_perturb5.pkl\n",
      "----- Execution time: BC - Expert | Perturbation 5% -----\n",
      "CPU times: total: 3h 34min 20s\n",
      "Wall time: 2h 52min 12s\n"
     ]
    }
   ],
   "source": [
    "%%time\n",
    "\n",
    "# BC model -> Expert dataset, 5% perturbation\n",
    "train_and_evaluate_BC(\n",
    "    dataloaders=dataloaders,\n",
    "    device=device,\n",
    "    seeds=SEEDS,\n",
    "    epochs=EPOCHS,\n",
    "    dataset='seaquest_expert_perturb5',\n",
    "    env_id=ENV_ID,\n",
    "    seed=SEED\n",
    ")\n",
    "\n",
    "print(\"----- Execution time: BC - Expert | Perturbation 5% -----\")"
   ]
  },
  {
   "cell_type": "markdown",
   "metadata": {},
   "source": [
    "<h4>Behavior Value Estimation (BVE)</h4>"
   ]
  },
  {
   "cell_type": "code",
   "execution_count": 7,
   "metadata": {},
   "outputs": [
    {
     "name": "stdout",
     "output_type": "stream",
     "text": [
      "Training BVE on seaquest_expert_perturb5\n",
      "-- Starting Seed 1/3 --\n"
     ]
    },
    {
     "name": "stderr",
     "output_type": "stream",
     "text": [
      "Epochs: 100%|██████████| 10/10 [58:39<00:00, 351.98s/it]\n"
     ]
    },
    {
     "name": "stdout",
     "output_type": "stream",
     "text": [
      "Finished Training on seaquest_expert_perturb5\n",
      "    ➤ Avg Train Loss: 0.13826\n",
      "    ➤ Avg Val Loss: 0.14059\n",
      "    ➤ Avg Reward: 158.00\n",
      "Saving the model...\n",
      "Saved model to offline_rl_models/behavior_value_estimation_bve/bve_logs/seaquest_expert/perturb5/bve_model_perturb5_seed1.pth\n",
      "-- Starting Seed 2/3 --\n"
     ]
    },
    {
     "name": "stderr",
     "output_type": "stream",
     "text": [
      "Epochs: 100%|██████████| 10/10 [59:10<00:00, 355.06s/it]\n"
     ]
    },
    {
     "name": "stdout",
     "output_type": "stream",
     "text": [
      "Finished Training on seaquest_expert_perturb5\n",
      "    ➤ Avg Train Loss: 0.13895\n",
      "    ➤ Avg Val Loss: 0.14089\n",
      "    ➤ Avg Reward: 108.00\n",
      "Saving the model...\n",
      "Saved model to offline_rl_models/behavior_value_estimation_bve/bve_logs/seaquest_expert/perturb5/bve_model_perturb5_seed2.pth\n",
      "-- Starting Seed 3/3 --\n"
     ]
    },
    {
     "name": "stderr",
     "output_type": "stream",
     "text": [
      "Epochs: 100%|██████████| 10/10 [1:00:12<00:00, 361.22s/it]\n"
     ]
    },
    {
     "name": "stdout",
     "output_type": "stream",
     "text": [
      "Finished Training on seaquest_expert_perturb5\n",
      "    ➤ Avg Train Loss: 0.13805\n",
      "    ➤ Avg Val Loss: 0.14084\n",
      "    ➤ Avg Reward: 148.00\n",
      "Saving the model...\n",
      "Saved model to offline_rl_models/behavior_value_estimation_bve/bve_logs/seaquest_expert/perturb5/bve_model_perturb5_seed3.pth\n",
      "Saved stats to offline_rl_models/behavior_value_estimation_bve/bve_logs/seaquest_expert/perturb5/stats_perturb5.pkl\n",
      "----- Execution time: BVE - Expert | Perturbation 5% -----\n",
      "CPU times: total: 3h 40min 7s\n",
      "Wall time: 2h 58min 13s\n"
     ]
    }
   ],
   "source": [
    "%%time\n",
    "\n",
    "# BVE model -> Expert dataset, 5% perturbation\n",
    "train_and_evaluate_BVE(\n",
    "    dataloaders=dataloaders,\n",
    "    device=device,\n",
    "    seeds=SEEDS,\n",
    "    epochs=EPOCHS,\n",
    "    dataset='seaquest_expert_perturb5',\n",
    "    env_id=ENV_ID,\n",
    "    seed=SEED\n",
    ")\n",
    "\n",
    "print(\"----- Execution time: BVE - Expert | Perturbation 5% -----\")"
   ]
  },
  {
   "cell_type": "markdown",
   "metadata": {},
   "source": [
    "<h4>Implicit Q-Learning (IQL)</h4>"
   ]
  },
  {
   "cell_type": "code",
   "execution_count": 7,
   "metadata": {},
   "outputs": [
    {
     "name": "stdout",
     "output_type": "stream",
     "text": [
      "Training IQL on seaquest_expert_perturb5\n",
      "-- Starting Seed 1/3 --\n"
     ]
    },
    {
     "name": "stderr",
     "output_type": "stream",
     "text": [
      "Epochs: 100%|██████████| 10/10 [1:07:49<00:00, 406.91s/it]\n"
     ]
    },
    {
     "name": "stdout",
     "output_type": "stream",
     "text": [
      "Finished Training on seaquest_expert_perturb5\n",
      "    ➤ Avg Actor Loss: 0.94390\n",
      "    ➤ Avg Critic1 Loss: 0.13908\n",
      "    ➤ Avg Critic2 Loss: 0.13910\n",
      "    ➤ Avg Value Loss: 0.00113\n",
      "    ➤ Avg Validation Loss: 2.08642\n",
      "    ➤ Avg Reward: 174.00\n",
      "Saving the model...\n",
      "Model saved to offline_rl_models/implicit_q_learning_iql/iql_logs/seaquest_expert/perturb5/iql_model_perturb5_seed1.pth\n",
      "-- Starting Seed 2/3 --\n"
     ]
    },
    {
     "name": "stderr",
     "output_type": "stream",
     "text": [
      "Epochs: 100%|██████████| 10/10 [1:09:54<00:00, 419.41s/it]\n"
     ]
    },
    {
     "name": "stdout",
     "output_type": "stream",
     "text": [
      "Finished Training on seaquest_expert_perturb5\n",
      "    ➤ Avg Actor Loss: 0.93750\n",
      "    ➤ Avg Critic1 Loss: 0.13934\n",
      "    ➤ Avg Critic2 Loss: 0.13917\n",
      "    ➤ Avg Value Loss: 0.00114\n",
      "    ➤ Avg Validation Loss: 2.08482\n",
      "    ➤ Avg Reward: 188.00\n",
      "Saving the model...\n",
      "Model saved to offline_rl_models/implicit_q_learning_iql/iql_logs/seaquest_expert/perturb5/iql_model_perturb5_seed2.pth\n",
      "-- Starting Seed 3/3 --\n"
     ]
    },
    {
     "name": "stderr",
     "output_type": "stream",
     "text": [
      "Epochs: 100%|██████████| 10/10 [1:11:17<00:00, 427.74s/it]\n"
     ]
    },
    {
     "name": "stdout",
     "output_type": "stream",
     "text": [
      "Finished Training on seaquest_expert_perturb5\n",
      "    ➤ Avg Actor Loss: 0.94147\n",
      "    ➤ Avg Critic1 Loss: 0.13869\n",
      "    ➤ Avg Critic2 Loss: 0.13900\n",
      "    ➤ Avg Value Loss: 0.00121\n",
      "    ➤ Avg Validation Loss: 2.08925\n",
      "    ➤ Avg Reward: 182.00\n",
      "Saving the model...\n",
      "Model saved to offline_rl_models/implicit_q_learning_iql/iql_logs/seaquest_expert/perturb5/iql_model_perturb5_seed3.pth\n",
      "Return Stats saved to offline_rl_models/implicit_q_learning_iql/iql_logs/seaquest_expert/perturb5/stats_perturb5.pkl\n",
      "----- Execution time: IQL - Expert | Perturbation 5% -----\n",
      "CPU times: total: 4h 11min 28s\n",
      "Wall time: 3h 29min 14s\n"
     ]
    }
   ],
   "source": [
    "%%time\n",
    "\n",
    "# IQL model -> Expert dataset, 5% perturbation\n",
    "train_and_evaluate_IQL(\n",
    "    dataloaders=dataloaders,\n",
    "    device=device,\n",
    "    seeds=SEEDS,\n",
    "    epochs=EPOCHS,\n",
    "    dataset='seaquest_expert_perturb5',\n",
    "    env_id=ENV_ID,\n",
    "    seed=SEED\n",
    ")\n",
    "\n",
    "print(\"----- Execution time: IQL - Expert | Perturbation 5% -----\")"
   ]
  },
  {
   "cell_type": "markdown",
   "metadata": {},
   "source": [
    "----------------"
   ]
  },
  {
   "cell_type": "markdown",
   "metadata": {},
   "source": [
    "<h3><u>10% Perturbation:</u></h3>\n",
    "\n",
    "First, we will load and prepare the Expert dataset with 10% perturbation."
   ]
  },
  {
   "cell_type": "code",
   "execution_count": 6,
   "metadata": {},
   "outputs": [
    {
     "name": "stdout",
     "output_type": "stream",
     "text": [
      "=== Loading seaquest_expert_perturb10 dataset ===\n",
      "Preprocessing and splitting seaquest_expert_perturb10 dataset...\n",
      "Creating dataloaders for seaquest_expert_perturb10...\n",
      "Dataloaders ready for: seaquest_expert_perturb10\n"
     ]
    }
   ],
   "source": [
    "dataloaders = load_and_prepare_dataset(\n",
    "    dataset_path='datasets/expert_logs/seaquest_expert_perturb10.pkl',\n",
    "    batch_size=BATCH_SIZE,\n",
    "    seed=SEED\n",
    ")"
   ]
  },
  {
   "cell_type": "markdown",
   "metadata": {},
   "source": [
    "<h4>Behavioral Cloning (BC)</h4>"
   ]
  },
  {
   "cell_type": "code",
   "execution_count": 8,
   "metadata": {},
   "outputs": [
    {
     "name": "stdout",
     "output_type": "stream",
     "text": [
      "Training BC on seaquest_expert_perturb10\n",
      "-- Starting Seed 1/3 --\n"
     ]
    },
    {
     "name": "stderr",
     "output_type": "stream",
     "text": [
      "Epochs: 100%|██████████| 10/10 [1:03:33<00:00, 381.39s/it]\n"
     ]
    },
    {
     "name": "stdout",
     "output_type": "stream",
     "text": [
      "Finished Training on seaquest_expert_perturb10\n",
      "    ➤ Avg Train Loss: 0.98455\n",
      "    ➤ Avg Validation Loss: 3.03464\n",
      "    ➤ Avg Reward: 268.00\n",
      "Saving the model...\n",
      "Model saved to offline_rl_models/behavioral_cloning_bc/bc_logs/seaquest_expert/perturb10/bc_model_perturb10_seed1.pth\n",
      "-- Starting Seed 2/3 --\n"
     ]
    },
    {
     "name": "stderr",
     "output_type": "stream",
     "text": [
      "Epochs: 100%|██████████| 10/10 [1:04:01<00:00, 384.10s/it]\n"
     ]
    },
    {
     "name": "stdout",
     "output_type": "stream",
     "text": [
      "Finished Training on seaquest_expert_perturb10\n",
      "    ➤ Avg Train Loss: 0.97900\n",
      "    ➤ Avg Validation Loss: 3.04738\n",
      "    ➤ Avg Reward: 288.00\n",
      "Saving the model...\n",
      "Model saved to offline_rl_models/behavioral_cloning_bc/bc_logs/seaquest_expert/perturb10/bc_model_perturb10_seed2.pth\n",
      "-- Starting Seed 3/3 --\n"
     ]
    },
    {
     "name": "stderr",
     "output_type": "stream",
     "text": [
      "Epochs: 100%|██████████| 10/10 [1:03:09<00:00, 378.96s/it]\n"
     ]
    },
    {
     "name": "stdout",
     "output_type": "stream",
     "text": [
      "Finished Training on seaquest_expert_perturb10\n",
      "    ➤ Avg Train Loss: 0.95708\n",
      "    ➤ Avg Validation Loss: 3.03210\n",
      "    ➤ Avg Reward: 280.00\n",
      "Saving the model...\n",
      "Model saved to offline_rl_models/behavioral_cloning_bc/bc_logs/seaquest_expert/perturb10/bc_model_perturb10_seed3.pth\n",
      "Return Stats saved to offline_rl_models/behavioral_cloning_bc/bc_logs/seaquest_expert/perturb10/stats_perturb10.pkl\n",
      "----- Execution time: BC - Expert | Perturbation 10% -----\n",
      "CPU times: total: 3h 52min 1s\n",
      "Wall time: 3h 10min 52s\n"
     ]
    }
   ],
   "source": [
    "%%time\n",
    "\n",
    "# BC model -> Expert dataset, 10% perturbation\n",
    "train_and_evaluate_BC(\n",
    "    dataloaders=dataloaders,\n",
    "    device=device,\n",
    "    seeds=SEEDS,\n",
    "    epochs=EPOCHS,\n",
    "    dataset='seaquest_expert_perturb10',\n",
    "    env_id=ENV_ID,\n",
    "    seed=SEED\n",
    ")\n",
    "\n",
    "print(\"----- Execution time: BC - Expert | Perturbation 10% -----\")"
   ]
  },
  {
   "cell_type": "markdown",
   "metadata": {},
   "source": [
    "<h4>Behavior Value Estimation (BVE)</h4>"
   ]
  },
  {
   "cell_type": "code",
   "execution_count": 7,
   "metadata": {},
   "outputs": [
    {
     "name": "stdout",
     "output_type": "stream",
     "text": [
      "Training BVE on seaquest_expert_perturb10\n",
      "-- Starting Seed 1/3 --\n"
     ]
    },
    {
     "name": "stderr",
     "output_type": "stream",
     "text": [
      "Epochs: 100%|██████████| 10/10 [1:03:53<00:00, 383.40s/it]\n"
     ]
    },
    {
     "name": "stdout",
     "output_type": "stream",
     "text": [
      "Finished Training on seaquest_expert_perturb10\n",
      "    ➤ Avg Train Loss: 0.14170\n",
      "    ➤ Avg Val Loss: 0.14945\n",
      "    ➤ Avg Reward: 190.00\n",
      "Saving the model...\n",
      "Saved model to offline_rl_models/behavior_value_estimation_bve/bve_logs/seaquest_expert/perturb10/bve_model_perturb10_seed1.pth\n",
      "-- Starting Seed 2/3 --\n"
     ]
    },
    {
     "name": "stderr",
     "output_type": "stream",
     "text": [
      "Epochs: 100%|██████████| 10/10 [1:01:48<00:00, 370.90s/it]\n"
     ]
    },
    {
     "name": "stdout",
     "output_type": "stream",
     "text": [
      "Finished Training on seaquest_expert_perturb10\n",
      "    ➤ Avg Train Loss: 0.14223\n",
      "    ➤ Avg Val Loss: 0.14840\n",
      "    ➤ Avg Reward: 96.00\n",
      "Saving the model...\n",
      "Saved model to offline_rl_models/behavior_value_estimation_bve/bve_logs/seaquest_expert/perturb10/bve_model_perturb10_seed2.pth\n",
      "-- Starting Seed 3/3 --\n"
     ]
    },
    {
     "name": "stderr",
     "output_type": "stream",
     "text": [
      "Epochs: 100%|██████████| 10/10 [1:03:09<00:00, 378.95s/it]\n"
     ]
    },
    {
     "name": "stdout",
     "output_type": "stream",
     "text": [
      "Finished Training on seaquest_expert_perturb10\n",
      "    ➤ Avg Train Loss: 0.14147\n",
      "    ➤ Avg Val Loss: 0.14889\n",
      "    ➤ Avg Reward: 102.00\n",
      "Saving the model...\n",
      "Saved model to offline_rl_models/behavior_value_estimation_bve/bve_logs/seaquest_expert/perturb10/bve_model_perturb10_seed3.pth\n",
      "Saved stats to offline_rl_models/behavior_value_estimation_bve/bve_logs/seaquest_expert/perturb10/stats_perturb10.pkl\n",
      "----- Execution time: BVE - Expert | Perturbation 10% -----\n",
      "CPU times: total: 3h 50min 5s\n",
      "Wall time: 3h 9min 2s\n"
     ]
    }
   ],
   "source": [
    "%%time\n",
    "\n",
    "# BVE model -> Expert dataset, 10% perturbation\n",
    "train_and_evaluate_BVE(\n",
    "    dataloaders=dataloaders,\n",
    "    device=device,\n",
    "    seeds=SEEDS,\n",
    "    epochs=EPOCHS,\n",
    "    dataset='seaquest_expert_perturb10',\n",
    "    env_id=ENV_ID,\n",
    "    seed=SEED\n",
    ")\n",
    "\n",
    "print(\"----- Execution time: BVE - Expert | Perturbation 10% -----\")"
   ]
  },
  {
   "cell_type": "markdown",
   "metadata": {},
   "source": [
    "<h4>Implicit Q-Learning (IQL)</h4>"
   ]
  },
  {
   "cell_type": "code",
   "execution_count": 7,
   "metadata": {},
   "outputs": [
    {
     "name": "stdout",
     "output_type": "stream",
     "text": [
      "Training IQL on seaquest_expert_perturb10\n",
      "-- Starting Seed 1/3 --\n"
     ]
    },
    {
     "name": "stderr",
     "output_type": "stream",
     "text": [
      "Epochs: 100%|██████████| 10/10 [1:08:36<00:00, 411.61s/it]\n"
     ]
    },
    {
     "name": "stdout",
     "output_type": "stream",
     "text": [
      "Finished Training on seaquest_expert_perturb10\n",
      "    ➤ Avg Actor Loss: 1.03359\n",
      "    ➤ Avg Critic1 Loss: 0.14298\n",
      "    ➤ Avg Critic2 Loss: 0.14289\n",
      "    ➤ Avg Value Loss: 0.00108\n",
      "    ➤ Avg Validation Loss: 2.31632\n",
      "    ➤ Avg Reward: 158.00\n",
      "Saving the model...\n",
      "Model saved to offline_rl_models/implicit_q_learning_iql/iql_logs/seaquest_expert/perturb10/iql_model_perturb10_seed1.pth\n",
      "-- Starting Seed 2/3 --\n"
     ]
    },
    {
     "name": "stderr",
     "output_type": "stream",
     "text": [
      "Epochs: 100%|██████████| 10/10 [1:10:49<00:00, 424.96s/it]\n"
     ]
    },
    {
     "name": "stdout",
     "output_type": "stream",
     "text": [
      "Finished Training on seaquest_expert_perturb10\n",
      "    ➤ Avg Actor Loss: 1.01935\n",
      "    ➤ Avg Critic1 Loss: 0.14287\n",
      "    ➤ Avg Critic2 Loss: 0.14277\n",
      "    ➤ Avg Value Loss: 0.00115\n",
      "    ➤ Avg Validation Loss: 2.31462\n",
      "    ➤ Avg Reward: 160.00\n",
      "Saving the model...\n",
      "Model saved to offline_rl_models/implicit_q_learning_iql/iql_logs/seaquest_expert/perturb10/iql_model_perturb10_seed2.pth\n",
      "-- Starting Seed 3/3 --\n"
     ]
    },
    {
     "name": "stderr",
     "output_type": "stream",
     "text": [
      "Epochs: 100%|██████████| 10/10 [1:11:24<00:00, 428.44s/it]\n"
     ]
    },
    {
     "name": "stdout",
     "output_type": "stream",
     "text": [
      "Finished Training on seaquest_expert_perturb10\n",
      "    ➤ Avg Actor Loss: 1.03351\n",
      "    ➤ Avg Critic1 Loss: 0.14192\n",
      "    ➤ Avg Critic2 Loss: 0.14230\n",
      "    ➤ Avg Value Loss: 0.00129\n",
      "    ➤ Avg Validation Loss: 2.30956\n",
      "    ➤ Avg Reward: 208.00\n",
      "Saving the model...\n",
      "Model saved to offline_rl_models/implicit_q_learning_iql/iql_logs/seaquest_expert/perturb10/iql_model_perturb10_seed3.pth\n",
      "Return Stats saved to offline_rl_models/implicit_q_learning_iql/iql_logs/seaquest_expert/perturb10/stats_perturb10.pkl\n",
      "----- Execution time: IQL - Expert | Perturbation 10% -----\n",
      "CPU times: total: 4h 12min 10s\n",
      "Wall time: 3h 31min 3s\n"
     ]
    }
   ],
   "source": [
    "%%time\n",
    "\n",
    "# IQL model -> Expert dataset, 10% perturbation\n",
    "train_and_evaluate_IQL(\n",
    "    dataloaders=dataloaders,\n",
    "    device=device,\n",
    "    seeds=SEEDS,\n",
    "    epochs=EPOCHS,\n",
    "    dataset='seaquest_expert_perturb10',\n",
    "    env_id=ENV_ID,\n",
    "    seed=SEED\n",
    ")\n",
    "\n",
    "print(\"----- Execution time: IQL - Expert | Perturbation 10% -----\")"
   ]
  },
  {
   "cell_type": "markdown",
   "metadata": {},
   "source": [
    "----------------"
   ]
  },
  {
   "cell_type": "markdown",
   "metadata": {},
   "source": [
    "<h3><u>20% Perturbation:</u></h3>\n",
    "\n",
    "First, we will load and prepare the Expert dataset with 20% perturbation."
   ]
  },
  {
   "cell_type": "code",
   "execution_count": 6,
   "metadata": {},
   "outputs": [
    {
     "name": "stdout",
     "output_type": "stream",
     "text": [
      "=== Loading seaquest_expert_perturb20 dataset ===\n",
      "Preprocessing and splitting seaquest_expert_perturb20 dataset...\n",
      "Creating dataloaders for seaquest_expert_perturb20...\n",
      "Dataloaders ready for: seaquest_expert_perturb20\n"
     ]
    }
   ],
   "source": [
    "dataloaders = load_and_prepare_dataset(\n",
    "    dataset_path='datasets/expert_logs/seaquest_expert_perturb20.pkl',\n",
    "    batch_size=BATCH_SIZE,\n",
    "    seed=SEED\n",
    ")"
   ]
  },
  {
   "cell_type": "markdown",
   "metadata": {},
   "source": [
    "<h4>Behavioral Cloning (BC)</h4>"
   ]
  },
  {
   "cell_type": "code",
   "execution_count": 7,
   "metadata": {},
   "outputs": [
    {
     "name": "stdout",
     "output_type": "stream",
     "text": [
      "Training BC on seaquest_expert_perturb20\n",
      "-- Starting Seed 1/3 --\n"
     ]
    },
    {
     "name": "stderr",
     "output_type": "stream",
     "text": [
      "Epochs: 100%|██████████| 10/10 [58:14<00:00, 349.41s/it]\n"
     ]
    },
    {
     "name": "stdout",
     "output_type": "stream",
     "text": [
      "Finished Training on seaquest_expert_perturb20\n",
      "    ➤ Avg Train Loss: 1.24102\n",
      "    ➤ Avg Validation Loss: 3.06819\n",
      "    ➤ Avg Reward: 270.00\n",
      "Saving the model...\n",
      "Model saved to offline_rl_models/behavioral_cloning_bc/bc_logs/seaquest_expert/perturb20/bc_model_perturb20_seed1.pth\n",
      "-- Starting Seed 2/3 --\n"
     ]
    },
    {
     "name": "stderr",
     "output_type": "stream",
     "text": [
      "Epochs: 100%|██████████| 10/10 [58:17<00:00, 349.79s/it]\n"
     ]
    },
    {
     "name": "stdout",
     "output_type": "stream",
     "text": [
      "Finished Training on seaquest_expert_perturb20\n",
      "    ➤ Avg Train Loss: 1.24820\n",
      "    ➤ Avg Validation Loss: 2.99306\n",
      "    ➤ Avg Reward: 254.00\n",
      "Saving the model...\n",
      "Model saved to offline_rl_models/behavioral_cloning_bc/bc_logs/seaquest_expert/perturb20/bc_model_perturb20_seed2.pth\n",
      "-- Starting Seed 3/3 --\n"
     ]
    },
    {
     "name": "stderr",
     "output_type": "stream",
     "text": [
      "Epochs: 100%|██████████| 10/10 [1:03:53<00:00, 383.37s/it]\n"
     ]
    },
    {
     "name": "stdout",
     "output_type": "stream",
     "text": [
      "Finished Training on seaquest_expert_perturb20\n",
      "    ➤ Avg Train Loss: 1.24026\n",
      "    ➤ Avg Validation Loss: 3.04161\n",
      "    ➤ Avg Reward: 274.00\n",
      "Saving the model...\n",
      "Model saved to offline_rl_models/behavioral_cloning_bc/bc_logs/seaquest_expert/perturb20/bc_model_perturb20_seed3.pth\n",
      "Return Stats saved to offline_rl_models/behavioral_cloning_bc/bc_logs/seaquest_expert/perturb20/stats_perturb20.pkl\n",
      "----- Execution time: BC - Expert | Perturbation 20% -----\n",
      "CPU times: total: 3h 45min 47s\n",
      "Wall time: 3h 33s\n"
     ]
    }
   ],
   "source": [
    "%%time\n",
    "\n",
    "# BC model -> Expert dataset, 20% perturbation\n",
    "train_and_evaluate_BC(\n",
    "    dataloaders=dataloaders,\n",
    "    device=device,\n",
    "    seeds=SEEDS,\n",
    "    epochs=EPOCHS,\n",
    "    dataset='seaquest_expert_perturb20',\n",
    "    env_id=ENV_ID,\n",
    "    seed=SEED\n",
    ")\n",
    "\n",
    "print(\"----- Execution time: BC - Expert | Perturbation 20% -----\")"
   ]
  },
  {
   "cell_type": "markdown",
   "metadata": {},
   "source": [
    "<h4>Behavior Value Estimation (BVE)</h4>"
   ]
  },
  {
   "cell_type": "code",
   "execution_count": 7,
   "metadata": {},
   "outputs": [
    {
     "name": "stdout",
     "output_type": "stream",
     "text": [
      "Training BVE on seaquest_expert_perturb20\n",
      "-- Starting Seed 1/3 --\n"
     ]
    },
    {
     "name": "stderr",
     "output_type": "stream",
     "text": [
      "Epochs: 100%|██████████| 10/10 [1:01:59<00:00, 371.93s/it]\n"
     ]
    },
    {
     "name": "stdout",
     "output_type": "stream",
     "text": [
      "Finished Training on seaquest_expert_perturb20\n",
      "    ➤ Avg Train Loss: 0.14251\n",
      "    ➤ Avg Val Loss: 0.14471\n",
      "    ➤ Avg Reward: 146.00\n",
      "Saving the model...\n",
      "Saved model to offline_rl_models/behavior_value_estimation_bve/bve_logs/seaquest_expert/perturb20/bve_model_perturb20_seed1.pth\n",
      "-- Starting Seed 2/3 --\n"
     ]
    },
    {
     "name": "stderr",
     "output_type": "stream",
     "text": [
      "Epochs: 100%|██████████| 10/10 [1:02:15<00:00, 373.53s/it]\n"
     ]
    },
    {
     "name": "stdout",
     "output_type": "stream",
     "text": [
      "Finished Training on seaquest_expert_perturb20\n",
      "    ➤ Avg Train Loss: 0.14323\n",
      "    ➤ Avg Val Loss: 0.14539\n",
      "    ➤ Avg Reward: 100.00\n",
      "Saving the model...\n",
      "Saved model to offline_rl_models/behavior_value_estimation_bve/bve_logs/seaquest_expert/perturb20/bve_model_perturb20_seed2.pth\n",
      "-- Starting Seed 3/3 --\n"
     ]
    },
    {
     "name": "stderr",
     "output_type": "stream",
     "text": [
      "Epochs: 100%|██████████| 10/10 [1:03:29<00:00, 380.91s/it]\n"
     ]
    },
    {
     "name": "stdout",
     "output_type": "stream",
     "text": [
      "Finished Training on seaquest_expert_perturb20\n",
      "    ➤ Avg Train Loss: 0.14223\n",
      "    ➤ Avg Val Loss: 0.14514\n",
      "    ➤ Avg Reward: 138.00\n",
      "Saving the model...\n",
      "Saved model to offline_rl_models/behavior_value_estimation_bve/bve_logs/seaquest_expert/perturb20/bve_model_perturb20_seed3.pth\n",
      "Saved stats to offline_rl_models/behavior_value_estimation_bve/bve_logs/seaquest_expert/perturb20/stats_perturb20.pkl\n",
      "----- Execution time: BVE - Expert | Perturbation 20% -----\n",
      "CPU times: total: 3h 49min 19s\n",
      "Wall time: 3h 7min 53s\n"
     ]
    }
   ],
   "source": [
    "%%time\n",
    "\n",
    "# BVE model -> Expert dataset, 20% perturbation\n",
    "train_and_evaluate_BVE(\n",
    "    dataloaders=dataloaders,\n",
    "    device=device,\n",
    "    seeds=SEEDS,\n",
    "    epochs=EPOCHS,\n",
    "    dataset='seaquest_expert_perturb20',\n",
    "    env_id=ENV_ID,\n",
    "    seed=SEED\n",
    ")\n",
    "\n",
    "print(\"----- Execution time: BVE - Expert | Perturbation 20% -----\")"
   ]
  },
  {
   "cell_type": "markdown",
   "metadata": {},
   "source": [
    "<h4>Implicit Q-Learning (IQL)</h4>"
   ]
  },
  {
   "cell_type": "code",
   "execution_count": 7,
   "metadata": {},
   "outputs": [
    {
     "name": "stdout",
     "output_type": "stream",
     "text": [
      "Training IQL on seaquest_expert_perturb20\n",
      "-- Starting Seed 1/3 --\n"
     ]
    },
    {
     "name": "stderr",
     "output_type": "stream",
     "text": [
      "Epochs: 100%|██████████| 10/10 [1:19:33<00:00, 477.37s/it]\n"
     ]
    },
    {
     "name": "stdout",
     "output_type": "stream",
     "text": [
      "Finished Training on seaquest_expert_perturb20\n",
      "    ➤ Avg Actor Loss: 1.14735\n",
      "    ➤ Avg Critic1 Loss: 0.14402\n",
      "    ➤ Avg Critic2 Loss: 0.14395\n",
      "    ➤ Avg Value Loss: 0.00114\n",
      "    ➤ Avg Validation Loss: 2.36784\n",
      "    ➤ Avg Reward: 168.00\n",
      "Saving the model...\n",
      "Model saved to offline_rl_models/implicit_q_learning_iql/iql_logs/seaquest_expert/perturb20/iql_model_perturb20_seed1.pth\n",
      "-- Starting Seed 2/3 --\n"
     ]
    },
    {
     "name": "stderr",
     "output_type": "stream",
     "text": [
      "Epochs: 100%|██████████| 10/10 [1:11:14<00:00, 427.48s/it]\n"
     ]
    },
    {
     "name": "stdout",
     "output_type": "stream",
     "text": [
      "Finished Training on seaquest_expert_perturb20\n",
      "    ➤ Avg Actor Loss: 1.14457\n",
      "    ➤ Avg Critic1 Loss: 0.14401\n",
      "    ➤ Avg Critic2 Loss: 0.14391\n",
      "    ➤ Avg Value Loss: 0.00118\n",
      "    ➤ Avg Validation Loss: 2.36264\n",
      "    ➤ Avg Reward: 190.00\n",
      "Saving the model...\n",
      "Model saved to offline_rl_models/implicit_q_learning_iql/iql_logs/seaquest_expert/perturb20/iql_model_perturb20_seed2.pth\n",
      "-- Starting Seed 3/3 --\n"
     ]
    },
    {
     "name": "stderr",
     "output_type": "stream",
     "text": [
      "Epochs: 100%|██████████| 10/10 [1:12:05<00:00, 432.58s/it]\n"
     ]
    },
    {
     "name": "stdout",
     "output_type": "stream",
     "text": [
      "Finished Training on seaquest_expert_perturb20\n",
      "    ➤ Avg Actor Loss: 1.15624\n",
      "    ➤ Avg Critic1 Loss: 0.14297\n",
      "    ➤ Avg Critic2 Loss: 0.14330\n",
      "    ➤ Avg Value Loss: 0.00133\n",
      "    ➤ Avg Validation Loss: 2.36016\n",
      "    ➤ Avg Reward: 170.00\n",
      "Saving the model...\n",
      "Model saved to offline_rl_models/implicit_q_learning_iql/iql_logs/seaquest_expert/perturb20/iql_model_perturb20_seed3.pth\n",
      "Return Stats saved to offline_rl_models/implicit_q_learning_iql/iql_logs/seaquest_expert/perturb20/stats_perturb20.pkl\n",
      "----- Execution time: IQL - Expert | Perturbation 20% -----\n",
      "CPU times: total: 4h 26min 34s\n",
      "Wall time: 3h 43min 6s\n"
     ]
    }
   ],
   "source": [
    "%%time\n",
    "\n",
    "# IQL model -> Expert dataset, 20% perturbation\n",
    "train_and_evaluate_IQL(\n",
    "    dataloaders=dataloaders,\n",
    "    device=device,\n",
    "    seeds=SEEDS,\n",
    "    epochs=EPOCHS,\n",
    "    dataset='seaquest_expert_perturb20',\n",
    "    env_id=ENV_ID,\n",
    "    seed=SEED\n",
    ")\n",
    "\n",
    "print(\"----- Execution time: IQL - Expert | Perturbation 20% -----\")"
   ]
  }
 ],
 "metadata": {
  "kernelspec": {
   "display_name": "master-thesis-ai",
   "language": "python",
   "name": "python3"
  },
  "language_info": {
   "codemirror_mode": {
    "name": "ipython",
    "version": 3
   },
   "file_extension": ".py",
   "mimetype": "text/x-python",
   "name": "python",
   "nbconvert_exporter": "python",
   "pygments_lexer": "ipython3",
   "version": "3.10.8"
  }
 },
 "nbformat": 4,
 "nbformat_minor": 2
}

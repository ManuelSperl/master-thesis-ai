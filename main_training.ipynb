{
 "cells": [
  {
   "cell_type": "markdown",
   "metadata": {},
   "source": [
    "# Train Agents\n"
   ]
  },
  {
   "cell_type": "code",
   "execution_count": 1,
   "metadata": {},
   "outputs": [],
   "source": [
    "import os\n",
    "import torch\n",
    "from tqdm import tqdm\n",
    "import numpy as np\n",
    "from stable_baselines3 import DQN\n",
    "import warnings\n",
    "import pandas as pd\n",
    "import gc  # Import garbage collector module\n",
    "\n",
    "warnings.filterwarnings(\"ignore\")"
   ]
  },
  {
   "cell_type": "code",
   "execution_count": 2,
   "metadata": {},
   "outputs": [],
   "source": [
    "# ensure the module is re-imported after changes\n",
    "import importlib\n",
    "\n",
    "import datasets.dataset_utils\n",
    "importlib.reload(datasets.dataset_utils)\n",
    "\n",
    "from datasets.dataset_utils import set_all_seeds, create_environment, load_dataset, preprocess_and_split, create_dataloaders, inspect_dataset_sample, load_and_prepare_dataset"
   ]
  },
  {
   "cell_type": "code",
   "execution_count": 4,
   "metadata": {},
   "outputs": [],
   "source": [
    "# ensure the module is re-imported after changes\n",
    "import importlib\n",
    "\n",
    "import agent_methods.behavioral_cloning_bc.bc_utils\n",
    "importlib.reload(agent_methods.behavioral_cloning_bc.bc_utils)\n",
    "\n",
    "from agent_methods.behavioral_cloning_bc.bc_utils import train_and_evaluate_BC\n",
    "\n",
    "import agent_methods.implicit_q_learning_iql.iql_utils\n",
    "importlib.reload(agent_methods.implicit_q_learning_iql.iql_utils)\n",
    "\n",
    "from agent_methods.implicit_q_learning_iql.iql_utils import train_and_evaluate_IQL\n",
    "\n",
    "import agent_methods.behavior_value_estimation_bve.bve_utils\n",
    "importlib.reload(agent_methods.behavior_value_estimation_bve.bve_utils)\n",
    "\n",
    "from agent_methods.behavior_value_estimation_bve.bve_utils import train_and_evaluate_BVE"
   ]
  },
  {
   "cell_type": "code",
   "execution_count": 5,
   "metadata": {},
   "outputs": [],
   "source": [
    "SEED = 12345\n",
    "ENV_ID = 'SeaquestNoFrameskip-v4'\n",
    "EPOCHS = 10\n",
    "SEEDS = 3\n",
    "BATCH_SIZE = 64"
   ]
  },
  {
   "cell_type": "code",
   "execution_count": 6,
   "metadata": {},
   "outputs": [
    {
     "name": "stdout",
     "output_type": "stream",
     "text": [
      "Device: cuda\n"
     ]
    }
   ],
   "source": [
    "# set seed for reproducability\n",
    "set_all_seeds(SEED)\n",
    "\n",
    "# force PyTorch to use CPU\n",
    "device = \"cuda\" if torch.cuda.is_available() else \"cpu\"\n",
    "print(f\"Device: {device}\")\n",
    "\n",
    "# initialize enviornment\n",
    "env = create_environment(env_id=ENV_ID, seed=SEED)"
   ]
  },
  {
   "cell_type": "markdown",
   "metadata": {},
   "source": [
    "# Training all agents on: Beginner Dataset"
   ]
  },
  {
   "cell_type": "markdown",
   "metadata": {},
   "source": [
    "### 0% Perturbation"
   ]
  },
  {
   "cell_type": "code",
   "execution_count": null,
   "metadata": {},
   "outputs": [
    {
     "name": "stdout",
     "output_type": "stream",
     "text": [
      "=== Loading seaquest_beginner_perturb0 dataset ===\n",
      "Preprocessing and splitting seaquest_beginner_perturb0 dataset...\n",
      "Creating dataloaders for seaquest_beginner_perturb0...\n",
      "✅ Dataloaders ready for: seaquest_beginner_perturb0\n",
      "dict_keys(['train', 'test', 'tuning'])\n"
     ]
    }
   ],
   "source": [
    "dataloaders = load_and_prepare_dataset(\n",
    "    dataset_path='datasets/beginner_logs/seaquest_beginner_perturb0.pkl',\n",
    "    batch_size=BATCH_SIZE,\n",
    "    seed=SEED\n",
    ")\n",
    "\n",
    "print(dataloaders.keys())"
   ]
  },
  {
   "cell_type": "markdown",
   "metadata": {},
   "source": [
    "## BC"
   ]
  },
  {
   "cell_type": "code",
   "execution_count": null,
   "metadata": {},
   "outputs": [
    {
     "name": "stdout",
     "output_type": "stream",
     "text": [
      "Training BC on seaquest_beginner_perturb0\n",
      "-- Starting Seed 1/3 --\n"
     ]
    },
    {
     "name": "stderr",
     "output_type": "stream",
     "text": [
      "Epochs: 100%|██████████| 10/10 [57:38<00:00, 345.80s/it]\n"
     ]
    },
    {
     "name": "stdout",
     "output_type": "stream",
     "text": [
      "Finished Training on seaquest_beginner_perturb0\n",
      "    ➤ Avg Train Loss: -1.68118\n",
      "    ➤ Avg Test Loss: -1.71870\n",
      "    ➤ Avg Reward: 262.00\n",
      "Model saved to agent_methods/behavioral_cloning_bc/bc_logs/seaquest_beginner/perturb0/bc_model_perturb0.pth\n",
      "-- Starting Seed 2/3 --\n"
     ]
    },
    {
     "name": "stderr",
     "output_type": "stream",
     "text": [
      "Epochs: 100%|██████████| 10/10 [57:16<00:00, 343.67s/it]\n"
     ]
    },
    {
     "name": "stdout",
     "output_type": "stream",
     "text": [
      "Finished Training on seaquest_beginner_perturb0\n",
      "    ➤ Avg Train Loss: -1.67643\n",
      "    ➤ Avg Test Loss: -1.89362\n",
      "    ➤ Avg Reward: 248.00\n",
      "-- Starting Seed 3/3 --\n"
     ]
    },
    {
     "name": "stderr",
     "output_type": "stream",
     "text": [
      "Epochs: 100%|██████████| 10/10 [57:05<00:00, 342.55s/it]\n"
     ]
    },
    {
     "name": "stdout",
     "output_type": "stream",
     "text": [
      "Finished Training on seaquest_beginner_perturb0\n",
      "    ➤ Avg Train Loss: -1.69835\n",
      "    ➤ Avg Test Loss: -1.67948\n",
      "    ➤ Avg Reward: 260.00\n",
      "Return Stats saved to agent_methods/behavioral_cloning_bc/bc_logs/seaquest_beginner/perturb0/stats_perturb0.pkl\n",
      "----- Execution time: BC - Beginner | Perturbation 0% -----\n",
      "CPU times: total: 3h 31min 37s\n",
      "Wall time: 2h 52min 8s\n"
     ]
    }
   ],
   "source": [
    "%%time\n",
    "\n",
    "# train and evaluate the BC model on the Beginner dataset with 0% perturbation\n",
    "train_and_evaluate_BC(\n",
    "    dataloaders=dataloaders,\n",
    "    device=device,\n",
    "    seeds=SEEDS,\n",
    "    epochs=EPOCHS,\n",
    "    dataset='seaquest_beginner_perturb0',\n",
    "    env_id=ENV_ID,\n",
    "    seed=SEED\n",
    ")\n",
    "\n",
    "# print execution time it took to train the model\n",
    "print(\"----- Execution time: BC - Beginner | Perturbation 0% -----\")"
   ]
  },
  {
   "cell_type": "markdown",
   "metadata": {},
   "source": [
    "## IQL"
   ]
  },
  {
   "cell_type": "code",
   "execution_count": 7,
   "metadata": {},
   "outputs": [
    {
     "name": "stdout",
     "output_type": "stream",
     "text": [
      "Training IQL on seaquest_beginner_perturb0\n",
      "-- Starting Seed 1/3 --\n"
     ]
    },
    {
     "name": "stderr",
     "output_type": "stream",
     "text": [
      "Epochs: 100%|██████████| 10/10 [1:08:44<00:00, 412.45s/it]\n"
     ]
    },
    {
     "name": "stdout",
     "output_type": "stream",
     "text": [
      "Finished Training on seaquest_beginner_perturb0\n",
      "    ➤ Avg Actor Loss: -0.46661\n",
      "    ➤ Avg Critic1 Loss: -1.67099\n",
      "    ➤ Avg Critic2 Loss: -1.63494\n",
      "    ➤ Avg Value Loss: -2.27581\n",
      "    ➤ Avg Test Loss: -0.39819\n",
      "    ➤ Avg Reward: 210.27\n",
      "Model saved to agent_methods/implicit_q_learning_iql/iql_logs/seaquest_beginner/perturb0/iql_model_perturb0.pth\n",
      "-- Starting Seed 2/3 --\n"
     ]
    },
    {
     "name": "stderr",
     "output_type": "stream",
     "text": [
      "Epochs: 100%|██████████| 10/10 [1:05:57<00:00, 395.72s/it]\n"
     ]
    },
    {
     "name": "stdout",
     "output_type": "stream",
     "text": [
      "Finished Training on seaquest_beginner_perturb0\n",
      "    ➤ Avg Actor Loss: -0.45320\n",
      "    ➤ Avg Critic1 Loss: -1.70217\n",
      "    ➤ Avg Critic2 Loss: -1.68298\n",
      "    ➤ Avg Value Loss: -2.28281\n",
      "    ➤ Avg Test Loss: -0.38992\n",
      "    ➤ Avg Reward: 232.00\n",
      "-- Starting Seed 3/3 --\n"
     ]
    },
    {
     "name": "stderr",
     "output_type": "stream",
     "text": [
      "Epochs: 100%|██████████| 10/10 [1:07:14<00:00, 403.49s/it]\n"
     ]
    },
    {
     "name": "stdout",
     "output_type": "stream",
     "text": [
      "Finished Training on seaquest_beginner_perturb0\n",
      "    ➤ Avg Actor Loss: -0.50819\n",
      "    ➤ Avg Critic1 Loss: -1.70487\n",
      "    ➤ Avg Critic2 Loss: -1.66206\n",
      "    ➤ Avg Value Loss: -2.32156\n",
      "    ➤ Avg Test Loss: -0.38967\n",
      "    ➤ Avg Reward: 222.00\n",
      "Return Stats saved to agent_methods/implicit_q_learning_iql/iql_logs/seaquest_beginner/perturb0/stats_perturb0.pkl\n",
      "----- Execution time: IQL - Beginner | Perturbation 0% -----\n",
      "CPU times: total: 4h 10s\n",
      "Wall time: 3h 22min 9s\n"
     ]
    }
   ],
   "source": [
    "%%time\n",
    "\n",
    "# train and evaluate the IQL model on the Beginner dataset with 0% perturbation\n",
    "train_and_evaluate_IQL(\n",
    "    dataloaders=dataloaders,\n",
    "    device=device,\n",
    "    seeds=SEEDS,\n",
    "    epochs=EPOCHS,\n",
    "    dataset='seaquest_beginner_perturb0',\n",
    "    env_id=ENV_ID,\n",
    "    seed=SEED\n",
    ")\n",
    "\n",
    "# print execution time it took to train the model\n",
    "print(\"----- Execution time: IQL - Beginner | Perturbation 0% -----\") "
   ]
  },
  {
   "cell_type": "markdown",
   "metadata": {},
   "source": [
    "## BVE"
   ]
  },
  {
   "cell_type": "code",
   "execution_count": 7,
   "metadata": {},
   "outputs": [
    {
     "name": "stdout",
     "output_type": "stream",
     "text": [
      "Training BVE on seaquest_beginner_perturb0\n",
      "-- Starting Seed 1/3 --\n"
     ]
    },
    {
     "name": "stderr",
     "output_type": "stream",
     "text": [
      "Epochs: 100%|██████████| 10/10 [1:06:23<00:00, 398.39s/it]\n"
     ]
    },
    {
     "name": "stdout",
     "output_type": "stream",
     "text": [
      "Finished Training on seaquest_beginner_perturb0\n",
      "    ➤ Avg Train Loss: -1.56911\n",
      "    ➤ Avg Test Loss: -1.46587\n",
      "    ➤ Avg Reward: 20.00\n",
      "Saved model to agent_methods/behavior_value_estimation_bve/bve_logs/seaquest_beginner/perturb0/bve_model_perturb0.pth\n",
      "-- Starting Seed 2/3 --\n"
     ]
    },
    {
     "name": "stderr",
     "output_type": "stream",
     "text": [
      "Epochs: 100%|██████████| 10/10 [1:06:35<00:00, 399.51s/it]\n"
     ]
    },
    {
     "name": "stdout",
     "output_type": "stream",
     "text": [
      "Finished Training on seaquest_beginner_perturb0\n",
      "    ➤ Avg Train Loss: -1.61088\n",
      "    ➤ Avg Test Loss: -1.50807\n",
      "    ➤ Avg Reward: 0.00\n",
      "-- Starting Seed 3/3 --\n"
     ]
    },
    {
     "name": "stderr",
     "output_type": "stream",
     "text": [
      "Epochs: 100%|██████████| 10/10 [1:06:33<00:00, 399.30s/it]\n"
     ]
    },
    {
     "name": "stdout",
     "output_type": "stream",
     "text": [
      "Finished Training on seaquest_beginner_perturb0\n",
      "    ➤ Avg Train Loss: -1.56141\n",
      "    ➤ Avg Test Loss: -1.48893\n",
      "    ➤ Avg Reward: 44.00\n",
      "Saved stats to agent_methods/behavior_value_estimation_bve/bve_logs/seaquest_beginner/perturb0/stats_perturb0.pkl\n",
      "----- Execution time: BVE - Beginner | Perturbation 0% -----\n",
      "CPU times: total: 3h 55min 46s\n",
      "Wall time: 3h 19min 41s\n"
     ]
    }
   ],
   "source": [
    "%%time\n",
    "\n",
    "# train and evaluate the BVE model on the Beginner dataset with 0% perturbation\n",
    "train_and_evaluate_BVE(\n",
    "    dataloaders=dataloaders,\n",
    "    device=device,\n",
    "    seeds=SEEDS,\n",
    "    epochs=EPOCHS,\n",
    "    dataset='seaquest_beginner_perturb0',\n",
    "    env_id=ENV_ID,\n",
    "    seed=SEED\n",
    ")\n",
    "\n",
    "# print execution time it took to train the model\n",
    "print(\"----- Execution time: BVE - Beginner | Perturbation 0% -----\")"
   ]
  },
  {
   "cell_type": "markdown",
   "metadata": {},
   "source": [
    "-----------------------------"
   ]
  },
  {
   "cell_type": "markdown",
   "metadata": {},
   "source": [
    "### 5% Perturbation"
   ]
  },
  {
   "cell_type": "code",
   "execution_count": 7,
   "metadata": {},
   "outputs": [
    {
     "name": "stdout",
     "output_type": "stream",
     "text": [
      "=== Loading seaquest_beginner_perturb5 dataset ===\n",
      "Preprocessing and splitting seaquest_beginner_perturb5 dataset...\n",
      "Creating dataloaders for seaquest_beginner_perturb5...\n",
      "✅ Dataloaders ready for: seaquest_beginner_perturb5\n",
      "dict_keys(['train', 'test', 'tuning'])\n"
     ]
    }
   ],
   "source": [
    "dataloaders = load_and_prepare_dataset(\n",
    "    dataset_path='datasets/beginner_logs/seaquest_beginner_perturb5.pkl',\n",
    "    batch_size=BATCH_SIZE,\n",
    "    seed=SEED\n",
    ")\n",
    "\n",
    "print(dataloaders.keys())"
   ]
  },
  {
   "cell_type": "markdown",
   "metadata": {},
   "source": [
    "## BC"
   ]
  },
  {
   "cell_type": "code",
   "execution_count": null,
   "metadata": {},
   "outputs": [
    {
     "name": "stdout",
     "output_type": "stream",
     "text": [
      "Training BC on seaquest_beginner_perturb5\n",
      "-- Starting Seed 1/3 --\n"
     ]
    },
    {
     "name": "stderr",
     "output_type": "stream",
     "text": [
      "Epochs: 100%|██████████| 10/10 [55:00<00:00, 330.07s/it]\n"
     ]
    },
    {
     "name": "stdout",
     "output_type": "stream",
     "text": [
      "Finished Training on seaquest_beginner_perturb5\n",
      "    ➤ Avg Train Loss: -0.20687\n",
      "    ➤ Avg Test Loss: -0.03602\n",
      "    ➤ Avg Reward: 266.00\n",
      "Model saved to agent_methods/behavioral_cloning_bc/bc_logs/seaquest_beginner/perturb5/bc_model_perturb5.pth\n",
      "-- Starting Seed 2/3 --\n"
     ]
    },
    {
     "name": "stderr",
     "output_type": "stream",
     "text": [
      "Epochs: 100%|██████████| 10/10 [54:55<00:00, 329.50s/it]\n"
     ]
    },
    {
     "name": "stdout",
     "output_type": "stream",
     "text": [
      "Finished Training on seaquest_beginner_perturb5\n",
      "    ➤ Avg Train Loss: -0.19231\n",
      "    ➤ Avg Test Loss: -0.03501\n",
      "    ➤ Avg Reward: 258.40\n",
      "-- Starting Seed 3/3 --\n"
     ]
    },
    {
     "name": "stderr",
     "output_type": "stream",
     "text": [
      "Epochs: 100%|██████████| 10/10 [54:33<00:00, 327.35s/it]\n"
     ]
    },
    {
     "name": "stdout",
     "output_type": "stream",
     "text": [
      "Finished Training on seaquest_beginner_perturb5\n",
      "    ➤ Avg Train Loss: -0.21610\n",
      "    ➤ Avg Test Loss: -0.02573\n",
      "    ➤ Avg Reward: 252.00\n",
      "Return Stats saved to agent_methods/behavioral_cloning_bc/bc_logs/seaquest_beginner/perturb5/stats_perturb5.pkl\n",
      "----- Execution time: BC - Beginner | Perturbation 5% -----\n",
      "CPU times: total: 3h 24min 4s\n",
      "Wall time: 2h 44min 36s\n"
     ]
    }
   ],
   "source": [
    "%%time\n",
    "\n",
    "# train and evaluate the BC model on the Beginner dataset with 5% perturbation\n",
    "train_and_evaluate_BC(\n",
    "    dataloaders=dataloaders,\n",
    "    device=device,\n",
    "    seeds=SEEDS,\n",
    "    epochs=EPOCHS,\n",
    "    dataset='seaquest_beginner_perturb5',\n",
    "    env_id=ENV_ID,\n",
    "    seed=SEED\n",
    ")\n",
    "\n",
    "# print execution time it took to train the model\n",
    "print(\"----- Execution time: BC - Beginner | Perturbation 5% -----\")"
   ]
  },
  {
   "cell_type": "markdown",
   "metadata": {},
   "source": [
    "## IQL"
   ]
  },
  {
   "cell_type": "code",
   "execution_count": 7,
   "metadata": {},
   "outputs": [
    {
     "name": "stdout",
     "output_type": "stream",
     "text": [
      "Training IQL on seaquest_beginner_perturb5\n",
      "-- Starting Seed 1/3 --\n"
     ]
    },
    {
     "name": "stderr",
     "output_type": "stream",
     "text": [
      "Epochs: 100%|██████████| 10/10 [1:06:08<00:00, 396.81s/it]\n"
     ]
    },
    {
     "name": "stdout",
     "output_type": "stream",
     "text": [
      "Finished Training on seaquest_beginner_perturb5\n",
      "    ➤ Avg Actor Loss: -0.94095\n",
      "    ➤ Avg Critic1 Loss: -2.42957\n",
      "    ➤ Avg Critic2 Loss: -2.44215\n",
      "    ➤ Avg Value Loss: -3.31282\n",
      "    ➤ Avg Test Loss: 0.08829\n",
      "    ➤ Avg Reward: 236.00\n",
      "Model saved to agent_methods/implicit_q_learning_iql/iql_logs/seaquest_beginner/perturb5/iql_model_perturb5.pth\n",
      "-- Starting Seed 2/3 --\n"
     ]
    },
    {
     "name": "stderr",
     "output_type": "stream",
     "text": [
      "Epochs: 100%|██████████| 10/10 [1:05:52<00:00, 395.26s/it]\n"
     ]
    },
    {
     "name": "stdout",
     "output_type": "stream",
     "text": [
      "Finished Training on seaquest_beginner_perturb5\n",
      "    ➤ Avg Actor Loss: -0.84263\n",
      "    ➤ Avg Critic1 Loss: -2.41529\n",
      "    ➤ Avg Critic2 Loss: -2.40645\n",
      "    ➤ Avg Value Loss: -3.28561\n",
      "    ➤ Avg Test Loss: 0.08608\n",
      "    ➤ Avg Reward: 246.00\n",
      "-- Starting Seed 3/3 --\n"
     ]
    },
    {
     "name": "stderr",
     "output_type": "stream",
     "text": [
      "Epochs: 100%|██████████| 10/10 [1:06:35<00:00, 399.56s/it]\n"
     ]
    },
    {
     "name": "stdout",
     "output_type": "stream",
     "text": [
      "Finished Training on seaquest_beginner_perturb5\n",
      "    ➤ Avg Actor Loss: -0.71577\n",
      "    ➤ Avg Critic1 Loss: -2.36511\n",
      "    ➤ Avg Critic2 Loss: -2.35986\n",
      "    ➤ Avg Value Loss: -3.29700\n",
      "    ➤ Avg Test Loss: 0.07744\n",
      "    ➤ Avg Reward: 228.00\n",
      "Return Stats saved to agent_methods/implicit_q_learning_iql/iql_logs/seaquest_beginner/perturb5/stats_perturb5.pkl\n",
      "----- Execution time: IQL - Beginner | Perturbation 5% -----\n",
      "CPU times: total: 3h 56min 31s\n",
      "Wall time: 3h 18min 48s\n"
     ]
    }
   ],
   "source": [
    "%%time\n",
    "\n",
    "# train and evaluate the IQL model on the Beginner dataset with 5% perturbation\n",
    "train_and_evaluate_IQL(\n",
    "    dataloaders=dataloaders,\n",
    "    device=device,\n",
    "    seeds=SEEDS,\n",
    "    epochs=EPOCHS,\n",
    "    dataset='seaquest_beginner_perturb5',\n",
    "    env_id=ENV_ID,\n",
    "    seed=SEED\n",
    ")\n",
    "\n",
    "# print execution time it took to train the model\n",
    "print(\"----- Execution time: IQL - Beginner | Perturbation 5% -----\") "
   ]
  },
  {
   "cell_type": "markdown",
   "metadata": {},
   "source": [
    "## BVE"
   ]
  },
  {
   "cell_type": "code",
   "execution_count": 7,
   "metadata": {},
   "outputs": [
    {
     "name": "stdout",
     "output_type": "stream",
     "text": [
      "Training BVE on seaquest_beginner_perturb5\n",
      "-- Starting Seed 1/3 --\n"
     ]
    },
    {
     "name": "stderr",
     "output_type": "stream",
     "text": [
      "Epochs: 100%|██████████| 10/10 [1:06:00<00:00, 396.09s/it]\n"
     ]
    },
    {
     "name": "stdout",
     "output_type": "stream",
     "text": [
      "Finished Training on seaquest_beginner_perturb5\n",
      "    ➤ Avg Train Loss: -2.26127\n",
      "    ➤ Avg Test Loss: -2.25012\n",
      "    ➤ Avg Reward: 0.00\n",
      "Saved model to agent_methods/behavior_value_estimation_bve/bve_logs/seaquest_beginner/perturb5/bve_model_perturb5.pth\n",
      "-- Starting Seed 2/3 --\n"
     ]
    },
    {
     "name": "stderr",
     "output_type": "stream",
     "text": [
      "Epochs: 100%|██████████| 10/10 [1:08:11<00:00, 409.12s/it]\n"
     ]
    },
    {
     "name": "stdout",
     "output_type": "stream",
     "text": [
      "Finished Training on seaquest_beginner_perturb5\n",
      "    ➤ Avg Train Loss: -2.31078\n",
      "    ➤ Avg Test Loss: -2.30306\n",
      "    ➤ Avg Reward: 0.00\n",
      "-- Starting Seed 3/3 --\n"
     ]
    },
    {
     "name": "stderr",
     "output_type": "stream",
     "text": [
      "Epochs: 100%|██████████| 10/10 [1:08:05<00:00, 408.55s/it]\n"
     ]
    },
    {
     "name": "stdout",
     "output_type": "stream",
     "text": [
      "Finished Training on seaquest_beginner_perturb5\n",
      "    ➤ Avg Train Loss: -2.14594\n",
      "    ➤ Avg Test Loss: -2.05492\n",
      "    ➤ Avg Reward: 0.00\n",
      "Saved stats to agent_methods/behavior_value_estimation_bve/bve_logs/seaquest_beginner/perturb5/stats_perturb5.pkl\n",
      "----- Execution time: BVE - Beginner | Perturbation 5% -----\n",
      "CPU times: total: 3h 56min 32s\n",
      "Wall time: 3h 22min 28s\n"
     ]
    }
   ],
   "source": [
    "%%time\n",
    "\n",
    "# train and evaluate the BVE model on the Beginner dataset with 5% perturbation\n",
    "train_and_evaluate_BVE(\n",
    "    dataloaders=dataloaders,\n",
    "    device=device,\n",
    "    seeds=SEEDS,\n",
    "    epochs=EPOCHS,\n",
    "    dataset='seaquest_beginner_perturb5',\n",
    "    env_id=ENV_ID,\n",
    "    seed=SEED\n",
    ")\n",
    "\n",
    "# print execution time it took to train the model\n",
    "print(\"----- Execution time: BVE - Beginner | Perturbation 5% -----\")"
   ]
  },
  {
   "cell_type": "markdown",
   "metadata": {},
   "source": [
    "-----------------"
   ]
  },
  {
   "cell_type": "markdown",
   "metadata": {},
   "source": [
    "### 10% Perturbation"
   ]
  },
  {
   "cell_type": "code",
   "execution_count": 6,
   "metadata": {},
   "outputs": [
    {
     "name": "stdout",
     "output_type": "stream",
     "text": [
      "=== Loading seaquest_beginner_perturb10 dataset ===\n",
      "Preprocessing and splitting seaquest_beginner_perturb10 dataset...\n",
      "Creating dataloaders for seaquest_beginner_perturb10...\n",
      "✅ Dataloaders ready for: seaquest_beginner_perturb10\n",
      "dict_keys(['seaquest_beginner_perturb10'])\n"
     ]
    }
   ],
   "source": [
    "dataloaders = load_and_prepare_dataset(\n",
    "    dataset_path='datasets/beginner_logs/seaquest_beginner_perturb10.pkl',\n",
    "    batch_size=BATCH_SIZE,\n",
    "    seed=SEED\n",
    ")\n",
    "\n",
    "print(dataloaders.keys())"
   ]
  },
  {
   "cell_type": "markdown",
   "metadata": {},
   "source": [
    "## BC"
   ]
  },
  {
   "cell_type": "code",
   "execution_count": 8,
   "metadata": {},
   "outputs": [
    {
     "name": "stdout",
     "output_type": "stream",
     "text": [
      "Training BC on seaquest_beginner_perturb10\n",
      "-- Starting Seed 1/3 --\n"
     ]
    },
    {
     "name": "stderr",
     "output_type": "stream",
     "text": [
      "Epochs: 100%|██████████| 10/10 [56:55<00:00, 341.57s/it]\n"
     ]
    },
    {
     "name": "stdout",
     "output_type": "stream",
     "text": [
      "Finished Training on seaquest_beginner_perturb10\n",
      "    ➤ Avg Train Loss: -0.05753\n",
      "    ➤ Avg Test Loss: 0.09269\n",
      "    ➤ Avg Reward: 256.00\n",
      "Model saved to agent_methods/behavioral_cloning_bc/bc_logs/seaquest_beginner/perturb10/bc_model_perturb10.pth\n",
      "-- Starting Seed 2/3 --\n"
     ]
    },
    {
     "name": "stderr",
     "output_type": "stream",
     "text": [
      "Epochs: 100%|██████████| 10/10 [56:47<00:00, 340.71s/it]\n"
     ]
    },
    {
     "name": "stdout",
     "output_type": "stream",
     "text": [
      "Finished Training on seaquest_beginner_perturb10\n",
      "    ➤ Avg Train Loss: -0.06202\n",
      "    ➤ Avg Test Loss: 0.09579\n",
      "    ➤ Avg Reward: 256.00\n",
      "-- Starting Seed 3/3 --\n"
     ]
    },
    {
     "name": "stderr",
     "output_type": "stream",
     "text": [
      "Epochs: 100%|██████████| 10/10 [56:00<00:00, 336.07s/it]\n"
     ]
    },
    {
     "name": "stdout",
     "output_type": "stream",
     "text": [
      "Finished Training on seaquest_beginner_perturb10\n",
      "    ➤ Avg Train Loss: -0.06067\n",
      "    ➤ Avg Test Loss: 0.09879\n",
      "    ➤ Avg Reward: 260.00\n",
      "Return Stats saved to agent_methods/behavioral_cloning_bc/bc_logs/seaquest_beginner/perturb10/stats_perturb10.pkl\n",
      "----- Execution time: BC - Beginner | Perturbation 10% -----\n",
      "CPU times: total: 3h 27min 33s\n",
      "Wall time: 2h 49min 51s\n"
     ]
    }
   ],
   "source": [
    "%%time\n",
    "\n",
    "# train and evaluate the BC model on the Beginner dataset with 10% perturbation\n",
    "train_and_evaluate_BC(\n",
    "    dataloaders=dataloaders,\n",
    "    device=device,\n",
    "    seeds=SEEDS,\n",
    "    epochs=EPOCHS,\n",
    "    dataset='seaquest_beginner_perturb10',\n",
    "    env_id=ENV_ID,\n",
    "    seed=SEED\n",
    ")\n",
    "\n",
    "# print execution time it took to train the model\n",
    "print(\"----- Execution time: BC - Beginner | Perturbation 10% -----\")"
   ]
  },
  {
   "cell_type": "markdown",
   "metadata": {},
   "source": [
    "## IQL"
   ]
  },
  {
   "cell_type": "code",
   "execution_count": 7,
   "metadata": {},
   "outputs": [
    {
     "name": "stdout",
     "output_type": "stream",
     "text": [
      "Training IQL on seaquest_beginner_perturb10\n",
      "-- Starting Seed 1/3 --\n"
     ]
    },
    {
     "name": "stderr",
     "output_type": "stream",
     "text": [
      "Epochs: 100%|██████████| 10/10 [1:04:27<00:00, 386.79s/it]\n"
     ]
    },
    {
     "name": "stdout",
     "output_type": "stream",
     "text": [
      "Finished Training on seaquest_beginner_perturb10\n",
      "    ➤ Avg Actor Loss: -0.81557\n",
      "    ➤ Avg Critic1 Loss: -2.40869\n",
      "    ➤ Avg Critic2 Loss: -2.40088\n",
      "    ➤ Avg Value Loss: -3.32256\n",
      "    ➤ Avg Test Loss: 0.16868\n",
      "    ➤ Avg Reward: 234.00\n",
      "Model saved to agent_methods/implicit_q_learning_iql/iql_logs/seaquest_beginner/perturb10/iql_model_perturb10.pth\n",
      "-- Starting Seed 2/3 --\n"
     ]
    },
    {
     "name": "stderr",
     "output_type": "stream",
     "text": [
      "Epochs: 100%|██████████| 10/10 [1:05:29<00:00, 392.90s/it]\n"
     ]
    },
    {
     "name": "stdout",
     "output_type": "stream",
     "text": [
      "Finished Training on seaquest_beginner_perturb10\n",
      "    ➤ Avg Actor Loss: -0.74422\n",
      "    ➤ Avg Critic1 Loss: -2.38240\n",
      "    ➤ Avg Critic2 Loss: -2.37378\n",
      "    ➤ Avg Value Loss: -3.25866\n",
      "    ➤ Avg Test Loss: 0.16652\n",
      "    ➤ Avg Reward: 214.00\n",
      "-- Starting Seed 3/3 --\n"
     ]
    },
    {
     "name": "stderr",
     "output_type": "stream",
     "text": [
      "Epochs: 100%|██████████| 10/10 [1:07:17<00:00, 403.72s/it]\n"
     ]
    },
    {
     "name": "stdout",
     "output_type": "stream",
     "text": [
      "Finished Training on seaquest_beginner_perturb10\n",
      "    ➤ Avg Actor Loss: -0.58591\n",
      "    ➤ Avg Critic1 Loss: -2.31838\n",
      "    ➤ Avg Critic2 Loss: -2.31469\n",
      "    ➤ Avg Value Loss: -3.25519\n",
      "    ➤ Avg Test Loss: 0.15643\n",
      "    ➤ Avg Reward: 242.00\n",
      "Return Stats saved to agent_methods/implicit_q_learning_iql/iql_logs/seaquest_beginner/perturb10/stats_perturb10.pkl\n",
      "----- Execution time: IQL - Beginner | Perturbation 10% -----\n",
      "CPU times: total: 3h 53min 37s\n",
      "Wall time: 3h 17min 27s\n"
     ]
    }
   ],
   "source": [
    "%%time\n",
    "\n",
    "# train and evaluate the IQL model on the Beginner dataset with 10% perturbation\n",
    "train_and_evaluate_IQL(\n",
    "    dataloaders=dataloaders,\n",
    "    device=device,\n",
    "    seeds=SEEDS,\n",
    "    epochs=EPOCHS,\n",
    "    dataset='seaquest_beginner_perturb10',\n",
    "    env_id=ENV_ID,\n",
    "    seed=SEED\n",
    ")\n",
    "\n",
    "# print execution time it took to train the model\n",
    "print(\"----- Execution time: IQL - Beginner | Perturbation 10% -----\") "
   ]
  },
  {
   "cell_type": "markdown",
   "metadata": {},
   "source": [
    "## BVE"
   ]
  },
  {
   "cell_type": "code",
   "execution_count": 7,
   "metadata": {},
   "outputs": [
    {
     "name": "stdout",
     "output_type": "stream",
     "text": [
      "Training BVE on seaquest_beginner_perturb10\n",
      "-- Starting Seed 1/3 --\n"
     ]
    },
    {
     "name": "stderr",
     "output_type": "stream",
     "text": [
      "Epochs: 100%|██████████| 10/10 [1:05:35<00:00, 393.60s/it]\n"
     ]
    },
    {
     "name": "stdout",
     "output_type": "stream",
     "text": [
      "Finished Training on seaquest_beginner_perturb10\n",
      "    ➤ Avg Train Loss: -2.23228\n",
      "    ➤ Avg Test Loss: -2.08859\n",
      "    ➤ Avg Reward: 0.00\n",
      "Saved model to agent_methods/behavior_value_estimation_bve/bve_logs/seaquest_beginner/perturb10/bve_model_perturb10.pth\n",
      "-- Starting Seed 2/3 --\n"
     ]
    },
    {
     "name": "stderr",
     "output_type": "stream",
     "text": [
      "Epochs: 100%|██████████| 10/10 [1:06:16<00:00, 397.70s/it]\n"
     ]
    },
    {
     "name": "stdout",
     "output_type": "stream",
     "text": [
      "Finished Training on seaquest_beginner_perturb10\n",
      "    ➤ Avg Train Loss: -2.27569\n",
      "    ➤ Avg Test Loss: -2.19120\n",
      "    ➤ Avg Reward: 0.00\n",
      "-- Starting Seed 3/3 --\n"
     ]
    },
    {
     "name": "stderr",
     "output_type": "stream",
     "text": [
      "Epochs: 100%|██████████| 10/10 [1:06:37<00:00, 399.75s/it]\n"
     ]
    },
    {
     "name": "stdout",
     "output_type": "stream",
     "text": [
      "Finished Training on seaquest_beginner_perturb10\n",
      "    ➤ Avg Train Loss: -2.18774\n",
      "    ➤ Avg Test Loss: -2.14127\n",
      "    ➤ Avg Reward: 0.00\n",
      "Saved stats to agent_methods/behavior_value_estimation_bve/bve_logs/seaquest_beginner/perturb10/stats_perturb10.pkl\n",
      "----- Execution time: BVE - Beginner | Perturbation 10% -----\n",
      "CPU times: total: 3h 52min 34s\n",
      "Wall time: 3h 18min 40s\n"
     ]
    }
   ],
   "source": [
    "%%time\n",
    "\n",
    "# train and evaluate the BVE model on the Beginner dataset with 10% perturbation\n",
    "train_and_evaluate_BVE(\n",
    "    dataloaders=dataloaders,\n",
    "    device=device,\n",
    "    seeds=SEEDS,\n",
    "    epochs=EPOCHS,\n",
    "    dataset='seaquest_beginner_perturb10',\n",
    "    env_id=ENV_ID,\n",
    "    seed=SEED\n",
    ")\n",
    "\n",
    "# print execution time it took to train the model\n",
    "print(\"----- Execution time: BVE - Beginner | Perturbation 10% -----\")"
   ]
  },
  {
   "cell_type": "markdown",
   "metadata": {},
   "source": [
    "-----------------"
   ]
  },
  {
   "cell_type": "markdown",
   "metadata": {},
   "source": [
    "### 20% Perturbation"
   ]
  },
  {
   "cell_type": "code",
   "execution_count": 6,
   "metadata": {},
   "outputs": [
    {
     "name": "stdout",
     "output_type": "stream",
     "text": [
      "=== Loading seaquest_beginner_perturb20 dataset ===\n",
      "Preprocessing and splitting seaquest_beginner_perturb20 dataset...\n",
      "Creating dataloaders for seaquest_beginner_perturb20...\n",
      "✅ Dataloaders ready for: seaquest_beginner_perturb20\n",
      "dict_keys(['seaquest_beginner_perturb20'])\n"
     ]
    }
   ],
   "source": [
    "dataloaders = load_and_prepare_dataset(\n",
    "    dataset_path='datasets/beginner_logs/seaquest_beginner_perturb20.pkl',\n",
    "    batch_size=BATCH_SIZE,\n",
    "    seed=SEED\n",
    ")\n",
    "\n",
    "print(dataloaders.keys())"
   ]
  },
  {
   "cell_type": "markdown",
   "metadata": {},
   "source": [
    "## BC"
   ]
  },
  {
   "cell_type": "code",
   "execution_count": 7,
   "metadata": {},
   "outputs": [
    {
     "name": "stdout",
     "output_type": "stream",
     "text": [
      "Training BC on seaquest_beginner_perturb20\n",
      "-- Starting Seed 1/3 --\n"
     ]
    },
    {
     "name": "stderr",
     "output_type": "stream",
     "text": [
      "Epochs: 100%|██████████| 10/10 [52:42<00:00, 316.30s/it]\n"
     ]
    },
    {
     "name": "stdout",
     "output_type": "stream",
     "text": [
      "Finished Training on seaquest_beginner_perturb20\n",
      "    ➤ Avg Train Loss: 0.09098\n",
      "    ➤ Avg Test Loss: 0.23155\n",
      "    ➤ Avg Reward: 234.00\n",
      "Model saved to agent_methods/behavioral_cloning_bc/bc_logs/seaquest_beginner/perturb20/bc_model_perturb20.pth\n",
      "-- Starting Seed 2/3 --\n"
     ]
    },
    {
     "name": "stderr",
     "output_type": "stream",
     "text": [
      "Epochs: 100%|██████████| 10/10 [1:29:18<00:00, 535.88s/it]\n"
     ]
    },
    {
     "name": "stdout",
     "output_type": "stream",
     "text": [
      "Finished Training on seaquest_beginner_perturb20\n",
      "    ➤ Avg Train Loss: 0.09116\n",
      "    ➤ Avg Test Loss: 0.23004\n",
      "    ➤ Avg Reward: 252.00\n",
      "-- Starting Seed 3/3 --\n"
     ]
    },
    {
     "name": "stderr",
     "output_type": "stream",
     "text": [
      "Epochs: 100%|██████████| 10/10 [1:00:53<00:00, 365.31s/it]\n"
     ]
    },
    {
     "name": "stdout",
     "output_type": "stream",
     "text": [
      "Finished Training on seaquest_beginner_perturb20\n",
      "    ➤ Avg Train Loss: 0.08593\n",
      "    ➤ Avg Test Loss: 0.23636\n",
      "    ➤ Avg Reward: 244.00\n",
      "Return Stats saved to agent_methods/behavioral_cloning_bc/bc_logs/seaquest_beginner/perturb20/stats_perturb20.pkl\n",
      "----- Execution time: BC - Beginner | Perturbation 20% -----\n",
      "CPU times: total: 3h 59min 17s\n",
      "Wall time: 3h 23min 3s\n"
     ]
    }
   ],
   "source": [
    "%%time\n",
    "\n",
    "# train and evaluate the BC model on the Beginner dataset with 20% perturbation\n",
    "train_and_evaluate_BC(\n",
    "    dataloaders=dataloaders,\n",
    "    device=device,\n",
    "    seeds=SEEDS,\n",
    "    epochs=EPOCHS,\n",
    "    dataset='seaquest_beginner_perturb20',\n",
    "    env_id=ENV_ID,\n",
    "    seed=SEED\n",
    ")\n",
    "\n",
    "# print execution time it took to train the model\n",
    "print(\"----- Execution time: BC - Beginner | Perturbation 20% -----\")"
   ]
  },
  {
   "cell_type": "markdown",
   "metadata": {},
   "source": [
    "## IQL"
   ]
  },
  {
   "cell_type": "code",
   "execution_count": 7,
   "metadata": {},
   "outputs": [
    {
     "name": "stdout",
     "output_type": "stream",
     "text": [
      "Training IQL on seaquest_beginner_perturb20\n",
      "-- Starting Seed 1/3 --\n"
     ]
    },
    {
     "name": "stderr",
     "output_type": "stream",
     "text": [
      "Epochs: 100%|██████████| 10/10 [1:04:27<00:00, 386.77s/it]\n"
     ]
    },
    {
     "name": "stdout",
     "output_type": "stream",
     "text": [
      "Finished Training on seaquest_beginner_perturb20\n",
      "    ➤ Avg Actor Loss: -0.66980\n",
      "    ➤ Avg Critic1 Loss: -2.38932\n",
      "    ➤ Avg Critic2 Loss: -2.39880\n",
      "    ➤ Avg Value Loss: -3.32326\n",
      "    ➤ Avg Test Loss: 0.26007\n",
      "    ➤ Avg Reward: 216.00\n",
      "Model saved to agent_methods/implicit_q_learning_iql/iql_logs/seaquest_beginner/perturb20/iql_model_perturb20.pth\n",
      "-- Starting Seed 2/3 --\n"
     ]
    },
    {
     "name": "stderr",
     "output_type": "stream",
     "text": [
      "Epochs: 100%|██████████| 10/10 [1:05:04<00:00, 390.45s/it]\n"
     ]
    },
    {
     "name": "stdout",
     "output_type": "stream",
     "text": [
      "Finished Training on seaquest_beginner_perturb20\n",
      "    ➤ Avg Actor Loss: -0.81070\n",
      "    ➤ Avg Critic1 Loss: -2.44431\n",
      "    ➤ Avg Critic2 Loss: -2.43619\n",
      "    ➤ Avg Value Loss: -3.34523\n",
      "    ➤ Avg Test Loss: 0.25729\n",
      "    ➤ Avg Reward: 242.00\n",
      "-- Starting Seed 3/3 --\n"
     ]
    },
    {
     "name": "stderr",
     "output_type": "stream",
     "text": [
      "Epochs: 100%|██████████| 10/10 [1:06:28<00:00, 398.82s/it]\n"
     ]
    },
    {
     "name": "stdout",
     "output_type": "stream",
     "text": [
      "Finished Training on seaquest_beginner_perturb20\n",
      "    ➤ Avg Actor Loss: -0.60481\n",
      "    ➤ Avg Critic1 Loss: -2.37869\n",
      "    ➤ Avg Critic2 Loss: -2.36903\n",
      "    ➤ Avg Value Loss: -3.34906\n",
      "    ➤ Avg Test Loss: 0.25173\n",
      "    ➤ Avg Reward: 226.00\n",
      "Return Stats saved to agent_methods/implicit_q_learning_iql/iql_logs/seaquest_beginner/perturb20/stats_perturb20.pkl\n",
      "----- Execution time: IQL - Beginner | Perturbation 20% -----\n",
      "CPU times: total: 3h 52min 38s\n",
      "Wall time: 3h 16min 13s\n"
     ]
    }
   ],
   "source": [
    "%%time\n",
    "\n",
    "# train and evaluate the IQL model on the Beginner dataset with 20% perturbation\n",
    "train_and_evaluate_IQL(\n",
    "    dataloaders=dataloaders,\n",
    "    device=device,\n",
    "    seeds=SEEDS,\n",
    "    epochs=EPOCHS,\n",
    "    dataset='seaquest_beginner_perturb20',\n",
    "    env_id=ENV_ID,\n",
    "    seed=SEED\n",
    ")\n",
    "\n",
    "# print execution time it took to train the model\n",
    "print(\"----- Execution time: IQL - Beginner | Perturbation 20% -----\") "
   ]
  },
  {
   "cell_type": "markdown",
   "metadata": {},
   "source": [
    "## BVE"
   ]
  },
  {
   "cell_type": "code",
   "execution_count": 7,
   "metadata": {},
   "outputs": [
    {
     "name": "stdout",
     "output_type": "stream",
     "text": [
      "Training BVE on seaquest_beginner_perturb20\n",
      "-- Starting Seed 1/3 --\n"
     ]
    },
    {
     "name": "stderr",
     "output_type": "stream",
     "text": [
      "Epochs: 100%|██████████| 10/10 [1:07:06<00:00, 402.65s/it]\n"
     ]
    },
    {
     "name": "stdout",
     "output_type": "stream",
     "text": [
      "Finished Training on seaquest_beginner_perturb20\n",
      "    ➤ Avg Train Loss: -2.25355\n",
      "    ➤ Avg Test Loss: -2.09426\n",
      "    ➤ Avg Reward: 0.00\n",
      "Saved model to agent_methods/behavior_value_estimation_bve/bve_logs/seaquest_beginner/perturb20/bve_model_perturb20.pth\n",
      "-- Starting Seed 2/3 --\n"
     ]
    },
    {
     "name": "stderr",
     "output_type": "stream",
     "text": [
      "Epochs: 100%|██████████| 10/10 [1:05:43<00:00, 394.36s/it]\n"
     ]
    },
    {
     "name": "stdout",
     "output_type": "stream",
     "text": [
      "Finished Training on seaquest_beginner_perturb20\n",
      "    ➤ Avg Train Loss: -2.22645\n",
      "    ➤ Avg Test Loss: -2.06080\n",
      "    ➤ Avg Reward: 0.00\n",
      "-- Starting Seed 3/3 --\n"
     ]
    },
    {
     "name": "stderr",
     "output_type": "stream",
     "text": [
      "Epochs: 100%|██████████| 10/10 [1:06:24<00:00, 398.48s/it]\n"
     ]
    },
    {
     "name": "stdout",
     "output_type": "stream",
     "text": [
      "Finished Training on seaquest_beginner_perturb20\n",
      "    ➤ Avg Train Loss: -2.14737\n",
      "    ➤ Avg Test Loss: -1.97296\n",
      "    ➤ Avg Reward: 0.00\n",
      "Saved stats to agent_methods/behavior_value_estimation_bve/bve_logs/seaquest_beginner/perturb20/stats_perturb20.pkl\n",
      "----- Execution time: BVE - Beginner | Perturbation 20% -----\n",
      "CPU times: total: 3h 54min 18s\n",
      "Wall time: 3h 19min 25s\n"
     ]
    }
   ],
   "source": [
    "%%time\n",
    "\n",
    "# train and evaluate the BVE model on the Beginner dataset with 20% perturbation\n",
    "train_and_evaluate_BVE(\n",
    "    dataloaders=dataloaders,\n",
    "    device=device,\n",
    "    seeds=SEEDS,\n",
    "    epochs=EPOCHS,\n",
    "    dataset='seaquest_beginner_perturb20',\n",
    "    env_id=ENV_ID,\n",
    "    seed=SEED\n",
    ")\n",
    "\n",
    "# print execution time it took to train the model\n",
    "print(\"----- Execution time: BVE - Beginner | Perturbation 20% -----\")"
   ]
  },
  {
   "cell_type": "markdown",
   "metadata": {},
   "source": [
    "------------------"
   ]
  },
  {
   "cell_type": "markdown",
   "metadata": {},
   "source": [
    "# Training all agents on: Intermediate Dataset"
   ]
  },
  {
   "cell_type": "markdown",
   "metadata": {},
   "source": [
    "### 0% Perturbation"
   ]
  },
  {
   "cell_type": "code",
   "execution_count": 7,
   "metadata": {},
   "outputs": [
    {
     "name": "stdout",
     "output_type": "stream",
     "text": [
      "=== Loading seaquest_intermediate_perturb0 dataset ===\n",
      "Preprocessing and splitting seaquest_intermediate_perturb0 dataset...\n",
      "Creating dataloaders for seaquest_intermediate_perturb0...\n",
      "✅ Dataloaders ready for: seaquest_intermediate_perturb0\n",
      "dict_keys(['seaquest_intermediate_perturb0'])\n"
     ]
    }
   ],
   "source": [
    "dataloaders = load_and_prepare_dataset(\n",
    "    dataset_path='datasets/intermediate_logs/seaquest_intermediate_perturb0.pkl',\n",
    "    batch_size=BATCH_SIZE,\n",
    "    seed=SEED\n",
    ")\n",
    "\n",
    "print(dataloaders.keys())"
   ]
  },
  {
   "cell_type": "markdown",
   "metadata": {},
   "source": [
    "## BC"
   ]
  },
  {
   "cell_type": "code",
   "execution_count": 7,
   "metadata": {},
   "outputs": [
    {
     "name": "stdout",
     "output_type": "stream",
     "text": [
      "Training BC on seaquest_intermediate_perturb0\n",
      "-- Starting Seed 1/3 --\n"
     ]
    },
    {
     "name": "stderr",
     "output_type": "stream",
     "text": [
      "Epochs: 100%|██████████| 10/10 [56:16<00:00, 337.68s/it]\n"
     ]
    },
    {
     "name": "stdout",
     "output_type": "stream",
     "text": [
      "Finished Training on seaquest_intermediate_perturb0\n",
      "    ➤ Avg Train Loss: -3.03064\n",
      "    ➤ Avg Test Loss: -3.34562\n",
      "    ➤ Avg Reward: 358.00\n",
      "Model saved to agent_methods/behavioral_cloning_bc/bc_logs/seaquest_intermediate/perturb0/bc_model_perturb0.pth\n",
      "-- Starting Seed 2/3 --\n"
     ]
    },
    {
     "name": "stderr",
     "output_type": "stream",
     "text": [
      "Epochs: 100%|██████████| 10/10 [55:40<00:00, 334.09s/it]\n"
     ]
    },
    {
     "name": "stdout",
     "output_type": "stream",
     "text": [
      "Finished Training on seaquest_intermediate_perturb0\n",
      "    ➤ Avg Train Loss: -2.99913\n",
      "    ➤ Avg Test Loss: -3.30587\n",
      "    ➤ Avg Reward: 344.00\n",
      "-- Starting Seed 3/3 --\n"
     ]
    },
    {
     "name": "stderr",
     "output_type": "stream",
     "text": [
      "Epochs: 100%|██████████| 10/10 [55:52<00:00, 335.27s/it]\n"
     ]
    },
    {
     "name": "stdout",
     "output_type": "stream",
     "text": [
      "Finished Training on seaquest_intermediate_perturb0\n",
      "    ➤ Avg Train Loss: -2.84021\n",
      "    ➤ Avg Test Loss: -2.97219\n",
      "    ➤ Avg Reward: 310.00\n",
      "Return Stats saved to agent_methods/behavioral_cloning_bc/bc_logs/seaquest_intermediate/perturb0/stats_perturb0.pkl\n",
      "----- Execution time: BC - Intermediate | Perturbation 0% -----\n",
      "CPU times: total: 3h 27min 6s\n",
      "Wall time: 2h 47min 57s\n"
     ]
    }
   ],
   "source": [
    "%%time\n",
    "\n",
    "# train and evaluate the BC model on the Intermediate dataset with 0% perturbation\n",
    "train_and_evaluate_BC(\n",
    "    dataloaders=dataloaders,\n",
    "    device=device,\n",
    "    seeds=SEEDS,\n",
    "    epochs=EPOCHS,\n",
    "    dataset='seaquest_intermediate_perturb0',\n",
    "    env_id=ENV_ID,\n",
    "    seed=SEED\n",
    ")\n",
    "\n",
    "# print execution time it took to train the model\n",
    "print(\"----- Execution time: BC - Intermediate | Perturbation 0% -----\")"
   ]
  },
  {
   "cell_type": "markdown",
   "metadata": {},
   "source": [
    "## IQL"
   ]
  },
  {
   "cell_type": "code",
   "execution_count": 7,
   "metadata": {},
   "outputs": [
    {
     "name": "stdout",
     "output_type": "stream",
     "text": [
      "Training IQL on seaquest_intermediate_perturb0\n",
      "-- Starting Seed 1/3 --\n"
     ]
    },
    {
     "name": "stderr",
     "output_type": "stream",
     "text": [
      "Epochs: 100%|██████████| 10/10 [1:04:07<00:00, 384.78s/it]\n"
     ]
    },
    {
     "name": "stdout",
     "output_type": "stream",
     "text": [
      "Finished Training on seaquest_intermediate_perturb0\n",
      "    ➤ Avg Actor Loss: 0.38233\n",
      "    ➤ Avg Critic1 Loss: -1.10483\n",
      "    ➤ Avg Critic2 Loss: -1.10999\n",
      "    ➤ Avg Value Loss: -1.61832\n",
      "    ➤ Avg Test Loss: -0.57688\n",
      "    ➤ Avg Reward: 174.00\n",
      "Model saved to agent_methods/implicit_q_learning_iql/iql_logs/seaquest_intermediate/perturb0/iql_model_perturb0.pth\n",
      "-- Starting Seed 2/3 --\n"
     ]
    },
    {
     "name": "stderr",
     "output_type": "stream",
     "text": [
      "Epochs: 100%|██████████| 10/10 [1:03:51<00:00, 383.14s/it]\n"
     ]
    },
    {
     "name": "stdout",
     "output_type": "stream",
     "text": [
      "Finished Training on seaquest_intermediate_perturb0\n",
      "    ➤ Avg Actor Loss: 0.49039\n",
      "    ➤ Avg Critic1 Loss: -1.13186\n",
      "    ➤ Avg Critic2 Loss: -1.12787\n",
      "    ➤ Avg Value Loss: -1.58814\n",
      "    ➤ Avg Test Loss: -0.62337\n",
      "    ➤ Avg Reward: 156.00\n",
      "-- Starting Seed 3/3 --\n"
     ]
    },
    {
     "name": "stderr",
     "output_type": "stream",
     "text": [
      "Epochs: 100%|██████████| 10/10 [1:06:35<00:00, 399.59s/it]\n"
     ]
    },
    {
     "name": "stdout",
     "output_type": "stream",
     "text": [
      "Finished Training on seaquest_intermediate_perturb0\n",
      "    ➤ Avg Actor Loss: 0.27473\n",
      "    ➤ Avg Critic1 Loss: -1.20798\n",
      "    ➤ Avg Critic2 Loss: -1.13456\n",
      "    ➤ Avg Value Loss: -1.64877\n",
      "    ➤ Avg Test Loss: -0.60901\n",
      "    ➤ Avg Reward: 164.00\n",
      "Return Stats saved to agent_methods/implicit_q_learning_iql/iql_logs/seaquest_intermediate/perturb0/stats_perturb0.pkl\n",
      "----- Execution time: IQL - Intermediate | Perturbation 0% -----\n",
      "CPU times: total: 3h 52min\n",
      "Wall time: 3h 14min 47s\n"
     ]
    }
   ],
   "source": [
    "%%time\n",
    "\n",
    "# train and evaluate the IQL model on the Intermediate dataset with 0% perturbation\n",
    "train_and_evaluate_IQL(\n",
    "    dataloaders=dataloaders,\n",
    "    device=device,\n",
    "    seeds=SEEDS,\n",
    "    epochs=EPOCHS,\n",
    "    dataset='seaquest_intermediate_perturb0',\n",
    "    env_id=ENV_ID,\n",
    "    seed=SEED\n",
    ")\n",
    "\n",
    "# print execution time it took to train the model\n",
    "print(\"----- Execution time: IQL - Intermediate | Perturbation 0% -----\") "
   ]
  },
  {
   "cell_type": "markdown",
   "metadata": {},
   "source": [
    "## BVE"
   ]
  },
  {
   "cell_type": "code",
   "execution_count": 8,
   "metadata": {},
   "outputs": [
    {
     "name": "stdout",
     "output_type": "stream",
     "text": [
      "Training BVE on seaquest_intermediate_perturb0\n",
      "-- Starting Seed 1/3 --\n"
     ]
    },
    {
     "name": "stderr",
     "output_type": "stream",
     "text": [
      "Epochs: 100%|██████████| 10/10 [1:05:50<00:00, 395.01s/it]\n"
     ]
    },
    {
     "name": "stdout",
     "output_type": "stream",
     "text": [
      "Finished Training on seaquest_intermediate_perturb0\n",
      "    ➤ Avg Train Loss: -1.05895\n",
      "    ➤ Avg Test Loss: -0.98404\n",
      "    ➤ Avg Reward: 90.00\n",
      "Saved model to agent_methods/behavior_value_estimation_bve/bve_logs/seaquest_intermediate/perturb0/bve_model_perturb0.pth\n",
      "-- Starting Seed 2/3 --\n"
     ]
    },
    {
     "name": "stderr",
     "output_type": "stream",
     "text": [
      "Epochs: 100%|██████████| 10/10 [1:17:28<00:00, 464.88s/it]\n"
     ]
    },
    {
     "name": "stdout",
     "output_type": "stream",
     "text": [
      "Finished Training on seaquest_intermediate_perturb0\n",
      "    ➤ Avg Train Loss: -1.10359\n",
      "    ➤ Avg Test Loss: -1.05455\n",
      "    ➤ Avg Reward: 100.00\n",
      "-- Starting Seed 3/3 --\n"
     ]
    },
    {
     "name": "stderr",
     "output_type": "stream",
     "text": [
      "Epochs: 100%|██████████| 10/10 [1:19:31<00:00, 477.19s/it]\n"
     ]
    },
    {
     "name": "stdout",
     "output_type": "stream",
     "text": [
      "Finished Training on seaquest_intermediate_perturb0\n",
      "    ➤ Avg Train Loss: -1.12968\n",
      "    ➤ Avg Test Loss: -1.04024\n",
      "    ➤ Avg Reward: 100.00\n",
      "Saved stats to agent_methods/behavior_value_estimation_bve/bve_logs/seaquest_intermediate/perturb0/stats_perturb0.pkl\n",
      "----- Execution time: BVE - Intermediate | Perturbation 0% -----\n",
      "CPU times: total: 4h 22min 45s\n",
      "Wall time: 3h 43min\n"
     ]
    }
   ],
   "source": [
    "%%time\n",
    "\n",
    "# train and evaluate the BVE model on the Intermediate dataset with 0% perturbation\n",
    "train_and_evaluate_BVE(\n",
    "    dataloaders=dataloaders,\n",
    "    device=device,\n",
    "    seeds=SEEDS,\n",
    "    epochs=EPOCHS,\n",
    "    dataset='seaquest_intermediate_perturb0',\n",
    "    env_id=ENV_ID,\n",
    "    seed=SEED\n",
    ")\n",
    "\n",
    "# print execution time it took to train the model\n",
    "print(\"----- Execution time: BVE - Intermediate | Perturbation 0% -----\")"
   ]
  },
  {
   "cell_type": "markdown",
   "metadata": {},
   "source": [
    "-----------------------------"
   ]
  },
  {
   "cell_type": "markdown",
   "metadata": {},
   "source": [
    "### 5% Perturbation"
   ]
  },
  {
   "cell_type": "code",
   "execution_count": null,
   "metadata": {},
   "outputs": [],
   "source": []
  },
  {
   "cell_type": "markdown",
   "metadata": {},
   "source": [
    "## BC"
   ]
  },
  {
   "cell_type": "code",
   "execution_count": null,
   "metadata": {},
   "outputs": [],
   "source": []
  },
  {
   "cell_type": "markdown",
   "metadata": {},
   "source": [
    "## IQL"
   ]
  },
  {
   "cell_type": "code",
   "execution_count": null,
   "metadata": {},
   "outputs": [],
   "source": []
  },
  {
   "cell_type": "markdown",
   "metadata": {},
   "source": [
    "## BVE"
   ]
  },
  {
   "cell_type": "code",
   "execution_count": null,
   "metadata": {},
   "outputs": [],
   "source": []
  },
  {
   "cell_type": "markdown",
   "metadata": {},
   "source": [
    "-----------------"
   ]
  },
  {
   "cell_type": "markdown",
   "metadata": {},
   "source": [
    "### 10% Perturbation"
   ]
  },
  {
   "cell_type": "code",
   "execution_count": null,
   "metadata": {},
   "outputs": [],
   "source": []
  },
  {
   "cell_type": "markdown",
   "metadata": {},
   "source": [
    "----------------"
   ]
  },
  {
   "cell_type": "markdown",
   "metadata": {},
   "source": [
    "# Training all agents on: Expert Dataset"
   ]
  },
  {
   "cell_type": "markdown",
   "metadata": {},
   "source": [
    "### 0% Perturbation"
   ]
  },
  {
   "cell_type": "code",
   "execution_count": null,
   "metadata": {},
   "outputs": [],
   "source": []
  }
 ],
 "metadata": {
  "kernelspec": {
   "display_name": "master-thesis-ai",
   "language": "python",
   "name": "python3"
  },
  "language_info": {
   "codemirror_mode": {
    "name": "ipython",
    "version": 3
   },
   "file_extension": ".py",
   "mimetype": "text/x-python",
   "name": "python",
   "nbconvert_exporter": "python",
   "pygments_lexer": "ipython3",
   "version": "3.10.8"
  }
 },
 "nbformat": 4,
 "nbformat_minor": 2
}
